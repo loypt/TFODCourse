{
 "cells": [
  {
   "cell_type": "markdown",
   "metadata": {
    "collapsed": true,
    "pycharm": {
     "name": "#%% md\n"
    }
   },
   "source": [
    "## 0. Setup Paths"
   ]
  },
  {
   "cell_type": "code",
   "execution_count": 1,
   "outputs": [],
   "source": [
    "import os"
   ],
   "metadata": {
    "collapsed": false,
    "pycharm": {
     "name": "#%%\n"
    }
   }
  },
  {
   "cell_type": "code",
   "execution_count": 2,
   "outputs": [],
   "source": [
    "CUSTOM_MODEL_NAME = 'my_ssd_mobnet'\n",
    "PRETRAINED_MODEL_NAME = 'ssd_mobilenet_v2_fpnlite_320x320_coco17_tpu-8'\n",
    "PRETRAINED_MODEL_URL = 'http://download.tensorflow.org/models/object_detection/tf2/20200711/ssd_mobilenet_v2_fpnlite_320x320_coco17_tpu-8.tar.gz'\n",
    "TF_RECORD_SCRIPT_NAME = 'generate_tfrecord.py'\n",
    "LABEL_MAP_NAME = 'label_map.pbtxt'"
   ],
   "metadata": {
    "collapsed": false,
    "pycharm": {
     "name": "#%%\n"
    }
   }
  },
  {
   "cell_type": "code",
   "execution_count": 3,
   "outputs": [],
   "source": [
    "paths = {\n",
    "    'WORKSPACE_PATH': os.path.join('Tensorflow', 'workspace'),\n",
    "    'SCRIPTS_PATH': os.path.join('Tensorflow', 'scripts'),\n",
    "    'APIMODEL_PATH': os.path.join('Tensorflow', 'models'),\n",
    "    'ANNOTATION_PATH': os.path.join('Tensorflow', 'workspace', 'annotations'),\n",
    "    'IMAGE_PATH': os.path.join('Tensorflow', 'workspace', 'image'),\n",
    "    'MODEL_PATH': os.path.join('Tensorflow', 'workspace','models'),\n",
    "    'PRETRAINED_MODEL_PATH': os.path.join('Tensorflow', 'workspace','pre-trained-models'),\n",
    "    'CHECKPOINT_PATH': os.path.join('Tensorflow', 'workspace','models',CUSTOM_MODEL_NAME),\n",
    "    'OUTPUT_PATH': os.path.join('Tensorflow', 'workspace','models',CUSTOM_MODEL_NAME, 'export'),\n",
    "    'TFJS_PATH':os.path.join('Tensorflow', 'workspace','models',CUSTOM_MODEL_NAME, 'tfjsexport'),\n",
    "    'TFLITE_PATH':os.path.join('Tensorflow', 'workspace','models',CUSTOM_MODEL_NAME, 'tfliteexport'),\n",
    "    'PROTOC_PATH':os.path.join('Tensorflow','protoc')\n",
    "}"
   ],
   "metadata": {
    "collapsed": false,
    "pycharm": {
     "name": "#%%\n"
    }
   }
  },
  {
   "cell_type": "code",
   "execution_count": 4,
   "outputs": [],
   "source": [
    "files = {\n",
    "    'PIPELINE_CONFIG': os.path.join('Tensorflow', 'workspace', 'models', CUSTOM_MODEL_NAME, 'pipelin.config'),\n",
    "    'TF_RECORD_SCRIPT': os.path.join(paths['SCRIPTS_PATH'], TF_RECORD_SCRIPT_NAME),\n",
    "    'LABELMAP': os.path.join(paths['ANNOTATION_PATH'])\n",
    "}"
   ],
   "metadata": {
    "collapsed": false,
    "pycharm": {
     "name": "#%%\n"
    }
   }
  },
  {
   "cell_type": "code",
   "execution_count": 5,
   "outputs": [],
   "source": [
    "for path in paths.values():\n",
    "    if not os.path.exists(path):\n",
    "        if os.name == 'posix':\n",
    "            !mkdir -p {path}\n",
    "        if os.name == 'nt':\n",
    "            !mkdir {path}"
   ],
   "metadata": {
    "collapsed": false,
    "pycharm": {
     "name": "#%%\n"
    }
   }
  },
  {
   "cell_type": "markdown",
   "source": [
    "## 1. Download TF Models Pretrained Models from Tensorflow Model Zoo and Install TFOD"
   ],
   "metadata": {
    "collapsed": false,
    "pycharm": {
     "name": "#%% md\n"
    }
   }
  },
  {
   "cell_type": "code",
   "execution_count": 6,
   "outputs": [
    {
     "name": "stdout",
     "output_type": "stream",
     "text": [
      "Requirement already satisfied: wget in /Users/loyio/miniforge3/envs/tfod/lib/python3.9/site-packages (3.2)\r\n"
     ]
    }
   ],
   "source": [
    "!pip install wget"
   ],
   "metadata": {
    "collapsed": false,
    "pycharm": {
     "name": "#%%\n"
    }
   }
  },
  {
   "cell_type": "code",
   "execution_count": 7,
   "outputs": [],
   "source": [
    "import wget"
   ],
   "metadata": {
    "collapsed": false,
    "pycharm": {
     "name": "#%%\n"
    }
   }
  },
  {
   "cell_type": "code",
   "execution_count": 8,
   "outputs": [],
   "source": [
    "if not os.path.exists(os.path.join(paths['APIMODEL_PATH'], 'research', 'object_detection')):\n",
    "    !git clone https://github.com/tensorflow/models {paths['APIMODEL_PATH']}"
   ],
   "metadata": {
    "collapsed": false,
    "pycharm": {
     "name": "#%%\n"
    }
   }
  },
  {
   "cell_type": "code",
   "execution_count": 9,
   "outputs": [
    {
     "name": "stdout",
     "output_type": "stream",
     "text": [
      "Processing /Users/loyio/TFOD/TFODCourse/Tensorflow/models/research\r\n",
      "  Preparing metadata (setup.py) ... \u001B[?25ldone\r\n",
      "\u001B[?25hRequirement already satisfied: avro-python3 in /Users/loyio/miniforge3/envs/tfod/lib/python3.9/site-packages (from object-detection==0.1) (1.10.2)\r\n",
      "Requirement already satisfied: apache-beam in /Users/loyio/miniforge3/envs/tfod/lib/python3.9/site-packages (from object-detection==0.1) (2.36.0)\r\n",
      "Requirement already satisfied: pillow in /Users/loyio/miniforge3/envs/tfod/lib/python3.9/site-packages (from object-detection==0.1) (9.0.1)\r\n",
      "Requirement already satisfied: lxml in /Users/loyio/miniforge3/envs/tfod/lib/python3.9/site-packages (from object-detection==0.1) (4.8.0)\r\n",
      "Requirement already satisfied: matplotlib in /Users/loyio/miniforge3/envs/tfod/lib/python3.9/site-packages (from object-detection==0.1) (3.2.0)\r\n",
      "Requirement already satisfied: Cython in /Users/loyio/miniforge3/envs/tfod/lib/python3.9/site-packages (from object-detection==0.1) (0.29.28)\r\n",
      "Requirement already satisfied: contextlib2 in /Users/loyio/miniforge3/envs/tfod/lib/python3.9/site-packages (from object-detection==0.1) (21.6.0)\r\n",
      "Requirement already satisfied: tf-slim in /Users/loyio/miniforge3/envs/tfod/lib/python3.9/site-packages (from object-detection==0.1) (1.1.0)\r\n",
      "Requirement already satisfied: six in /Users/loyio/miniforge3/envs/tfod/lib/python3.9/site-packages (from object-detection==0.1) (1.16.0)\r\n",
      "Requirement already satisfied: pycocotools in /Users/loyio/miniforge3/envs/tfod/lib/python3.9/site-packages (from object-detection==0.1) (2.0.4)\r\n",
      "Requirement already satisfied: lvis in /Users/loyio/miniforge3/envs/tfod/lib/python3.9/site-packages (from object-detection==0.1) (0.5.3)\r\n",
      "Requirement already satisfied: scipy in /Users/loyio/miniforge3/envs/tfod/lib/python3.9/site-packages (from object-detection==0.1) (1.8.0)\r\n",
      "Requirement already satisfied: pandas in /Users/loyio/miniforge3/envs/tfod/lib/python3.9/site-packages (from object-detection==0.1) (1.4.1)\r\n",
      "Requirement already satisfied: tf-models-official>=2.5.1 in /Users/loyio/miniforge3/envs/tfod/lib/python3.9/site-packages (from object-detection==0.1) (2.5.1)\r\n",
      "Requirement already satisfied: tensorflow_io in /Users/loyio/miniforge3/envs/tfod/lib/python3.9/site-packages (from object-detection==0.1) (0.24.0)\r\n",
      "Requirement already satisfied: keras in /Users/loyio/miniforge3/envs/tfod/lib/python3.9/site-packages (from object-detection==0.1) (2.7.0)\r\n",
      "Requirement already satisfied: gin-config in /Users/loyio/miniforge3/envs/tfod/lib/python3.9/site-packages (from tf-models-official>=2.5.1->object-detection==0.1) (0.5.0)\r\n",
      "Requirement already satisfied: numpy>=1.15.4 in /Users/loyio/miniforge3/envs/tfod/lib/python3.9/site-packages (from tf-models-official>=2.5.1->object-detection==0.1) (1.21.5)\r\n",
      "Requirement already satisfied: pyyaml>=5.1 in /Users/loyio/miniforge3/envs/tfod/lib/python3.9/site-packages (from tf-models-official>=2.5.1->object-detection==0.1) (6.0)\r\n",
      "Requirement already satisfied: tensorflow>=2.5.0 in /Users/loyio/miniforge3/envs/tfod/lib/python3.9/site-packages (from tf-models-official>=2.5.1->object-detection==0.1) (2.7.0)\r\n",
      "Requirement already satisfied: sentencepiece in /Users/loyio/miniforge3/envs/tfod/lib/python3.9/site-packages (from tf-models-official>=2.5.1->object-detection==0.1) (0.1.96)\r\n",
      "Requirement already satisfied: tensorflow-model-optimization>=0.4.1 in /Users/loyio/miniforge3/envs/tfod/lib/python3.9/site-packages (from tf-models-official>=2.5.1->object-detection==0.1) (0.7.1)\r\n",
      "Requirement already satisfied: kaggle>=1.3.9 in /Users/loyio/miniforge3/envs/tfod/lib/python3.9/site-packages (from tf-models-official>=2.5.1->object-detection==0.1) (1.5.12)\r\n",
      "Requirement already satisfied: opencv-python-headless in /Users/loyio/miniforge3/envs/tfod/lib/python3.9/site-packages (from tf-models-official>=2.5.1->object-detection==0.1) (4.5.5.62)\r\n",
      "Requirement already satisfied: tensorflow-addons in /Users/loyio/miniforge3/envs/tfod/lib/python3.9/site-packages (from tf-models-official>=2.5.1->object-detection==0.1) (0.16.1)\r\n",
      "Requirement already satisfied: oauth2client in /Users/loyio/miniforge3/envs/tfod/lib/python3.9/site-packages (from tf-models-official>=2.5.1->object-detection==0.1) (4.1.3)\r\n",
      "Requirement already satisfied: tensorflow-hub>=0.6.0 in /Users/loyio/miniforge3/envs/tfod/lib/python3.9/site-packages (from tf-models-official>=2.5.1->object-detection==0.1) (0.12.0)\r\n",
      "Requirement already satisfied: psutil>=5.4.3 in /Users/loyio/miniforge3/envs/tfod/lib/python3.9/site-packages (from tf-models-official>=2.5.1->object-detection==0.1) (5.9.0)\r\n",
      "Requirement already satisfied: google-api-python-client>=1.6.7 in /Users/loyio/miniforge3/envs/tfod/lib/python3.9/site-packages (from tf-models-official>=2.5.1->object-detection==0.1) (2.37.0)\r\n",
      "Requirement already satisfied: py-cpuinfo>=3.3.0 in /Users/loyio/miniforge3/envs/tfod/lib/python3.9/site-packages (from tf-models-official>=2.5.1->object-detection==0.1) (8.0.0)\r\n",
      "Requirement already satisfied: seqeval in /Users/loyio/miniforge3/envs/tfod/lib/python3.9/site-packages (from tf-models-official>=2.5.1->object-detection==0.1) (1.2.2)\r\n",
      "Requirement already satisfied: sacrebleu in /Users/loyio/miniforge3/envs/tfod/lib/python3.9/site-packages (from tf-models-official>=2.5.1->object-detection==0.1) (2.0.0)\r\n",
      "Requirement already satisfied: tensorflow-datasets in /Users/loyio/miniforge3/envs/tfod/lib/python3.9/site-packages (from tf-models-official>=2.5.1->object-detection==0.1) (4.5.2)\r\n",
      "Requirement already satisfied: pytz>=2020.1 in /Users/loyio/miniforge3/envs/tfod/lib/python3.9/site-packages (from pandas->object-detection==0.1) (2021.3)\r\n",
      "Requirement already satisfied: python-dateutil>=2.8.1 in /Users/loyio/miniforge3/envs/tfod/lib/python3.9/site-packages (from pandas->object-detection==0.1) (2.8.2)\r\n",
      "Requirement already satisfied: absl-py>=0.2.2 in /Users/loyio/miniforge3/envs/tfod/lib/python3.9/site-packages (from tf-slim->object-detection==0.1) (1.0.0)\r\n",
      "Requirement already satisfied: cloudpickle<3,>=2.0.0 in /Users/loyio/miniforge3/envs/tfod/lib/python3.9/site-packages (from apache-beam->object-detection==0.1) (2.0.0)\r\n",
      "Requirement already satisfied: orjson<4.0 in /Users/loyio/miniforge3/envs/tfod/lib/python3.9/site-packages (from apache-beam->object-detection==0.1) (3.6.7)\r\n",
      "Requirement already satisfied: requests<3.0.0,>=2.24.0 in /Users/loyio/miniforge3/envs/tfod/lib/python3.9/site-packages (from apache-beam->object-detection==0.1) (2.27.1)\r\n",
      "Requirement already satisfied: pyarrow<7.0.0,>=0.15.1 in /Users/loyio/miniforge3/envs/tfod/lib/python3.9/site-packages (from apache-beam->object-detection==0.1) (6.0.1)\r\n",
      "Requirement already satisfied: grpcio<2,>=1.29.0 in /Users/loyio/miniforge3/envs/tfod/lib/python3.9/site-packages (from apache-beam->object-detection==0.1) (1.42.0)\r\n",
      "Requirement already satisfied: dill<0.3.2,>=0.3.1.1 in /Users/loyio/miniforge3/envs/tfod/lib/python3.9/site-packages (from apache-beam->object-detection==0.1) (0.3.1.1)\r\n",
      "Requirement already satisfied: pydot<2,>=1.2.0 in /Users/loyio/miniforge3/envs/tfod/lib/python3.9/site-packages (from apache-beam->object-detection==0.1) (1.4.2)\r\n",
      "Requirement already satisfied: crcmod<2.0,>=1.7 in /Users/loyio/miniforge3/envs/tfod/lib/python3.9/site-packages (from apache-beam->object-detection==0.1) (1.7)\r\n",
      "Requirement already satisfied: httplib2<0.20.0,>=0.8 in /Users/loyio/miniforge3/envs/tfod/lib/python3.9/site-packages (from apache-beam->object-detection==0.1) (0.19.1)\r\n",
      "Requirement already satisfied: pymongo<4.0.0,>=3.8.0 in /Users/loyio/miniforge3/envs/tfod/lib/python3.9/site-packages (from apache-beam->object-detection==0.1) (3.12.3)\r\n",
      "Requirement already satisfied: protobuf<4,>=3.12.2 in /Users/loyio/miniforge3/envs/tfod/lib/python3.9/site-packages (from apache-beam->object-detection==0.1) (3.19.4)\r\n",
      "Requirement already satisfied: fastavro<2,>=0.21.4 in /Users/loyio/miniforge3/envs/tfod/lib/python3.9/site-packages (from apache-beam->object-detection==0.1) (1.4.9)\r\n",
      "Requirement already satisfied: typing-extensions>=3.7.0 in /Users/loyio/miniforge3/envs/tfod/lib/python3.9/site-packages (from apache-beam->object-detection==0.1) (4.1.1)\r\n",
      "Requirement already satisfied: proto-plus<2,>=1.7.1 in /Users/loyio/miniforge3/envs/tfod/lib/python3.9/site-packages (from apache-beam->object-detection==0.1) (1.20.3)\r\n",
      "Requirement already satisfied: hdfs<3.0.0,>=2.1.0 in /Users/loyio/miniforge3/envs/tfod/lib/python3.9/site-packages (from apache-beam->object-detection==0.1) (2.6.0)\r\n",
      "Requirement already satisfied: pyparsing>=2.4.0 in /Users/loyio/miniforge3/envs/tfod/lib/python3.9/site-packages (from lvis->object-detection==0.1) (2.4.7)\r\n",
      "Requirement already satisfied: opencv-python>=4.1.0.25 in /Users/loyio/miniforge3/envs/tfod/lib/python3.9/site-packages (from lvis->object-detection==0.1) (4.5.5.62)\r\n",
      "Requirement already satisfied: cycler>=0.10.0 in /Users/loyio/miniforge3/envs/tfod/lib/python3.9/site-packages (from lvis->object-detection==0.1) (0.11.0)\r\n",
      "Requirement already satisfied: kiwisolver>=1.1.0 in /Users/loyio/miniforge3/envs/tfod/lib/python3.9/site-packages (from lvis->object-detection==0.1) (1.3.2)\r\n",
      "Requirement already satisfied: tensorflow-io-gcs-filesystem==0.24.0 in /Users/loyio/miniforge3/envs/tfod/lib/python3.9/site-packages (from tensorflow_io->object-detection==0.1) (0.24.0)\r\n",
      "Requirement already satisfied: google-api-core<3.0.0dev,>=1.21.0 in /Users/loyio/miniforge3/envs/tfod/lib/python3.9/site-packages (from google-api-python-client>=1.6.7->tf-models-official>=2.5.1->object-detection==0.1) (2.5.0)\r\n",
      "Requirement already satisfied: uritemplate<5,>=3.0.1 in /Users/loyio/miniforge3/envs/tfod/lib/python3.9/site-packages (from google-api-python-client>=1.6.7->tf-models-official>=2.5.1->object-detection==0.1) (4.1.1)\r\n",
      "Requirement already satisfied: google-auth<3.0.0dev,>=1.16.0 in /Users/loyio/miniforge3/envs/tfod/lib/python3.9/site-packages (from google-api-python-client>=1.6.7->tf-models-official>=2.5.1->object-detection==0.1) (1.35.0)\r\n",
      "Requirement already satisfied: google-auth-httplib2>=0.1.0 in /Users/loyio/miniforge3/envs/tfod/lib/python3.9/site-packages (from google-api-python-client>=1.6.7->tf-models-official>=2.5.1->object-detection==0.1) (0.1.0)\r\n",
      "Requirement already satisfied: docopt in /Users/loyio/miniforge3/envs/tfod/lib/python3.9/site-packages (from hdfs<3.0.0,>=2.1.0->apache-beam->object-detection==0.1) (0.6.2)\r\n",
      "Requirement already satisfied: tqdm in /Users/loyio/miniforge3/envs/tfod/lib/python3.9/site-packages (from kaggle>=1.3.9->tf-models-official>=2.5.1->object-detection==0.1) (4.62.3)\r\n",
      "Requirement already satisfied: certifi in /Users/loyio/miniforge3/envs/tfod/lib/python3.9/site-packages (from kaggle>=1.3.9->tf-models-official>=2.5.1->object-detection==0.1) (2021.10.8)\r\n",
      "Requirement already satisfied: python-slugify in /Users/loyio/miniforge3/envs/tfod/lib/python3.9/site-packages (from kaggle>=1.3.9->tf-models-official>=2.5.1->object-detection==0.1) (6.0.1)\r\n",
      "Requirement already satisfied: urllib3 in /Users/loyio/miniforge3/envs/tfod/lib/python3.9/site-packages (from kaggle>=1.3.9->tf-models-official>=2.5.1->object-detection==0.1) (1.26.8)\r\n",
      "Requirement already satisfied: pyasn1-modules>=0.0.5 in /Users/loyio/miniforge3/envs/tfod/lib/python3.9/site-packages (from oauth2client->tf-models-official>=2.5.1->object-detection==0.1) (0.2.7)\r\n",
      "Requirement already satisfied: rsa>=3.1.4 in /Users/loyio/miniforge3/envs/tfod/lib/python3.9/site-packages (from oauth2client->tf-models-official>=2.5.1->object-detection==0.1) (4.8)\r\n",
      "Requirement already satisfied: pyasn1>=0.1.7 in /Users/loyio/miniforge3/envs/tfod/lib/python3.9/site-packages (from oauth2client->tf-models-official>=2.5.1->object-detection==0.1) (0.4.8)\r\n",
      "Requirement already satisfied: charset-normalizer~=2.0.0 in /Users/loyio/miniforge3/envs/tfod/lib/python3.9/site-packages (from requests<3.0.0,>=2.24.0->apache-beam->object-detection==0.1) (2.0.12)\r\n",
      "Requirement already satisfied: idna<4,>=2.5 in /Users/loyio/miniforge3/envs/tfod/lib/python3.9/site-packages (from requests<3.0.0,>=2.24.0->apache-beam->object-detection==0.1) (3.3)\r\n",
      "Requirement already satisfied: wrapt>=1.11.0 in /Users/loyio/miniforge3/envs/tfod/lib/python3.9/site-packages (from tensorflow>=2.5.0->tf-models-official>=2.5.1->object-detection==0.1) (1.13.3)\r\n",
      "Requirement already satisfied: h5py>=2.9.0 in /Users/loyio/miniforge3/envs/tfod/lib/python3.9/site-packages (from tensorflow>=2.5.0->tf-models-official>=2.5.1->object-detection==0.1) (3.6.0)\r\n",
      "Requirement already satisfied: gast<0.5.0,>=0.2.1 in /Users/loyio/miniforge3/envs/tfod/lib/python3.9/site-packages (from tensorflow>=2.5.0->tf-models-official>=2.5.1->object-detection==0.1) (0.4.0)\r\n",
      "Requirement already satisfied: tensorboard~=2.6 in /Users/loyio/miniforge3/envs/tfod/lib/python3.9/site-packages (from tensorflow>=2.5.0->tf-models-official>=2.5.1->object-detection==0.1) (2.6.0)\r\n",
      "Requirement already satisfied: keras-preprocessing>=1.1.1 in /Users/loyio/miniforge3/envs/tfod/lib/python3.9/site-packages (from tensorflow>=2.5.0->tf-models-official>=2.5.1->object-detection==0.1) (1.1.2)\r\n",
      "Requirement already satisfied: opt-einsum>=2.3.2 in /Users/loyio/miniforge3/envs/tfod/lib/python3.9/site-packages (from tensorflow>=2.5.0->tf-models-official>=2.5.1->object-detection==0.1) (3.3.0)\r\n",
      "Requirement already satisfied: flatbuffers<3.0,>=1.12 in /Users/loyio/miniforge3/envs/tfod/lib/python3.9/site-packages (from tensorflow>=2.5.0->tf-models-official>=2.5.1->object-detection==0.1) (2.0)\r\n",
      "Requirement already satisfied: tensorflow-estimator<2.8,~=2.7.0rc0 in /Users/loyio/miniforge3/envs/tfod/lib/python3.9/site-packages (from tensorflow>=2.5.0->tf-models-official>=2.5.1->object-detection==0.1) (2.7.0)\r\n",
      "Requirement already satisfied: astunparse>=1.6.0 in /Users/loyio/miniforge3/envs/tfod/lib/python3.9/site-packages (from tensorflow>=2.5.0->tf-models-official>=2.5.1->object-detection==0.1) (1.6.3)\r\n",
      "Requirement already satisfied: termcolor>=1.1.0 in /Users/loyio/miniforge3/envs/tfod/lib/python3.9/site-packages (from tensorflow>=2.5.0->tf-models-official>=2.5.1->object-detection==0.1) (1.1.0)\r\n",
      "Requirement already satisfied: google-pasta>=0.1.1 in /Users/loyio/miniforge3/envs/tfod/lib/python3.9/site-packages (from tensorflow>=2.5.0->tf-models-official>=2.5.1->object-detection==0.1) (0.2.0)\r\n",
      "Requirement already satisfied: dm-tree~=0.1.1 in /Users/loyio/miniforge3/envs/tfod/lib/python3.9/site-packages (from tensorflow-model-optimization>=0.4.1->tf-models-official>=2.5.1->object-detection==0.1) (0.1.6)\r\n",
      "Requirement already satisfied: regex in /Users/loyio/miniforge3/envs/tfod/lib/python3.9/site-packages (from sacrebleu->tf-models-official>=2.5.1->object-detection==0.1) (2022.1.18)\r\n",
      "Requirement already satisfied: portalocker in /Users/loyio/miniforge3/envs/tfod/lib/python3.9/site-packages (from sacrebleu->tf-models-official>=2.5.1->object-detection==0.1) (2.4.0)\r\n",
      "Requirement already satisfied: tabulate>=0.8.9 in /Users/loyio/miniforge3/envs/tfod/lib/python3.9/site-packages (from sacrebleu->tf-models-official>=2.5.1->object-detection==0.1) (0.8.9)\r\n",
      "Requirement already satisfied: colorama in /Users/loyio/miniforge3/envs/tfod/lib/python3.9/site-packages (from sacrebleu->tf-models-official>=2.5.1->object-detection==0.1) (0.4.4)\r\n",
      "Requirement already satisfied: scikit-learn>=0.21.3 in /Users/loyio/miniforge3/envs/tfod/lib/python3.9/site-packages (from seqeval->tf-models-official>=2.5.1->object-detection==0.1) (1.0.2)\r\n",
      "Requirement already satisfied: typeguard>=2.7 in /Users/loyio/miniforge3/envs/tfod/lib/python3.9/site-packages (from tensorflow-addons->tf-models-official>=2.5.1->object-detection==0.1) (2.13.3)\r\n",
      "Requirement already satisfied: promise in /Users/loyio/miniforge3/envs/tfod/lib/python3.9/site-packages (from tensorflow-datasets->tf-models-official>=2.5.1->object-detection==0.1) (2.3)\r\n",
      "Requirement already satisfied: tensorflow-metadata in /Users/loyio/miniforge3/envs/tfod/lib/python3.9/site-packages (from tensorflow-datasets->tf-models-official>=2.5.1->object-detection==0.1) (1.6.0)\r\n",
      "Requirement already satisfied: wheel<1.0,>=0.23.0 in /Users/loyio/miniforge3/envs/tfod/lib/python3.9/site-packages (from astunparse>=1.6.0->tensorflow>=2.5.0->tf-models-official>=2.5.1->object-detection==0.1) (0.37.1)\r\n",
      "Requirement already satisfied: googleapis-common-protos<2.0dev,>=1.52.0 in /Users/loyio/miniforge3/envs/tfod/lib/python3.9/site-packages (from google-api-core<3.0.0dev,>=1.21.0->google-api-python-client>=1.6.7->tf-models-official>=2.5.1->object-detection==0.1) (1.54.0)\r\n",
      "Requirement already satisfied: setuptools>=40.3.0 in /Users/loyio/miniforge3/envs/tfod/lib/python3.9/site-packages (from google-auth<3.0.0dev,>=1.16.0->google-api-python-client>=1.6.7->tf-models-official>=2.5.1->object-detection==0.1) (60.9.3)\r\n",
      "Requirement already satisfied: cachetools<5.0,>=2.0.0 in /Users/loyio/miniforge3/envs/tfod/lib/python3.9/site-packages (from google-auth<3.0.0dev,>=1.16.0->google-api-python-client>=1.6.7->tf-models-official>=2.5.1->object-detection==0.1) (4.2.4)\r\n",
      "Requirement already satisfied: threadpoolctl>=2.0.0 in /Users/loyio/miniforge3/envs/tfod/lib/python3.9/site-packages (from scikit-learn>=0.21.3->seqeval->tf-models-official>=2.5.1->object-detection==0.1) (3.1.0)\r\n",
      "Requirement already satisfied: joblib>=0.11 in /Users/loyio/miniforge3/envs/tfod/lib/python3.9/site-packages (from scikit-learn>=0.21.3->seqeval->tf-models-official>=2.5.1->object-detection==0.1) (1.1.0)\r\n",
      "Requirement already satisfied: tensorboard-data-server<0.7.0,>=0.6.0 in /Users/loyio/miniforge3/envs/tfod/lib/python3.9/site-packages (from tensorboard~=2.6->tensorflow>=2.5.0->tf-models-official>=2.5.1->object-detection==0.1) (0.6.0)\r\n",
      "Requirement already satisfied: google-auth-oauthlib<0.5,>=0.4.1 in /Users/loyio/miniforge3/envs/tfod/lib/python3.9/site-packages (from tensorboard~=2.6->tensorflow>=2.5.0->tf-models-official>=2.5.1->object-detection==0.1) (0.4.6)\r\n",
      "Requirement already satisfied: tensorboard-plugin-wit>=1.6.0 in /Users/loyio/miniforge3/envs/tfod/lib/python3.9/site-packages (from tensorboard~=2.6->tensorflow>=2.5.0->tf-models-official>=2.5.1->object-detection==0.1) (1.8.1)\r\n",
      "Requirement already satisfied: werkzeug>=0.11.15 in /Users/loyio/miniforge3/envs/tfod/lib/python3.9/site-packages (from tensorboard~=2.6->tensorflow>=2.5.0->tf-models-official>=2.5.1->object-detection==0.1) (2.0.3)\r\n",
      "Requirement already satisfied: markdown>=2.6.8 in /Users/loyio/miniforge3/envs/tfod/lib/python3.9/site-packages (from tensorboard~=2.6->tensorflow>=2.5.0->tf-models-official>=2.5.1->object-detection==0.1) (3.3.6)\r\n",
      "Requirement already satisfied: text-unidecode>=1.3 in /Users/loyio/miniforge3/envs/tfod/lib/python3.9/site-packages (from python-slugify->kaggle>=1.3.9->tf-models-official>=2.5.1->object-detection==0.1) (1.3)\r\n",
      "Requirement already satisfied: requests-oauthlib>=0.7.0 in /Users/loyio/miniforge3/envs/tfod/lib/python3.9/site-packages (from google-auth-oauthlib<0.5,>=0.4.1->tensorboard~=2.6->tensorflow>=2.5.0->tf-models-official>=2.5.1->object-detection==0.1) (1.3.1)\r\n",
      "Requirement already satisfied: importlib-metadata>=4.4 in /Users/loyio/miniforge3/envs/tfod/lib/python3.9/site-packages (from markdown>=2.6.8->tensorboard~=2.6->tensorflow>=2.5.0->tf-models-official>=2.5.1->object-detection==0.1) (4.11.1)\r\n",
      "Requirement already satisfied: zipp>=0.5 in /Users/loyio/miniforge3/envs/tfod/lib/python3.9/site-packages (from importlib-metadata>=4.4->markdown>=2.6.8->tensorboard~=2.6->tensorflow>=2.5.0->tf-models-official>=2.5.1->object-detection==0.1) (3.7.0)\r\n",
      "Requirement already satisfied: oauthlib>=3.0.0 in /Users/loyio/miniforge3/envs/tfod/lib/python3.9/site-packages (from requests-oauthlib>=0.7.0->google-auth-oauthlib<0.5,>=0.4.1->tensorboard~=2.6->tensorflow>=2.5.0->tf-models-official>=2.5.1->object-detection==0.1) (3.2.0)\r\n",
      "Building wheels for collected packages: object-detection\r\n",
      "  Building wheel for object-detection (setup.py) ... \u001B[?25ldone\r\n",
      "\u001B[?25h  Created wheel for object-detection: filename=object_detection-0.1-py3-none-any.whl size=1653456 sha256=1ff4f923da19a255d4e1ab45777f1b031deca1638ffd8c79a19696534bf01a47\r\n",
      "  Stored in directory: /private/var/folders/x3/gw8xdf151v92h8bc_bf3tsnc0000gn/T/pip-ephem-wheel-cache-aku3c86k/wheels/9b/99/80/c367f1a61f2f6a964421a0d52e4f569777f5dbed4fbac76a89\r\n",
      "Successfully built object-detection\r\n",
      "Installing collected packages: object-detection\r\n",
      "  Attempting uninstall: object-detection\r\n",
      "    Found existing installation: object-detection 0.1\r\n",
      "    Uninstalling object-detection-0.1:\r\n",
      "      Successfully uninstalled object-detection-0.1\r\n",
      "Successfully installed object-detection-0.1\r\n"
     ]
    }
   ],
   "source": [
    "# Install Tensorflow Object Detection\n",
    "if os.name=='posix':\n",
    "    !cd Tensorflow/models/research && protoc object_detection/protos/*.proto --python_out=. && cp object_detection/packages/tf2/setup.py . && python -m pip install .\n",
    "\n",
    "if os.name=='nt':\n",
    "    url=\"https://github.com/protocolbuffers/protobuf/releases/download/v3.15.6/protoc-3.15.6-win64.zip\"\n",
    "    wget.download(url)\n",
    "    !move protoc-3.15.6-win64.zip {paths['PROTOC_PATH']}\n",
    "    !cd {paths['PROTOC_PATH']} && tar -xf protoc-3.15.6-win64.zip\n",
    "    os.environ['PATH'] += os.pathsep + os.path.abspath(os.path.join(paths['PROTOC_PATH'], 'bin'))\n",
    "    !cd Tensorflow/models/research && protoc object_detection/protos/*.proto --python_out=. && copy object_detection\\\\packages\\\\tf2\\\\setup.py setup.py && python setup.py build && python setup.py install\n",
    "    !cd Tensorflow/models/research/slim && pip install -e ."
   ],
   "metadata": {
    "collapsed": false,
    "pycharm": {
     "name": "#%%\n"
    }
   }
  },
  {
   "cell_type": "code",
   "execution_count": 10,
   "outputs": [],
   "source": [
    "VERIFICATION_SCRIPT = os.path.join(paths['APIMODEL_PATH'], 'research', 'object_detection', 'builders', 'model_builder_tf2_test.py')"
   ],
   "metadata": {
    "collapsed": false,
    "pycharm": {
     "name": "#%%\n"
    }
   }
  },
  {
   "cell_type": "code",
   "execution_count": 11,
   "outputs": [
    {
     "name": "stdout",
     "output_type": "stream",
     "text": [
      "/Users/loyio/miniforge3/envs/tfod/lib/python3.9/site-packages/tensorflow_io/python/ops/__init__.py:98: UserWarning: unable to load libtensorflow_io_plugins.so: unable to open file: libtensorflow_io_plugins.so, from paths: ['/Users/loyio/miniforge3/envs/tfod/lib/python3.9/site-packages/tensorflow_io/python/ops/libtensorflow_io_plugins.so']\r\n",
      "caused by: [\"[Errno 2] The file to load file system plugin from does not exist.: '/Users/loyio/miniforge3/envs/tfod/lib/python3.9/site-packages/tensorflow_io/python/ops/libtensorflow_io_plugins.so'\"]\r\n",
      "  warnings.warn(f\"unable to load libtensorflow_io_plugins.so: {e}\")\r\n",
      "/Users/loyio/miniforge3/envs/tfod/lib/python3.9/site-packages/tensorflow_io/python/ops/__init__.py:104: UserWarning: file system plugins are not loaded: unable to open file: libtensorflow_io.so, from paths: ['/Users/loyio/miniforge3/envs/tfod/lib/python3.9/site-packages/tensorflow_io/python/ops/libtensorflow_io.so']\r\n",
      "caused by: [\"dlopen(/Users/loyio/miniforge3/envs/tfod/lib/python3.9/site-packages/tensorflow_io/python/ops/libtensorflow_io.so, 0x0006): tried: '/Users/loyio/miniforge3/envs/tfod/lib/python3.9/site-packages/tensorflow_io/python/ops/libtensorflow_io.so' (no such file), '/usr/local/lib/libtensorflow_io.so' (no such file), '/usr/lib/libtensorflow_io.so' (no such file)\"]\r\n",
      "  warnings.warn(f\"file system plugins are not loaded: {e}\")\r\n",
      "Running tests under Python 3.9.10: /Users/loyio/miniforge3/envs/tfod/bin/python\r\n",
      "[ RUN      ] ModelBuilderTF2Test.test_create_center_net_deepmac\r\n",
      "/Users/loyio/miniforge3/envs/tfod/lib/python3.9/site-packages/object_detection/builders/model_builder.py:1100: DeprecationWarning: The 'warn' function is deprecated, use 'warning' instead\r\n",
      "  logging.warn(('Building experimental DeepMAC meta-arch.'\r\n",
      "W0219 19:41:30.841558 4381197696 model_builder.py:1100] Building experimental DeepMAC meta-arch. Some features may be omitted.\r\n",
      "INFO:tensorflow:time(__main__.ModelBuilderTF2Test.test_create_center_net_deepmac): 0.27s\r\n",
      "I0219 19:41:30.938199 4381197696 test_util.py:2308] time(__main__.ModelBuilderTF2Test.test_create_center_net_deepmac): 0.27s\r\n",
      "[       OK ] ModelBuilderTF2Test.test_create_center_net_deepmac\r\n",
      "[ RUN      ] ModelBuilderTF2Test.test_create_center_net_model0 (customize_head_params=True)\r\n",
      "INFO:tensorflow:time(__main__.ModelBuilderTF2Test.test_create_center_net_model0 (customize_head_params=True)): 0.28s\r\n",
      "I0219 19:41:31.215679 4381197696 test_util.py:2308] time(__main__.ModelBuilderTF2Test.test_create_center_net_model0 (customize_head_params=True)): 0.28s\r\n",
      "[       OK ] ModelBuilderTF2Test.test_create_center_net_model0 (customize_head_params=True)\r\n",
      "[ RUN      ] ModelBuilderTF2Test.test_create_center_net_model1 (customize_head_params=False)\r\n",
      "INFO:tensorflow:time(__main__.ModelBuilderTF2Test.test_create_center_net_model1 (customize_head_params=False)): 0.15s\r\n",
      "I0219 19:41:31.369113 4381197696 test_util.py:2308] time(__main__.ModelBuilderTF2Test.test_create_center_net_model1 (customize_head_params=False)): 0.15s\r\n",
      "[       OK ] ModelBuilderTF2Test.test_create_center_net_model1 (customize_head_params=False)\r\n",
      "[ RUN      ] ModelBuilderTF2Test.test_create_center_net_model_from_keypoints\r\n",
      "INFO:tensorflow:time(__main__.ModelBuilderTF2Test.test_create_center_net_model_from_keypoints): 0.1s\r\n",
      "I0219 19:41:31.465274 4381197696 test_util.py:2308] time(__main__.ModelBuilderTF2Test.test_create_center_net_model_from_keypoints): 0.1s\r\n",
      "[       OK ] ModelBuilderTF2Test.test_create_center_net_model_from_keypoints\r\n",
      "[ RUN      ] ModelBuilderTF2Test.test_create_center_net_model_mobilenet\r\n",
      "INFO:tensorflow:time(__main__.ModelBuilderTF2Test.test_create_center_net_model_mobilenet): 0.56s\r\n",
      "I0219 19:41:32.025893 4381197696 test_util.py:2308] time(__main__.ModelBuilderTF2Test.test_create_center_net_model_mobilenet): 0.56s\r\n",
      "[       OK ] ModelBuilderTF2Test.test_create_center_net_model_mobilenet\r\n",
      "[ RUN      ] ModelBuilderTF2Test.test_create_experimental_model\r\n",
      "INFO:tensorflow:time(__main__.ModelBuilderTF2Test.test_create_experimental_model): 0.0s\r\n",
      "I0219 19:41:32.026351 4381197696 test_util.py:2308] time(__main__.ModelBuilderTF2Test.test_create_experimental_model): 0.0s\r\n",
      "[       OK ] ModelBuilderTF2Test.test_create_experimental_model\r\n",
      "[ RUN      ] ModelBuilderTF2Test.test_create_faster_rcnn_from_config_with_crop_feature0 (True)\r\n",
      "INFO:tensorflow:time(__main__.ModelBuilderTF2Test.test_create_faster_rcnn_from_config_with_crop_feature0 (True)): 0.01s\r\n",
      "I0219 19:41:32.035156 4381197696 test_util.py:2308] time(__main__.ModelBuilderTF2Test.test_create_faster_rcnn_from_config_with_crop_feature0 (True)): 0.01s\r\n",
      "[       OK ] ModelBuilderTF2Test.test_create_faster_rcnn_from_config_with_crop_feature0 (True)\r\n",
      "[ RUN      ] ModelBuilderTF2Test.test_create_faster_rcnn_from_config_with_crop_feature1 (False)\r\n",
      "INFO:tensorflow:time(__main__.ModelBuilderTF2Test.test_create_faster_rcnn_from_config_with_crop_feature1 (False)): 0.01s\r\n",
      "I0219 19:41:32.040422 4381197696 test_util.py:2308] time(__main__.ModelBuilderTF2Test.test_create_faster_rcnn_from_config_with_crop_feature1 (False)): 0.01s\r\n",
      "[       OK ] ModelBuilderTF2Test.test_create_faster_rcnn_from_config_with_crop_feature1 (False)\r\n",
      "[ RUN      ] ModelBuilderTF2Test.test_create_faster_rcnn_model_from_config_with_example_miner\r\n",
      "INFO:tensorflow:time(__main__.ModelBuilderTF2Test.test_create_faster_rcnn_model_from_config_with_example_miner): 0.01s\r\n",
      "I0219 19:41:32.046196 4381197696 test_util.py:2308] time(__main__.ModelBuilderTF2Test.test_create_faster_rcnn_model_from_config_with_example_miner): 0.01s\r\n",
      "[       OK ] ModelBuilderTF2Test.test_create_faster_rcnn_model_from_config_with_example_miner\r\n",
      "[ RUN      ] ModelBuilderTF2Test.test_create_faster_rcnn_models_from_config_faster_rcnn_with_matmul\r\n",
      "INFO:tensorflow:time(__main__.ModelBuilderTF2Test.test_create_faster_rcnn_models_from_config_faster_rcnn_with_matmul): 0.11s\r\n",
      "I0219 19:41:32.157668 4381197696 test_util.py:2308] time(__main__.ModelBuilderTF2Test.test_create_faster_rcnn_models_from_config_faster_rcnn_with_matmul): 0.11s\r\n",
      "[       OK ] ModelBuilderTF2Test.test_create_faster_rcnn_models_from_config_faster_rcnn_with_matmul\r\n",
      "[ RUN      ] ModelBuilderTF2Test.test_create_faster_rcnn_models_from_config_faster_rcnn_without_matmul\r\n",
      "INFO:tensorflow:time(__main__.ModelBuilderTF2Test.test_create_faster_rcnn_models_from_config_faster_rcnn_without_matmul): 0.04s\r\n",
      "I0219 19:41:32.194065 4381197696 test_util.py:2308] time(__main__.ModelBuilderTF2Test.test_create_faster_rcnn_models_from_config_faster_rcnn_without_matmul): 0.04s\r\n",
      "[       OK ] ModelBuilderTF2Test.test_create_faster_rcnn_models_from_config_faster_rcnn_without_matmul\r\n",
      "[ RUN      ] ModelBuilderTF2Test.test_create_faster_rcnn_models_from_config_mask_rcnn_with_matmul\r\n",
      "INFO:tensorflow:time(__main__.ModelBuilderTF2Test.test_create_faster_rcnn_models_from_config_mask_rcnn_with_matmul): 0.04s\r\n",
      "I0219 19:41:32.231426 4381197696 test_util.py:2308] time(__main__.ModelBuilderTF2Test.test_create_faster_rcnn_models_from_config_mask_rcnn_with_matmul): 0.04s\r\n",
      "[       OK ] ModelBuilderTF2Test.test_create_faster_rcnn_models_from_config_mask_rcnn_with_matmul\r\n",
      "[ RUN      ] ModelBuilderTF2Test.test_create_faster_rcnn_models_from_config_mask_rcnn_without_matmul\r\n",
      "INFO:tensorflow:time(__main__.ModelBuilderTF2Test.test_create_faster_rcnn_models_from_config_mask_rcnn_without_matmul): 0.04s\r\n",
      "I0219 19:41:32.269242 4381197696 test_util.py:2308] time(__main__.ModelBuilderTF2Test.test_create_faster_rcnn_models_from_config_mask_rcnn_without_matmul): 0.04s\r\n",
      "[       OK ] ModelBuilderTF2Test.test_create_faster_rcnn_models_from_config_mask_rcnn_without_matmul\r\n",
      "[ RUN      ] ModelBuilderTF2Test.test_create_rfcn_model_from_config\r\n",
      "INFO:tensorflow:time(__main__.ModelBuilderTF2Test.test_create_rfcn_model_from_config): 0.04s\r\n",
      "I0219 19:41:32.307391 4381197696 test_util.py:2308] time(__main__.ModelBuilderTF2Test.test_create_rfcn_model_from_config): 0.04s\r\n",
      "[       OK ] ModelBuilderTF2Test.test_create_rfcn_model_from_config\r\n",
      "[ RUN      ] ModelBuilderTF2Test.test_create_ssd_fpn_model_from_config\r\n",
      "INFO:tensorflow:time(__main__.ModelBuilderTF2Test.test_create_ssd_fpn_model_from_config): 0.01s\r\n",
      "I0219 19:41:32.317979 4381197696 test_util.py:2308] time(__main__.ModelBuilderTF2Test.test_create_ssd_fpn_model_from_config): 0.01s\r\n",
      "[       OK ] ModelBuilderTF2Test.test_create_ssd_fpn_model_from_config\r\n",
      "[ RUN      ] ModelBuilderTF2Test.test_create_ssd_models_from_config\r\n",
      "I0219 19:41:32.388090 4381197696 ssd_efficientnet_bifpn_feature_extractor.py:145] EfficientDet EfficientNet backbone version: efficientnet-b0\r\n",
      "I0219 19:41:32.388187 4381197696 ssd_efficientnet_bifpn_feature_extractor.py:147] EfficientDet BiFPN num filters: 64\r\n",
      "I0219 19:41:32.388214 4381197696 ssd_efficientnet_bifpn_feature_extractor.py:148] EfficientDet BiFPN num iterations: 3\r\n",
      "I0219 19:41:32.389242 4381197696 efficientnet_model.py:147] round_filter input=32 output=32\r\n",
      "I0219 19:41:32.394776 4381197696 efficientnet_model.py:147] round_filter input=32 output=32\r\n",
      "I0219 19:41:32.394836 4381197696 efficientnet_model.py:147] round_filter input=16 output=16\r\n",
      "I0219 19:41:32.414852 4381197696 efficientnet_model.py:147] round_filter input=16 output=16\r\n",
      "I0219 19:41:32.414937 4381197696 efficientnet_model.py:147] round_filter input=24 output=24\r\n",
      "I0219 19:41:32.463011 4381197696 efficientnet_model.py:147] round_filter input=24 output=24\r\n",
      "I0219 19:41:32.463088 4381197696 efficientnet_model.py:147] round_filter input=40 output=40\r\n",
      "I0219 19:41:32.510847 4381197696 efficientnet_model.py:147] round_filter input=40 output=40\r\n",
      "I0219 19:41:32.510928 4381197696 efficientnet_model.py:147] round_filter input=80 output=80\r\n",
      "I0219 19:41:32.584080 4381197696 efficientnet_model.py:147] round_filter input=80 output=80\r\n",
      "I0219 19:41:32.584170 4381197696 efficientnet_model.py:147] round_filter input=112 output=112\r\n",
      "I0219 19:41:32.659383 4381197696 efficientnet_model.py:147] round_filter input=112 output=112\r\n",
      "I0219 19:41:32.659465 4381197696 efficientnet_model.py:147] round_filter input=192 output=192\r\n",
      "I0219 19:41:32.766454 4381197696 efficientnet_model.py:147] round_filter input=192 output=192\r\n",
      "I0219 19:41:32.766539 4381197696 efficientnet_model.py:147] round_filter input=320 output=320\r\n",
      "I0219 19:41:32.794140 4381197696 efficientnet_model.py:147] round_filter input=1280 output=1280\r\n",
      "I0219 19:41:32.806824 4381197696 efficientnet_model.py:458] Building model efficientnet with params ModelConfig(width_coefficient=1.0, depth_coefficient=1.0, resolution=224, dropout_rate=0.2, blocks=(BlockConfig(input_filters=32, output_filters=16, kernel_size=3, num_repeat=1, expand_ratio=1, strides=(1, 1), se_ratio=0.25, id_skip=True, fused_conv=False, conv_type='depthwise'), BlockConfig(input_filters=16, output_filters=24, kernel_size=3, num_repeat=2, expand_ratio=6, strides=(2, 2), se_ratio=0.25, id_skip=True, fused_conv=False, conv_type='depthwise'), BlockConfig(input_filters=24, output_filters=40, kernel_size=5, num_repeat=2, expand_ratio=6, strides=(2, 2), se_ratio=0.25, id_skip=True, fused_conv=False, conv_type='depthwise'), BlockConfig(input_filters=40, output_filters=80, kernel_size=3, num_repeat=3, expand_ratio=6, strides=(2, 2), se_ratio=0.25, id_skip=True, fused_conv=False, conv_type='depthwise'), BlockConfig(input_filters=80, output_filters=112, kernel_size=5, num_repeat=3, expand_ratio=6, strides=(1, 1), se_ratio=0.25, id_skip=True, fused_conv=False, conv_type='depthwise'), BlockConfig(input_filters=112, output_filters=192, kernel_size=5, num_repeat=4, expand_ratio=6, strides=(2, 2), se_ratio=0.25, id_skip=True, fused_conv=False, conv_type='depthwise'), BlockConfig(input_filters=192, output_filters=320, kernel_size=3, num_repeat=1, expand_ratio=6, strides=(1, 1), se_ratio=0.25, id_skip=True, fused_conv=False, conv_type='depthwise')), stem_base_filters=32, top_base_filters=1280, activation='simple_swish', batch_norm='default', bn_momentum=0.99, bn_epsilon=0.001, weight_decay=5e-06, drop_connect_rate=0.2, depth_divisor=8, min_depth=None, use_se=True, input_channels=3, num_classes=1000, model_name='efficientnet', rescale_input=False, data_format='channels_last', dtype='float32')\r\n",
      "I0219 19:41:32.828973 4381197696 ssd_efficientnet_bifpn_feature_extractor.py:145] EfficientDet EfficientNet backbone version: efficientnet-b1\r\n",
      "I0219 19:41:32.829057 4381197696 ssd_efficientnet_bifpn_feature_extractor.py:147] EfficientDet BiFPN num filters: 88\r\n",
      "I0219 19:41:32.829082 4381197696 ssd_efficientnet_bifpn_feature_extractor.py:148] EfficientDet BiFPN num iterations: 4\r\n",
      "I0219 19:41:32.829797 4381197696 efficientnet_model.py:147] round_filter input=32 output=32\r\n",
      "I0219 19:41:32.834630 4381197696 efficientnet_model.py:147] round_filter input=32 output=32\r\n",
      "I0219 19:41:32.834681 4381197696 efficientnet_model.py:147] round_filter input=16 output=16\r\n",
      "I0219 19:41:32.870440 4381197696 efficientnet_model.py:147] round_filter input=16 output=16\r\n",
      "I0219 19:41:32.870522 4381197696 efficientnet_model.py:147] round_filter input=24 output=24\r\n",
      "I0219 19:41:32.944856 4381197696 efficientnet_model.py:147] round_filter input=24 output=24\r\n",
      "I0219 19:41:32.944943 4381197696 efficientnet_model.py:147] round_filter input=40 output=40\r\n",
      "I0219 19:41:33.018851 4381197696 efficientnet_model.py:147] round_filter input=40 output=40\r\n",
      "I0219 19:41:33.018938 4381197696 efficientnet_model.py:147] round_filter input=80 output=80\r\n",
      "I0219 19:41:33.120469 4381197696 efficientnet_model.py:147] round_filter input=80 output=80\r\n",
      "I0219 19:41:33.120573 4381197696 efficientnet_model.py:147] round_filter input=112 output=112\r\n",
      "I0219 19:41:33.222568 4381197696 efficientnet_model.py:147] round_filter input=112 output=112\r\n",
      "I0219 19:41:33.222673 4381197696 efficientnet_model.py:147] round_filter input=192 output=192\r\n",
      "I0219 19:41:33.359287 4381197696 efficientnet_model.py:147] round_filter input=192 output=192\r\n",
      "I0219 19:41:33.359374 4381197696 efficientnet_model.py:147] round_filter input=320 output=320\r\n",
      "I0219 19:41:33.495208 4381197696 efficientnet_model.py:147] round_filter input=1280 output=1280\r\n",
      "I0219 19:41:33.509391 4381197696 efficientnet_model.py:458] Building model efficientnet with params ModelConfig(width_coefficient=1.0, depth_coefficient=1.1, resolution=240, dropout_rate=0.2, blocks=(BlockConfig(input_filters=32, output_filters=16, kernel_size=3, num_repeat=1, expand_ratio=1, strides=(1, 1), se_ratio=0.25, id_skip=True, fused_conv=False, conv_type='depthwise'), BlockConfig(input_filters=16, output_filters=24, kernel_size=3, num_repeat=2, expand_ratio=6, strides=(2, 2), se_ratio=0.25, id_skip=True, fused_conv=False, conv_type='depthwise'), BlockConfig(input_filters=24, output_filters=40, kernel_size=5, num_repeat=2, expand_ratio=6, strides=(2, 2), se_ratio=0.25, id_skip=True, fused_conv=False, conv_type='depthwise'), BlockConfig(input_filters=40, output_filters=80, kernel_size=3, num_repeat=3, expand_ratio=6, strides=(2, 2), se_ratio=0.25, id_skip=True, fused_conv=False, conv_type='depthwise'), BlockConfig(input_filters=80, output_filters=112, kernel_size=5, num_repeat=3, expand_ratio=6, strides=(1, 1), se_ratio=0.25, id_skip=True, fused_conv=False, conv_type='depthwise'), BlockConfig(input_filters=112, output_filters=192, kernel_size=5, num_repeat=4, expand_ratio=6, strides=(2, 2), se_ratio=0.25, id_skip=True, fused_conv=False, conv_type='depthwise'), BlockConfig(input_filters=192, output_filters=320, kernel_size=3, num_repeat=1, expand_ratio=6, strides=(1, 1), se_ratio=0.25, id_skip=True, fused_conv=False, conv_type='depthwise')), stem_base_filters=32, top_base_filters=1280, activation='simple_swish', batch_norm='default', bn_momentum=0.99, bn_epsilon=0.001, weight_decay=5e-06, drop_connect_rate=0.2, depth_divisor=8, min_depth=None, use_se=True, input_channels=3, num_classes=1000, model_name='efficientnet', rescale_input=False, data_format='channels_last', dtype='float32')\r\n",
      "I0219 19:41:33.537420 4381197696 ssd_efficientnet_bifpn_feature_extractor.py:145] EfficientDet EfficientNet backbone version: efficientnet-b2\r\n",
      "I0219 19:41:33.537500 4381197696 ssd_efficientnet_bifpn_feature_extractor.py:147] EfficientDet BiFPN num filters: 112\r\n",
      "I0219 19:41:33.537524 4381197696 ssd_efficientnet_bifpn_feature_extractor.py:148] EfficientDet BiFPN num iterations: 5\r\n",
      "I0219 19:41:33.538191 4381197696 efficientnet_model.py:147] round_filter input=32 output=32\r\n",
      "I0219 19:41:33.543386 4381197696 efficientnet_model.py:147] round_filter input=32 output=32\r\n",
      "I0219 19:41:33.543453 4381197696 efficientnet_model.py:147] round_filter input=16 output=16\r\n",
      "I0219 19:41:33.581078 4381197696 efficientnet_model.py:147] round_filter input=16 output=16\r\n",
      "I0219 19:41:33.581159 4381197696 efficientnet_model.py:147] round_filter input=24 output=24\r\n",
      "I0219 19:41:33.653679 4381197696 efficientnet_model.py:147] round_filter input=24 output=24\r\n",
      "I0219 19:41:33.653759 4381197696 efficientnet_model.py:147] round_filter input=40 output=48\r\n",
      "I0219 19:41:33.727416 4381197696 efficientnet_model.py:147] round_filter input=40 output=48\r\n",
      "I0219 19:41:33.727498 4381197696 efficientnet_model.py:147] round_filter input=80 output=88\r\n",
      "I0219 19:41:33.825545 4381197696 efficientnet_model.py:147] round_filter input=80 output=88\r\n",
      "I0219 19:41:33.825644 4381197696 efficientnet_model.py:147] round_filter input=112 output=120\r\n",
      "I0219 19:41:33.924508 4381197696 efficientnet_model.py:147] round_filter input=112 output=120\r\n",
      "I0219 19:41:33.924592 4381197696 efficientnet_model.py:147] round_filter input=192 output=208\r\n",
      "I0219 19:41:34.059588 4381197696 efficientnet_model.py:147] round_filter input=192 output=208\r\n",
      "I0219 19:41:34.059677 4381197696 efficientnet_model.py:147] round_filter input=320 output=352\r\n",
      "I0219 19:41:34.119396 4381197696 efficientnet_model.py:147] round_filter input=1280 output=1408\r\n",
      "I0219 19:41:34.137810 4381197696 efficientnet_model.py:458] Building model efficientnet with params ModelConfig(width_coefficient=1.1, depth_coefficient=1.2, resolution=260, dropout_rate=0.3, blocks=(BlockConfig(input_filters=32, output_filters=16, kernel_size=3, num_repeat=1, expand_ratio=1, strides=(1, 1), se_ratio=0.25, id_skip=True, fused_conv=False, conv_type='depthwise'), BlockConfig(input_filters=16, output_filters=24, kernel_size=3, num_repeat=2, expand_ratio=6, strides=(2, 2), se_ratio=0.25, id_skip=True, fused_conv=False, conv_type='depthwise'), BlockConfig(input_filters=24, output_filters=40, kernel_size=5, num_repeat=2, expand_ratio=6, strides=(2, 2), se_ratio=0.25, id_skip=True, fused_conv=False, conv_type='depthwise'), BlockConfig(input_filters=40, output_filters=80, kernel_size=3, num_repeat=3, expand_ratio=6, strides=(2, 2), se_ratio=0.25, id_skip=True, fused_conv=False, conv_type='depthwise'), BlockConfig(input_filters=80, output_filters=112, kernel_size=5, num_repeat=3, expand_ratio=6, strides=(1, 1), se_ratio=0.25, id_skip=True, fused_conv=False, conv_type='depthwise'), BlockConfig(input_filters=112, output_filters=192, kernel_size=5, num_repeat=4, expand_ratio=6, strides=(2, 2), se_ratio=0.25, id_skip=True, fused_conv=False, conv_type='depthwise'), BlockConfig(input_filters=192, output_filters=320, kernel_size=3, num_repeat=1, expand_ratio=6, strides=(1, 1), se_ratio=0.25, id_skip=True, fused_conv=False, conv_type='depthwise')), stem_base_filters=32, top_base_filters=1280, activation='simple_swish', batch_norm='default', bn_momentum=0.99, bn_epsilon=0.001, weight_decay=5e-06, drop_connect_rate=0.2, depth_divisor=8, min_depth=None, use_se=True, input_channels=3, num_classes=1000, model_name='efficientnet', rescale_input=False, data_format='channels_last', dtype='float32')\r\n",
      "I0219 19:41:34.165534 4381197696 ssd_efficientnet_bifpn_feature_extractor.py:145] EfficientDet EfficientNet backbone version: efficientnet-b3\r\n",
      "I0219 19:41:34.165626 4381197696 ssd_efficientnet_bifpn_feature_extractor.py:147] EfficientDet BiFPN num filters: 160\r\n",
      "I0219 19:41:34.165652 4381197696 ssd_efficientnet_bifpn_feature_extractor.py:148] EfficientDet BiFPN num iterations: 6\r\n",
      "I0219 19:41:34.166350 4381197696 efficientnet_model.py:147] round_filter input=32 output=40\r\n",
      "I0219 19:41:34.171690 4381197696 efficientnet_model.py:147] round_filter input=32 output=40\r\n",
      "I0219 19:41:34.171766 4381197696 efficientnet_model.py:147] round_filter input=16 output=24\r\n",
      "I0219 19:41:34.211315 4381197696 efficientnet_model.py:147] round_filter input=16 output=24\r\n",
      "I0219 19:41:34.211400 4381197696 efficientnet_model.py:147] round_filter input=24 output=32\r\n",
      "I0219 19:41:34.283260 4381197696 efficientnet_model.py:147] round_filter input=24 output=32\r\n",
      "I0219 19:41:34.283349 4381197696 efficientnet_model.py:147] round_filter input=40 output=48\r\n",
      "I0219 19:41:34.359440 4381197696 efficientnet_model.py:147] round_filter input=40 output=48\r\n",
      "I0219 19:41:34.359527 4381197696 efficientnet_model.py:147] round_filter input=80 output=96\r\n",
      "I0219 19:41:34.481885 4381197696 efficientnet_model.py:147] round_filter input=80 output=96\r\n",
      "I0219 19:41:34.481979 4381197696 efficientnet_model.py:147] round_filter input=112 output=136\r\n",
      "I0219 19:41:34.605628 4381197696 efficientnet_model.py:147] round_filter input=112 output=136\r\n",
      "I0219 19:41:34.605715 4381197696 efficientnet_model.py:147] round_filter input=192 output=232\r\n",
      "I0219 19:41:34.766474 4381197696 efficientnet_model.py:147] round_filter input=192 output=232\r\n",
      "I0219 19:41:34.766571 4381197696 efficientnet_model.py:147] round_filter input=320 output=384\r\n",
      "I0219 19:41:34.828654 4381197696 efficientnet_model.py:147] round_filter input=1280 output=1536\r\n",
      "I0219 19:41:34.844886 4381197696 efficientnet_model.py:458] Building model efficientnet with params ModelConfig(width_coefficient=1.2, depth_coefficient=1.4, resolution=300, dropout_rate=0.3, blocks=(BlockConfig(input_filters=32, output_filters=16, kernel_size=3, num_repeat=1, expand_ratio=1, strides=(1, 1), se_ratio=0.25, id_skip=True, fused_conv=False, conv_type='depthwise'), BlockConfig(input_filters=16, output_filters=24, kernel_size=3, num_repeat=2, expand_ratio=6, strides=(2, 2), se_ratio=0.25, id_skip=True, fused_conv=False, conv_type='depthwise'), BlockConfig(input_filters=24, output_filters=40, kernel_size=5, num_repeat=2, expand_ratio=6, strides=(2, 2), se_ratio=0.25, id_skip=True, fused_conv=False, conv_type='depthwise'), BlockConfig(input_filters=40, output_filters=80, kernel_size=3, num_repeat=3, expand_ratio=6, strides=(2, 2), se_ratio=0.25, id_skip=True, fused_conv=False, conv_type='depthwise'), BlockConfig(input_filters=80, output_filters=112, kernel_size=5, num_repeat=3, expand_ratio=6, strides=(1, 1), se_ratio=0.25, id_skip=True, fused_conv=False, conv_type='depthwise'), BlockConfig(input_filters=112, output_filters=192, kernel_size=5, num_repeat=4, expand_ratio=6, strides=(2, 2), se_ratio=0.25, id_skip=True, fused_conv=False, conv_type='depthwise'), BlockConfig(input_filters=192, output_filters=320, kernel_size=3, num_repeat=1, expand_ratio=6, strides=(1, 1), se_ratio=0.25, id_skip=True, fused_conv=False, conv_type='depthwise')), stem_base_filters=32, top_base_filters=1280, activation='simple_swish', batch_norm='default', bn_momentum=0.99, bn_epsilon=0.001, weight_decay=5e-06, drop_connect_rate=0.2, depth_divisor=8, min_depth=None, use_se=True, input_channels=3, num_classes=1000, model_name='efficientnet', rescale_input=False, data_format='channels_last', dtype='float32')\r\n",
      "I0219 19:41:34.875839 4381197696 ssd_efficientnet_bifpn_feature_extractor.py:145] EfficientDet EfficientNet backbone version: efficientnet-b4\r\n",
      "I0219 19:41:34.875960 4381197696 ssd_efficientnet_bifpn_feature_extractor.py:147] EfficientDet BiFPN num filters: 224\r\n",
      "I0219 19:41:34.875995 4381197696 ssd_efficientnet_bifpn_feature_extractor.py:148] EfficientDet BiFPN num iterations: 7\r\n",
      "I0219 19:41:34.876796 4381197696 efficientnet_model.py:147] round_filter input=32 output=48\r\n",
      "I0219 19:41:34.882369 4381197696 efficientnet_model.py:147] round_filter input=32 output=48\r\n",
      "I0219 19:41:34.882445 4381197696 efficientnet_model.py:147] round_filter input=16 output=24\r\n",
      "I0219 19:41:34.920855 4381197696 efficientnet_model.py:147] round_filter input=16 output=24\r\n",
      "I0219 19:41:34.920942 4381197696 efficientnet_model.py:147] round_filter input=24 output=32\r\n",
      "I0219 19:41:35.130961 4381197696 efficientnet_model.py:147] round_filter input=24 output=32\r\n",
      "I0219 19:41:35.131045 4381197696 efficientnet_model.py:147] round_filter input=40 output=56\r\n",
      "I0219 19:41:35.224122 4381197696 efficientnet_model.py:147] round_filter input=40 output=56\r\n",
      "I0219 19:41:35.224207 4381197696 efficientnet_model.py:147] round_filter input=80 output=112\r\n",
      "I0219 19:41:35.368688 4381197696 efficientnet_model.py:147] round_filter input=80 output=112\r\n",
      "I0219 19:41:35.368775 4381197696 efficientnet_model.py:147] round_filter input=112 output=160\r\n",
      "I0219 19:41:35.522960 4381197696 efficientnet_model.py:147] round_filter input=112 output=160\r\n",
      "I0219 19:41:35.523051 4381197696 efficientnet_model.py:147] round_filter input=192 output=272\r\n",
      "I0219 19:41:35.750081 4381197696 efficientnet_model.py:147] round_filter input=192 output=272\r\n",
      "I0219 19:41:35.750170 4381197696 efficientnet_model.py:147] round_filter input=320 output=448\r\n",
      "I0219 19:41:35.815680 4381197696 efficientnet_model.py:147] round_filter input=1280 output=1792\r\n",
      "I0219 19:41:35.832077 4381197696 efficientnet_model.py:458] Building model efficientnet with params ModelConfig(width_coefficient=1.4, depth_coefficient=1.8, resolution=380, dropout_rate=0.4, blocks=(BlockConfig(input_filters=32, output_filters=16, kernel_size=3, num_repeat=1, expand_ratio=1, strides=(1, 1), se_ratio=0.25, id_skip=True, fused_conv=False, conv_type='depthwise'), BlockConfig(input_filters=16, output_filters=24, kernel_size=3, num_repeat=2, expand_ratio=6, strides=(2, 2), se_ratio=0.25, id_skip=True, fused_conv=False, conv_type='depthwise'), BlockConfig(input_filters=24, output_filters=40, kernel_size=5, num_repeat=2, expand_ratio=6, strides=(2, 2), se_ratio=0.25, id_skip=True, fused_conv=False, conv_type='depthwise'), BlockConfig(input_filters=40, output_filters=80, kernel_size=3, num_repeat=3, expand_ratio=6, strides=(2, 2), se_ratio=0.25, id_skip=True, fused_conv=False, conv_type='depthwise'), BlockConfig(input_filters=80, output_filters=112, kernel_size=5, num_repeat=3, expand_ratio=6, strides=(1, 1), se_ratio=0.25, id_skip=True, fused_conv=False, conv_type='depthwise'), BlockConfig(input_filters=112, output_filters=192, kernel_size=5, num_repeat=4, expand_ratio=6, strides=(2, 2), se_ratio=0.25, id_skip=True, fused_conv=False, conv_type='depthwise'), BlockConfig(input_filters=192, output_filters=320, kernel_size=3, num_repeat=1, expand_ratio=6, strides=(1, 1), se_ratio=0.25, id_skip=True, fused_conv=False, conv_type='depthwise')), stem_base_filters=32, top_base_filters=1280, activation='simple_swish', batch_norm='default', bn_momentum=0.99, bn_epsilon=0.001, weight_decay=5e-06, drop_connect_rate=0.2, depth_divisor=8, min_depth=None, use_se=True, input_channels=3, num_classes=1000, model_name='efficientnet', rescale_input=False, data_format='channels_last', dtype='float32')\r\n",
      "I0219 19:41:35.866350 4381197696 ssd_efficientnet_bifpn_feature_extractor.py:145] EfficientDet EfficientNet backbone version: efficientnet-b5\r\n",
      "I0219 19:41:35.866446 4381197696 ssd_efficientnet_bifpn_feature_extractor.py:147] EfficientDet BiFPN num filters: 288\r\n",
      "I0219 19:41:35.866470 4381197696 ssd_efficientnet_bifpn_feature_extractor.py:148] EfficientDet BiFPN num iterations: 7\r\n",
      "I0219 19:41:35.867160 4381197696 efficientnet_model.py:147] round_filter input=32 output=48\r\n",
      "I0219 19:41:35.871898 4381197696 efficientnet_model.py:147] round_filter input=32 output=48\r\n",
      "I0219 19:41:35.871951 4381197696 efficientnet_model.py:147] round_filter input=16 output=24\r\n",
      "I0219 19:41:35.928162 4381197696 efficientnet_model.py:147] round_filter input=16 output=24\r\n",
      "I0219 19:41:35.928242 4381197696 efficientnet_model.py:147] round_filter input=24 output=40\r\n",
      "I0219 19:41:36.050702 4381197696 efficientnet_model.py:147] round_filter input=24 output=40\r\n",
      "I0219 19:41:36.050785 4381197696 efficientnet_model.py:147] round_filter input=40 output=64\r\n",
      "I0219 19:41:36.172766 4381197696 efficientnet_model.py:147] round_filter input=40 output=64\r\n",
      "I0219 19:41:36.172848 4381197696 efficientnet_model.py:147] round_filter input=80 output=128\r\n",
      "I0219 19:41:36.347093 4381197696 efficientnet_model.py:147] round_filter input=80 output=128\r\n",
      "I0219 19:41:36.347236 4381197696 efficientnet_model.py:147] round_filter input=112 output=176\r\n",
      "I0219 19:41:36.528506 4381197696 efficientnet_model.py:147] round_filter input=112 output=176\r\n",
      "I0219 19:41:36.528601 4381197696 efficientnet_model.py:147] round_filter input=192 output=304\r\n",
      "I0219 19:41:36.801616 4381197696 efficientnet_model.py:147] round_filter input=192 output=304\r\n",
      "I0219 19:41:36.801700 4381197696 efficientnet_model.py:147] round_filter input=320 output=512\r\n",
      "I0219 19:41:37.015413 4381197696 efficientnet_model.py:147] round_filter input=1280 output=2048\r\n",
      "I0219 19:41:37.034171 4381197696 efficientnet_model.py:458] Building model efficientnet with params ModelConfig(width_coefficient=1.6, depth_coefficient=2.2, resolution=456, dropout_rate=0.4, blocks=(BlockConfig(input_filters=32, output_filters=16, kernel_size=3, num_repeat=1, expand_ratio=1, strides=(1, 1), se_ratio=0.25, id_skip=True, fused_conv=False, conv_type='depthwise'), BlockConfig(input_filters=16, output_filters=24, kernel_size=3, num_repeat=2, expand_ratio=6, strides=(2, 2), se_ratio=0.25, id_skip=True, fused_conv=False, conv_type='depthwise'), BlockConfig(input_filters=24, output_filters=40, kernel_size=5, num_repeat=2, expand_ratio=6, strides=(2, 2), se_ratio=0.25, id_skip=True, fused_conv=False, conv_type='depthwise'), BlockConfig(input_filters=40, output_filters=80, kernel_size=3, num_repeat=3, expand_ratio=6, strides=(2, 2), se_ratio=0.25, id_skip=True, fused_conv=False, conv_type='depthwise'), BlockConfig(input_filters=80, output_filters=112, kernel_size=5, num_repeat=3, expand_ratio=6, strides=(1, 1), se_ratio=0.25, id_skip=True, fused_conv=False, conv_type='depthwise'), BlockConfig(input_filters=112, output_filters=192, kernel_size=5, num_repeat=4, expand_ratio=6, strides=(2, 2), se_ratio=0.25, id_skip=True, fused_conv=False, conv_type='depthwise'), BlockConfig(input_filters=192, output_filters=320, kernel_size=3, num_repeat=1, expand_ratio=6, strides=(1, 1), se_ratio=0.25, id_skip=True, fused_conv=False, conv_type='depthwise')), stem_base_filters=32, top_base_filters=1280, activation='simple_swish', batch_norm='default', bn_momentum=0.99, bn_epsilon=0.001, weight_decay=5e-06, drop_connect_rate=0.2, depth_divisor=8, min_depth=None, use_se=True, input_channels=3, num_classes=1000, model_name='efficientnet', rescale_input=False, data_format='channels_last', dtype='float32')\r\n",
      "I0219 19:41:37.077953 4381197696 ssd_efficientnet_bifpn_feature_extractor.py:145] EfficientDet EfficientNet backbone version: efficientnet-b6\r\n",
      "I0219 19:41:37.078042 4381197696 ssd_efficientnet_bifpn_feature_extractor.py:147] EfficientDet BiFPN num filters: 384\r\n",
      "I0219 19:41:37.078066 4381197696 ssd_efficientnet_bifpn_feature_extractor.py:148] EfficientDet BiFPN num iterations: 8\r\n",
      "I0219 19:41:37.078749 4381197696 efficientnet_model.py:147] round_filter input=32 output=56\r\n",
      "I0219 19:41:37.083440 4381197696 efficientnet_model.py:147] round_filter input=32 output=56\r\n",
      "I0219 19:41:37.083487 4381197696 efficientnet_model.py:147] round_filter input=16 output=32\r\n",
      "I0219 19:41:37.139287 4381197696 efficientnet_model.py:147] round_filter input=16 output=32\r\n",
      "I0219 19:41:37.139391 4381197696 efficientnet_model.py:147] round_filter input=24 output=40\r\n",
      "I0219 19:41:37.288106 4381197696 efficientnet_model.py:147] round_filter input=24 output=40\r\n",
      "I0219 19:41:37.288196 4381197696 efficientnet_model.py:147] round_filter input=40 output=72\r\n",
      "I0219 19:41:37.432433 4381197696 efficientnet_model.py:147] round_filter input=40 output=72\r\n",
      "I0219 19:41:37.432526 4381197696 efficientnet_model.py:147] round_filter input=80 output=144\r\n",
      "I0219 19:41:37.631815 4381197696 efficientnet_model.py:147] round_filter input=80 output=144\r\n",
      "I0219 19:41:37.631903 4381197696 efficientnet_model.py:147] round_filter input=112 output=200\r\n",
      "I0219 19:41:37.841423 4381197696 efficientnet_model.py:147] round_filter input=112 output=200\r\n",
      "I0219 19:41:37.841511 4381197696 efficientnet_model.py:147] round_filter input=192 output=344\r\n",
      "I0219 19:41:38.187426 4381197696 efficientnet_model.py:147] round_filter input=192 output=344\r\n",
      "I0219 19:41:38.187515 4381197696 efficientnet_model.py:147] round_filter input=320 output=576\r\n",
      "I0219 19:41:38.320057 4381197696 efficientnet_model.py:147] round_filter input=1280 output=2304\r\n",
      "I0219 19:41:38.338258 4381197696 efficientnet_model.py:458] Building model efficientnet with params ModelConfig(width_coefficient=1.8, depth_coefficient=2.6, resolution=528, dropout_rate=0.5, blocks=(BlockConfig(input_filters=32, output_filters=16, kernel_size=3, num_repeat=1, expand_ratio=1, strides=(1, 1), se_ratio=0.25, id_skip=True, fused_conv=False, conv_type='depthwise'), BlockConfig(input_filters=16, output_filters=24, kernel_size=3, num_repeat=2, expand_ratio=6, strides=(2, 2), se_ratio=0.25, id_skip=True, fused_conv=False, conv_type='depthwise'), BlockConfig(input_filters=24, output_filters=40, kernel_size=5, num_repeat=2, expand_ratio=6, strides=(2, 2), se_ratio=0.25, id_skip=True, fused_conv=False, conv_type='depthwise'), BlockConfig(input_filters=40, output_filters=80, kernel_size=3, num_repeat=3, expand_ratio=6, strides=(2, 2), se_ratio=0.25, id_skip=True, fused_conv=False, conv_type='depthwise'), BlockConfig(input_filters=80, output_filters=112, kernel_size=5, num_repeat=3, expand_ratio=6, strides=(1, 1), se_ratio=0.25, id_skip=True, fused_conv=False, conv_type='depthwise'), BlockConfig(input_filters=112, output_filters=192, kernel_size=5, num_repeat=4, expand_ratio=6, strides=(2, 2), se_ratio=0.25, id_skip=True, fused_conv=False, conv_type='depthwise'), BlockConfig(input_filters=192, output_filters=320, kernel_size=3, num_repeat=1, expand_ratio=6, strides=(1, 1), se_ratio=0.25, id_skip=True, fused_conv=False, conv_type='depthwise')), stem_base_filters=32, top_base_filters=1280, activation='simple_swish', batch_norm='default', bn_momentum=0.99, bn_epsilon=0.001, weight_decay=5e-06, drop_connect_rate=0.2, depth_divisor=8, min_depth=None, use_se=True, input_channels=3, num_classes=1000, model_name='efficientnet', rescale_input=False, data_format='channels_last', dtype='float32')\r\n",
      "I0219 19:41:38.389242 4381197696 ssd_efficientnet_bifpn_feature_extractor.py:145] EfficientDet EfficientNet backbone version: efficientnet-b7\r\n",
      "I0219 19:41:38.389378 4381197696 ssd_efficientnet_bifpn_feature_extractor.py:147] EfficientDet BiFPN num filters: 384\r\n",
      "I0219 19:41:38.389412 4381197696 ssd_efficientnet_bifpn_feature_extractor.py:148] EfficientDet BiFPN num iterations: 8\r\n",
      "I0219 19:41:38.390447 4381197696 efficientnet_model.py:147] round_filter input=32 output=64\r\n",
      "I0219 19:41:38.396352 4381197696 efficientnet_model.py:147] round_filter input=32 output=64\r\n",
      "I0219 19:41:38.396435 4381197696 efficientnet_model.py:147] round_filter input=16 output=32\r\n",
      "I0219 19:41:38.479146 4381197696 efficientnet_model.py:147] round_filter input=16 output=32\r\n",
      "I0219 19:41:38.479244 4381197696 efficientnet_model.py:147] round_filter input=24 output=48\r\n",
      "I0219 19:41:38.650326 4381197696 efficientnet_model.py:147] round_filter input=24 output=48\r\n",
      "I0219 19:41:38.650418 4381197696 efficientnet_model.py:147] round_filter input=40 output=80\r\n",
      "I0219 19:41:38.813498 4381197696 efficientnet_model.py:147] round_filter input=40 output=80\r\n",
      "I0219 19:41:38.813589 4381197696 efficientnet_model.py:147] round_filter input=80 output=160\r\n",
      "I0219 19:41:39.197529 4381197696 efficientnet_model.py:147] round_filter input=80 output=160\r\n",
      "I0219 19:41:39.197613 4381197696 efficientnet_model.py:147] round_filter input=112 output=224\r\n",
      "I0219 19:41:39.467801 4381197696 efficientnet_model.py:147] round_filter input=112 output=224\r\n",
      "I0219 19:41:39.467885 4381197696 efficientnet_model.py:147] round_filter input=192 output=384\r\n",
      "I0219 19:41:39.895463 4381197696 efficientnet_model.py:147] round_filter input=192 output=384\r\n",
      "I0219 19:41:39.895558 4381197696 efficientnet_model.py:147] round_filter input=320 output=640\r\n",
      "I0219 19:41:40.102352 4381197696 efficientnet_model.py:147] round_filter input=1280 output=2560\r\n",
      "I0219 19:41:40.127159 4381197696 efficientnet_model.py:458] Building model efficientnet with params ModelConfig(width_coefficient=2.0, depth_coefficient=3.1, resolution=600, dropout_rate=0.5, blocks=(BlockConfig(input_filters=32, output_filters=16, kernel_size=3, num_repeat=1, expand_ratio=1, strides=(1, 1), se_ratio=0.25, id_skip=True, fused_conv=False, conv_type='depthwise'), BlockConfig(input_filters=16, output_filters=24, kernel_size=3, num_repeat=2, expand_ratio=6, strides=(2, 2), se_ratio=0.25, id_skip=True, fused_conv=False, conv_type='depthwise'), BlockConfig(input_filters=24, output_filters=40, kernel_size=5, num_repeat=2, expand_ratio=6, strides=(2, 2), se_ratio=0.25, id_skip=True, fused_conv=False, conv_type='depthwise'), BlockConfig(input_filters=40, output_filters=80, kernel_size=3, num_repeat=3, expand_ratio=6, strides=(2, 2), se_ratio=0.25, id_skip=True, fused_conv=False, conv_type='depthwise'), BlockConfig(input_filters=80, output_filters=112, kernel_size=5, num_repeat=3, expand_ratio=6, strides=(1, 1), se_ratio=0.25, id_skip=True, fused_conv=False, conv_type='depthwise'), BlockConfig(input_filters=112, output_filters=192, kernel_size=5, num_repeat=4, expand_ratio=6, strides=(2, 2), se_ratio=0.25, id_skip=True, fused_conv=False, conv_type='depthwise'), BlockConfig(input_filters=192, output_filters=320, kernel_size=3, num_repeat=1, expand_ratio=6, strides=(1, 1), se_ratio=0.25, id_skip=True, fused_conv=False, conv_type='depthwise')), stem_base_filters=32, top_base_filters=1280, activation='simple_swish', batch_norm='default', bn_momentum=0.99, bn_epsilon=0.001, weight_decay=5e-06, drop_connect_rate=0.2, depth_divisor=8, min_depth=None, use_se=True, input_channels=3, num_classes=1000, model_name='efficientnet', rescale_input=False, data_format='channels_last', dtype='float32')\r\n",
      "INFO:tensorflow:time(__main__.ModelBuilderTF2Test.test_create_ssd_models_from_config): 7.87s\r\n",
      "I0219 19:41:40.188689 4381197696 test_util.py:2308] time(__main__.ModelBuilderTF2Test.test_create_ssd_models_from_config): 7.87s\r\n",
      "[       OK ] ModelBuilderTF2Test.test_create_ssd_models_from_config\r\n",
      "[ RUN      ] ModelBuilderTF2Test.test_invalid_faster_rcnn_batchnorm_update\r\n",
      "INFO:tensorflow:time(__main__.ModelBuilderTF2Test.test_invalid_faster_rcnn_batchnorm_update): 0.0s\r\n",
      "I0219 19:41:40.191902 4381197696 test_util.py:2308] time(__main__.ModelBuilderTF2Test.test_invalid_faster_rcnn_batchnorm_update): 0.0s\r\n",
      "[       OK ] ModelBuilderTF2Test.test_invalid_faster_rcnn_batchnorm_update\r\n",
      "[ RUN      ] ModelBuilderTF2Test.test_invalid_first_stage_nms_iou_threshold\r\n",
      "INFO:tensorflow:time(__main__.ModelBuilderTF2Test.test_invalid_first_stage_nms_iou_threshold): 0.0s\r\n",
      "I0219 19:41:40.192654 4381197696 test_util.py:2308] time(__main__.ModelBuilderTF2Test.test_invalid_first_stage_nms_iou_threshold): 0.0s\r\n",
      "[       OK ] ModelBuilderTF2Test.test_invalid_first_stage_nms_iou_threshold\r\n",
      "[ RUN      ] ModelBuilderTF2Test.test_invalid_model_config_proto\r\n",
      "INFO:tensorflow:time(__main__.ModelBuilderTF2Test.test_invalid_model_config_proto): 0.0s\r\n",
      "I0219 19:41:40.192822 4381197696 test_util.py:2308] time(__main__.ModelBuilderTF2Test.test_invalid_model_config_proto): 0.0s\r\n",
      "[       OK ] ModelBuilderTF2Test.test_invalid_model_config_proto\r\n",
      "[ RUN      ] ModelBuilderTF2Test.test_invalid_second_stage_batch_size\r\n",
      "INFO:tensorflow:time(__main__.ModelBuilderTF2Test.test_invalid_second_stage_batch_size): 0.0s\r\n",
      "I0219 19:41:40.193459 4381197696 test_util.py:2308] time(__main__.ModelBuilderTF2Test.test_invalid_second_stage_batch_size): 0.0s\r\n",
      "[       OK ] ModelBuilderTF2Test.test_invalid_second_stage_batch_size\r\n",
      "[ RUN      ] ModelBuilderTF2Test.test_session\r\n",
      "[  SKIPPED ] ModelBuilderTF2Test.test_session\r\n",
      "[ RUN      ] ModelBuilderTF2Test.test_unknown_faster_rcnn_feature_extractor\r\n",
      "INFO:tensorflow:time(__main__.ModelBuilderTF2Test.test_unknown_faster_rcnn_feature_extractor): 0.0s\r\n",
      "I0219 19:41:40.194008 4381197696 test_util.py:2308] time(__main__.ModelBuilderTF2Test.test_unknown_faster_rcnn_feature_extractor): 0.0s\r\n",
      "[       OK ] ModelBuilderTF2Test.test_unknown_faster_rcnn_feature_extractor\r\n",
      "[ RUN      ] ModelBuilderTF2Test.test_unknown_meta_architecture\r\n",
      "INFO:tensorflow:time(__main__.ModelBuilderTF2Test.test_unknown_meta_architecture): 0.0s\r\n",
      "I0219 19:41:40.194139 4381197696 test_util.py:2308] time(__main__.ModelBuilderTF2Test.test_unknown_meta_architecture): 0.0s\r\n",
      "[       OK ] ModelBuilderTF2Test.test_unknown_meta_architecture\r\n",
      "[ RUN      ] ModelBuilderTF2Test.test_unknown_ssd_feature_extractor\r\n",
      "INFO:tensorflow:time(__main__.ModelBuilderTF2Test.test_unknown_ssd_feature_extractor): 0.0s\r\n",
      "I0219 19:41:40.194552 4381197696 test_util.py:2308] time(__main__.ModelBuilderTF2Test.test_unknown_ssd_feature_extractor): 0.0s\r\n",
      "[       OK ] ModelBuilderTF2Test.test_unknown_ssd_feature_extractor\r\n",
      "----------------------------------------------------------------------\r\n",
      "Ran 24 tests in 9.523s\r\n",
      "\r\n",
      "OK (skipped=1)\r\n"
     ]
    }
   ],
   "source": [
    "!python {VERIFICATION_SCRIPT}"
   ],
   "metadata": {
    "collapsed": false,
    "pycharm": {
     "name": "#%%\n"
    }
   }
  },
  {
   "cell_type": "code",
   "execution_count": 28,
   "outputs": [
    {
     "name": "stdout",
     "output_type": "stream",
     "text": [
      "Collecting package metadata (current_repodata.json): - ^C\r\n",
      "failed\r\n",
      "\r\n",
      "CondaError: KeyboardInterrupt\r\n",
      "\r\n",
      "Collecting package metadata (current_repodata.json): done\r\n",
      "Solving environment: \\ \r\n",
      "The environment is inconsistent, please check the package plan carefully\r\n",
      "The following packages are causing the inconsistency:\r\n",
      "\r\n",
      "  - conda-forge/osx-arm64::tensorflow-base==2.7.0=cpu_py39hbdae8f9_0\r\n",
      "  - conda-forge/noarch::bleach==4.1.0=pyhd8ed1ab_0\r\n",
      "  - conda-forge/osx-arm64::jupyter==1.0.0=py39h2804cbe_7\r\n",
      "  - conda-forge/noarch::packaging==21.3=pyhd8ed1ab_0\r\n",
      "  - conda-forge/noarch::ipywidgets==7.6.5=pyhd8ed1ab_0\r\n",
      "  - conda-forge/osx-arm64::nbconvert==6.4.2=py39h2804cbe_0\r\n",
      "  - conda-forge/noarch::keras-preprocessing==1.1.2=pyhd8ed1ab_0\r\n",
      "  - conda-forge/osx-arm64::scipy==1.8.0=py39h5060c3b_1\r\n",
      "  - conda-forge/noarch::opt_einsum==3.3.0=pyhd8ed1ab_1\r\n",
      "  - conda-forge/noarch::notebook==6.4.8=pyha770c72_0\r\n",
      "  - conda-forge/noarch::tensorboard==2.6.0=pyhd8ed1ab_1\r\n",
      "  - conda-forge/osx-arm64::tensorflow-estimator==2.7.0=cpu_py39h91c69d6_0\r\n",
      "  - conda-forge/osx-arm64::widgetsnbextension==3.5.2=py39h2804cbe_1\r\n",
      "  - conda-forge/osx-arm64::h5py==3.6.0=nompi_py39hd982b79_100\r\n",
      "  - conda-forge/osx-arm64::tensorflow==2.7.0=cpu_py39h2839aeb_0\r\n",
      "done\r\n",
      "\r\n",
      "\r\n",
      "==> WARNING: A newer version of conda exists. <==\r\n",
      "  current version: 4.10.3\r\n",
      "  latest version: 4.11.0\r\n",
      "\r\n",
      "Please update conda by running\r\n",
      "\r\n",
      "    $ conda update -n base conda\r\n",
      "\r\n",
      "\r\n",
      "\r\n",
      "## Package Plan ##\r\n",
      "\r\n",
      "  environment location: /Users/loyio/miniforge3/envs/tfod\r\n",
      "\r\n",
      "  added / updated specs:\r\n",
      "    - tensorflow\r\n",
      "\r\n",
      "\r\n",
      "The following NEW packages will be INSTALLED:\r\n",
      "\r\n",
      "  numpy              conda-forge/osx-arm64::numpy-1.22.2-py39h61a45d2_0\r\n",
      "  pyparsing          conda-forge/noarch::pyparsing-3.0.7-pyhd8ed1ab_0\r\n",
      "\r\n",
      "\r\n",
      "Proceed ([y]/n)? ^C\r\n",
      "\r\n",
      "CondaSystemExit: \r\n",
      "Operation aborted.  Exiting.\r\n",
      "\r\n"
     ]
    }
   ],
   "source": [
    "!conda install tensorflow"
   ],
   "metadata": {
    "collapsed": false,
    "pycharm": {
     "name": "#%%\n"
    }
   }
  },
  {
   "cell_type": "code",
   "execution_count": 27,
   "outputs": [
    {
     "name": "stdout",
     "output_type": "stream",
     "text": [
      "Found existing installation: protobuf 3.19.4\r\n",
      "Uninstalling protobuf-3.19.4:\r\n",
      "  Successfully uninstalled protobuf-3.19.4\r\n",
      "Found existing installation: matplotlib 3.5.1\r\n",
      "Uninstalling matplotlib-3.5.1:\r\n",
      "  Successfully uninstalled matplotlib-3.5.1\r\n",
      "Collecting protobuf\r\n",
      "  Downloading protobuf-3.19.4-py2.py3-none-any.whl (162 kB)\r\n",
      "\u001B[2K     \u001B[90m━━━━━━━━━━━━━━━━━━━━━━━━━━━━━━━━━━━━━━━\u001B[0m \u001B[32m162.7/162.7 KB\u001B[0m \u001B[31m1.6 MB/s\u001B[0m eta \u001B[36m0:00:00\u001B[0ma \u001B[36m0:00:01\u001B[0m\r\n",
      "\u001B[?25hCollecting matplotlib==3.2\r\n",
      "  Downloading matplotlib-3.2.0.tar.gz (40.5 MB)\r\n",
      "\u001B[2K     \u001B[90m━━━━━━━━━━━━━━━━━━━━━━━━━━━━━━━━━━━━━━━━\u001B[0m \u001B[32m40.5/40.5 MB\u001B[0m \u001B[31m3.6 MB/s\u001B[0m eta \u001B[36m0:00:00\u001B[0m00:01\u001B[0m00:01\u001B[0m\r\n",
      "\u001B[?25h  Preparing metadata (setup.py) ... \u001B[?25ldone\r\n",
      "\u001B[?25hRequirement already satisfied: cycler>=0.10 in /Users/loyio/miniforge3/envs/tfod/lib/python3.9/site-packages (from matplotlib==3.2) (0.11.0)\r\n",
      "Requirement already satisfied: kiwisolver>=1.0.1 in /Users/loyio/miniforge3/envs/tfod/lib/python3.9/site-packages (from matplotlib==3.2) (1.3.2)\r\n",
      "Requirement already satisfied: numpy>=1.11 in /Users/loyio/miniforge3/envs/tfod/lib/python3.9/site-packages (from matplotlib==3.2) (1.21.5)\r\n",
      "Requirement already satisfied: pyparsing!=2.0.4,!=2.1.2,!=2.1.6,>=2.0.1 in /Users/loyio/miniforge3/envs/tfod/lib/python3.9/site-packages (from matplotlib==3.2) (2.4.7)\r\n",
      "Requirement already satisfied: python-dateutil>=2.1 in /Users/loyio/miniforge3/envs/tfod/lib/python3.9/site-packages (from matplotlib==3.2) (2.8.2)\r\n",
      "Requirement already satisfied: six>=1.5 in /Users/loyio/miniforge3/envs/tfod/lib/python3.9/site-packages (from python-dateutil>=2.1->matplotlib==3.2) (1.16.0)\r\n",
      "Building wheels for collected packages: matplotlib\r\n",
      "  Building wheel for matplotlib (setup.py) ... \u001B[?25ldone\r\n",
      "\u001B[?25h  Created wheel for matplotlib: filename=matplotlib-3.2.0-cp39-cp39-macosx_11_0_arm64.whl size=8511166 sha256=aa3e52f00720f88dd051ac8affef5da2e96d476b3227fd61bae61c5703d35d8d\r\n",
      "  Stored in directory: /Users/loyio/Library/Caches/pip/wheels/64/07/f4/515cff377a68be990e28179c6a93f24b922189b6a6612fc5cd\r\n",
      "Successfully built matplotlib\r\n",
      "Installing collected packages: protobuf, matplotlib\r\n",
      "Successfully installed matplotlib-3.2.0 protobuf-3.19.4\r\n"
     ]
    }
   ],
   "source": [
    "!pip uninstall protobuf matplotlib -y\n",
    "!pip install protobuf matplotlib==3.2"
   ],
   "metadata": {
    "collapsed": false,
    "pycharm": {
     "name": "#%%\n"
    }
   }
  },
  {
   "cell_type": "code",
   "execution_count": 12,
   "outputs": [],
   "source": [
    "import object_detection"
   ],
   "metadata": {
    "collapsed": false,
    "pycharm": {
     "name": "#%%\n"
    }
   }
  },
  {
   "cell_type": "code",
   "execution_count": 13,
   "outputs": [
    {
     "name": "stdout",
     "output_type": "stream",
     "text": [
      "--2022-02-19 19:49:31--  http://download.tensorflow.org/models/object_detection/tf2/20200711/ssd_mobilenet_v2_fpnlite_320x320_coco17_tpu-8.tar.gz\r\n",
      "Resolving download.tensorflow.org (download.tensorflow.org)... 198.18.3.145\r\n",
      "Connecting to download.tensorflow.org (download.tensorflow.org)|198.18.3.145|:80... connected.\r\n",
      "HTTP request sent, awaiting response... 200 OK\r\n",
      "Length: 20515344 (20M) [application/x-tar]\r\n",
      "Saving to: ‘ssd_mobilenet_v2_fpnlite_320x320_coco17_tpu-8.tar.gz’\r\n",
      "\r\n",
      "ssd_mobilenet_v2_fp 100%[===================>]  19.56M  3.78MB/s    in 4.8s    \r\n",
      "\r\n",
      "2022-02-19 19:49:36 (4.04 MB/s) - ‘ssd_mobilenet_v2_fpnlite_320x320_coco17_tpu-8.tar.gz’ saved [20515344/20515344]\r\n",
      "\r\n",
      "x ssd_mobilenet_v2_fpnlite_320x320_coco17_tpu-8/\r\n",
      "x ssd_mobilenet_v2_fpnlite_320x320_coco17_tpu-8/checkpoint/\r\n",
      "x ssd_mobilenet_v2_fpnlite_320x320_coco17_tpu-8/checkpoint/ckpt-0.data-00000-of-00001\r\n",
      "x ssd_mobilenet_v2_fpnlite_320x320_coco17_tpu-8/checkpoint/checkpoint\r\n",
      "x ssd_mobilenet_v2_fpnlite_320x320_coco17_tpu-8/checkpoint/ckpt-0.index\r\n",
      "x ssd_mobilenet_v2_fpnlite_320x320_coco17_tpu-8/pipeline.config\r\n",
      "x ssd_mobilenet_v2_fpnlite_320x320_coco17_tpu-8/saved_model/\r\n",
      "x ssd_mobilenet_v2_fpnlite_320x320_coco17_tpu-8/saved_model/saved_model.pb\r\n",
      "x ssd_mobilenet_v2_fpnlite_320x320_coco17_tpu-8/saved_model/variables/\r\n",
      "x ssd_mobilenet_v2_fpnlite_320x320_coco17_tpu-8/saved_model/variables/variables.data-00000-of-00001\r\n",
      "x ssd_mobilenet_v2_fpnlite_320x320_coco17_tpu-8/saved_model/variables/variables.index\r\n"
     ]
    }
   ],
   "source": [
    "if os.name =='posix':\n",
    "    !wget {PRETRAINED_MODEL_URL}\n",
    "    !mv {PRETRAINED_MODEL_NAME+'.tar.gz'} {paths['PRETRAINED_MODEL_PATH']}\n",
    "    !cd {paths['PRETRAINED_MODEL_PATH']} && tar -zxvf {PRETRAINED_MODEL_NAME+'.tar.gz'}\n",
    "if os.name == 'nt':\n",
    "    wget.download(PRETRAINED_MODEL_URL)\n",
    "    !move {PRETRAINED_MODEL_NAME+'.tar.gz'} {paths['PRETRAINED_MODEL_PATH']}\n",
    "    !cd {paths['PRETRAINED_MODEL_PATH']} && tar -zxvf {PRETRAINED_MODEL_NAME+'.tar.gz'}"
   ],
   "metadata": {
    "collapsed": false,
    "pycharm": {
     "name": "#%%\n"
    }
   }
  },
  {
   "cell_type": "markdown",
   "source": [
    "   ## 2. Create Label Map"
   ],
   "metadata": {
    "collapsed": false,
    "pycharm": {
     "name": "#%% md\n"
    }
   }
  },
  {
   "cell_type": "code",
   "execution_count": null,
   "outputs": [],
   "source": [],
   "metadata": {
    "collapsed": false,
    "pycharm": {
     "name": "#%%\n"
    }
   }
  }
 ],
 "metadata": {
  "kernelspec": {
   "name": "tfod",
   "language": "python",
   "display_name": "tfod"
  },
  "language_info": {
   "codemirror_mode": {
    "name": "ipython",
    "version": 2
   },
   "file_extension": ".py",
   "mimetype": "text/x-python",
   "name": "python",
   "nbconvert_exporter": "python",
   "pygments_lexer": "ipython2",
   "version": "2.7.6"
  }
 },
 "nbformat": 4,
 "nbformat_minor": 0
}