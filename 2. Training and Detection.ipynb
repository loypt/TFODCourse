{
 "cells": [
  {
   "cell_type": "markdown",
   "metadata": {
    "pycharm": {
     "name": "#%% md\n"
    }
   },
   "source": [
    "## 0. Setup Paths"
   ]
  },
  {
   "cell_type": "code",
   "execution_count": 2,
   "metadata": {
    "collapsed": false,
    "jupyter": {
     "outputs_hidden": false
    },
    "pycharm": {
     "name": "#%%\n"
    }
   },
   "outputs": [],
   "source": [
    "import os"
   ]
  },
  {
   "cell_type": "code",
   "execution_count": 3,
   "metadata": {
    "collapsed": false,
    "jupyter": {
     "outputs_hidden": false
    },
    "pycharm": {
     "name": "#%%\n"
    }
   },
   "outputs": [],
   "source": [
    "CUSTOM_MODEL_NAME = 'my_ssd_mobnet'\n",
    "PRETRAINED_MODEL_NAME = 'ssd_mobilenet_v2_fpnlite_320x320_coco17_tpu-8'\n",
    "PRETRAINED_MODEL_URL = 'http://download.tensorflow.org/models/object_detection/tf2/20200711/ssd_mobilenet_v2_fpnlite_320x320_coco17_tpu-8.tar.gz'\n",
    "TF_RECORD_SCRIPT_NAME = 'generate_tfrecord.py'\n",
    "LABEL_MAP_NAME = 'label_map.pbtxt'"
   ]
  },
  {
   "cell_type": "code",
   "execution_count": 4,
   "metadata": {
    "collapsed": false,
    "jupyter": {
     "outputs_hidden": false
    },
    "pycharm": {
     "name": "#%%\n"
    }
   },
   "outputs": [],
   "source": [
    "paths = {\n",
    "    'WORKSPACE_PATH': os.path.join('Tensorflow', 'workspace'),\n",
    "    'SCRIPTS_PATH': os.path.join('Tensorflow', 'scripts'),\n",
    "    'APIMODEL_PATH': os.path.join('Tensorflow', 'models'),\n",
    "    'ANNOTATION_PATH': os.path.join('Tensorflow', 'workspace', 'annotations'),\n",
    "    'IMAGE_PATH': os.path.join('Tensorflow', 'workspace', 'image'),\n",
    "    'MODEL_PATH': os.path.join('Tensorflow', 'workspace','models'),\n",
    "    'PRETRAINED_MODEL_PATH': os.path.join('Tensorflow', 'workspace','pre-trained-models'),\n",
    "    'CHECKPOINT_PATH': os.path.join('Tensorflow', 'workspace','models',CUSTOM_MODEL_NAME),\n",
    "    'OUTPUT_PATH': os.path.join('Tensorflow', 'workspace','models',CUSTOM_MODEL_NAME, 'export'),\n",
    "    'TFJS_PATH':os.path.join('Tensorflow', 'workspace','models',CUSTOM_MODEL_NAME, 'tfjsexport'),\n",
    "    'TFLITE_PATH':os.path.join('Tensorflow', 'workspace','models',CUSTOM_MODEL_NAME, 'tfliteexport'),\n",
    "    'PROTOC_PATH':os.path.join('Tensorflow','protoc')\n",
    "}"
   ]
  },
  {
   "cell_type": "code",
   "execution_count": 5,
   "metadata": {
    "collapsed": false,
    "jupyter": {
     "outputs_hidden": false
    },
    "pycharm": {
     "name": "#%%\n"
    }
   },
   "outputs": [],
   "source": [
    "files = {\n",
    "    'PIPELINE_CONFIG': os.path.join('Tensorflow', 'workspace', 'models', CUSTOM_MODEL_NAME, 'pipeline.config'),\n",
    "    'TF_RECORD_SCRIPT': os.path.join(paths['SCRIPTS_PATH'], TF_RECORD_SCRIPT_NAME),\n",
    "    'LABELMAP': os.path.join(paths['ANNOTATION_PATH'], LABEL_MAP_NAME)\n",
    "}"
   ]
  },
  {
   "cell_type": "code",
   "execution_count": 6,
   "metadata": {
    "collapsed": false,
    "jupyter": {
     "outputs_hidden": false
    },
    "pycharm": {
     "name": "#%%\n"
    }
   },
   "outputs": [],
   "source": [
    "for path in paths.values():\n",
    "    if not os.path.exists(path):\n",
    "        if os.name == 'posix':\n",
    "            !mkdir -p {path}\n",
    "        if os.name == 'nt':\n",
    "            !mkdir {path}"
   ]
  },
  {
   "cell_type": "markdown",
   "metadata": {
    "pycharm": {
     "name": "#%% md\n"
    }
   },
   "source": [
    "## 1. Download TF Models Pretrained Models from Tensorflow Model Zoo and Install TFOD"
   ]
  },
  {
   "cell_type": "code",
   "execution_count": 7,
   "metadata": {
    "collapsed": false,
    "jupyter": {
     "outputs_hidden": false
    },
    "pycharm": {
     "name": "#%%\n"
    }
   },
   "outputs": [
    {
     "name": "stdout",
     "output_type": "stream",
     "text": [
      "Requirement already satisfied: wget in /Users/loyio/miniforge3/lib/python3.9/site-packages (3.2)\n"
     ]
    }
   ],
   "source": [
    "!pip install wget"
   ]
  },
  {
   "cell_type": "code",
   "execution_count": 8,
   "metadata": {
    "collapsed": false,
    "jupyter": {
     "outputs_hidden": false
    },
    "pycharm": {
     "name": "#%%\n"
    }
   },
   "outputs": [],
   "source": [
    "import wget"
   ]
  },
  {
   "cell_type": "code",
   "execution_count": 9,
   "metadata": {
    "collapsed": false,
    "jupyter": {
     "outputs_hidden": false
    },
    "pycharm": {
     "name": "#%%\n"
    }
   },
   "outputs": [],
   "source": [
    "if not os.path.exists(os.path.join(paths['APIMODEL_PATH'], 'research', 'object_detection')):\n",
    "    !git clone https://github.com/tensorflow/models {paths['APIMODEL_PATH']}"
   ]
  },
  {
   "cell_type": "code",
   "execution_count": 10,
   "metadata": {
    "collapsed": false,
    "jupyter": {
     "outputs_hidden": false
    },
    "pycharm": {
     "name": "#%%\n"
    }
   },
   "outputs": [
    {
     "name": "stdout",
     "output_type": "stream",
     "text": [
      "Processing /Users/loyio/TFOD/TFODCourse/Tensorflow/models/research\n",
      "\u001b[33m  DEPRECATION: A future pip version will change local packages to be built in-place without first copying to a temporary directory. We recommend you use --use-feature=in-tree-build to test your packages with this new behavior before it becomes the default.\n",
      "   pip 21.3 will remove support for this functionality. You can find discussion regarding this at https://github.com/pypa/pip/issues/7555.\u001b[0m\n",
      "Collecting avro-python3\n",
      "  Using cached avro_python3-1.10.2-py3-none-any.whl\n",
      "Collecting apache-beam\n",
      "  Using cached apache-beam-2.37.0.zip (2.7 MB)\n",
      "Requirement already satisfied: pillow in /Users/loyio/miniforge3/lib/python3.9/site-packages (from object-detection==0.1) (8.2.0)\n",
      "Requirement already satisfied: lxml in /Users/loyio/miniforge3/lib/python3.9/site-packages (from object-detection==0.1) (4.6.3)\n",
      "Requirement already satisfied: matplotlib in /Users/loyio/miniforge3/lib/python3.9/site-packages (from object-detection==0.1) (3.4.3)\n",
      "Collecting Cython\n",
      "  Using cached Cython-0.29.28-py2.py3-none-any.whl (983 kB)\n",
      "Collecting contextlib2\n",
      "  Using cached contextlib2-21.6.0-py2.py3-none-any.whl (13 kB)\n",
      "Collecting tf-slim\n",
      "  Using cached tf_slim-1.1.0-py2.py3-none-any.whl (352 kB)\n",
      "Requirement already satisfied: six in /Users/loyio/miniforge3/lib/python3.9/site-packages (from object-detection==0.1) (1.16.0)\n",
      "Collecting pycocotools\n",
      "  Using cached pycocotools-2.0.4-cp39-cp39-macosx_11_0_arm64.whl\n",
      "Collecting lvis\n",
      "  Using cached lvis-0.5.3-py3-none-any.whl (14 kB)\n",
      "Collecting scipy\n",
      "  Using cached scipy-1.8.0-cp39-cp39-macosx_12_0_arm64.whl (28.7 MB)\n",
      "Requirement already satisfied: pandas in /Users/loyio/miniforge3/lib/python3.9/site-packages (from object-detection==0.1) (1.3.4)\n",
      "Collecting tf-models-official>=2.5.1\n",
      "  Using cached tf_models_official-2.8.0-py2.py3-none-any.whl (2.2 MB)\n",
      "\u001b[31mERROR: Could not find a version that satisfies the requirement tensorflow_io (from object-detection) (from versions: none)\u001b[0m\n",
      "\u001b[31mERROR: No matching distribution found for tensorflow_io\u001b[0m\n"
     ]
    }
   ],
   "source": [
    "# Install Tensorflow Object Detection\n",
    "if os.name=='posix':\n",
    "    !cd Tensorflow/models/research && protoc object_detection/protos/*.proto --python_out=. && cp object_detection/packages/tf2/setup.py . && python -m pip install .\n",
    "\n",
    "if os.name=='nt':\n",
    "    url=\"https://github.com/protocolbuffers/protobuf/releases/download/v3.15.6/protoc-3.15.6-win64.zip\"\n",
    "    wget.download(url)\n",
    "    !move protoc-3.15.6-win64.zip {paths['PROTOC_PATH']}\n",
    "    !cd {paths['PROTOC_PATH']} && tar -xf protoc-3.15.6-win64.zip\n",
    "    os.environ['PATH'] += os.pathsep + os.path.abspath(os.path.join(paths['PROTOC_PATH'], 'bin'))\n",
    "    !cd Tensorflow/models/research && protoc object_detection/protos/*.proto --python_out=. && copy object_detection\\\\packages\\\\tf2\\\\setup.py setup.py && python setup.py build && python setup.py install\n",
    "    !cd Tensorflow/models/research/slim && pip install -e ."
   ]
  },
  {
   "cell_type": "code",
   "execution_count": 11,
   "metadata": {
    "collapsed": false,
    "jupyter": {
     "outputs_hidden": false
    },
    "pycharm": {
     "name": "#%%\n"
    }
   },
   "outputs": [],
   "source": [
    "VERIFICATION_SCRIPT = os.path.join(paths['APIMODEL_PATH'], 'research', 'object_detection', 'builders', 'model_builder_tf2_test.py')"
   ]
  },
  {
   "cell_type": "code",
   "execution_count": 12,
   "metadata": {
    "collapsed": false,
    "jupyter": {
     "outputs_hidden": false
    },
    "pycharm": {
     "name": "#%%\n"
    }
   },
   "outputs": [
    {
     "name": "stdout",
     "output_type": "stream",
     "text": [
      "Traceback (most recent call last):\n",
      "  File \"/Users/loyio/TFOD/TFODCourse/Tensorflow/models/research/object_detection/builders/model_builder_tf2_test.py\", line 21, in <module>\n",
      "    from absl.testing import parameterized\n",
      "ModuleNotFoundError: No module named 'absl'\n"
     ]
    }
   ],
   "source": [
    "!python {VERIFICATION_SCRIPT}"
   ]
  },
  {
   "cell_type": "code",
   "execution_count": 28,
   "metadata": {
    "collapsed": false,
    "jupyter": {
     "outputs_hidden": false
    },
    "pycharm": {
     "name": "#%%\n"
    }
   },
   "outputs": [
    {
     "name": "stdout",
     "output_type": "stream",
     "text": [
      "Collecting package metadata (current_repodata.json): - ^C\n",
      "failed\n",
      "\n",
      "CondaError: KeyboardInterrupt\n",
      "\n",
      "Collecting package metadata (current_repodata.json): done\n",
      "Solving environment: \\ \n",
      "The environment is inconsistent, please check the package plan carefully\n",
      "The following packages are causing the inconsistency:\n",
      "\n",
      "  - conda-forge/osx-arm64::tensorflow-base==2.7.0=cpu_py39hbdae8f9_0\n",
      "  - conda-forge/noarch::bleach==4.1.0=pyhd8ed1ab_0\n",
      "  - conda-forge/osx-arm64::jupyter==1.0.0=py39h2804cbe_7\n",
      "  - conda-forge/noarch::packaging==21.3=pyhd8ed1ab_0\n",
      "  - conda-forge/noarch::ipywidgets==7.6.5=pyhd8ed1ab_0\n",
      "  - conda-forge/osx-arm64::nbconvert==6.4.2=py39h2804cbe_0\n",
      "  - conda-forge/noarch::keras-preprocessing==1.1.2=pyhd8ed1ab_0\n",
      "  - conda-forge/osx-arm64::scipy==1.8.0=py39h5060c3b_1\n",
      "  - conda-forge/noarch::opt_einsum==3.3.0=pyhd8ed1ab_1\n",
      "  - conda-forge/noarch::notebook==6.4.8=pyha770c72_0\n",
      "  - conda-forge/noarch::tensorboard==2.6.0=pyhd8ed1ab_1\n",
      "  - conda-forge/osx-arm64::tensorflow-estimator==2.7.0=cpu_py39h91c69d6_0\n",
      "  - conda-forge/osx-arm64::widgetsnbextension==3.5.2=py39h2804cbe_1\n",
      "  - conda-forge/osx-arm64::h5py==3.6.0=nompi_py39hd982b79_100\n",
      "  - conda-forge/osx-arm64::tensorflow==2.7.0=cpu_py39h2839aeb_0\n",
      "done\n",
      "\n",
      "\n",
      "==> WARNING: A newer version of conda exists. <==\n",
      "  current version: 4.10.3\n",
      "  latest version: 4.11.0\n",
      "\n",
      "Please update conda by running\n",
      "\n",
      "    $ conda update -n base conda\n",
      "\n",
      "\n",
      "\n",
      "## Package Plan ##\n",
      "\n",
      "  environment location: /Users/loyio/miniforge3/envs/tfod\n",
      "\n",
      "  added / updated specs:\n",
      "    - tensorflow\n",
      "\n",
      "\n",
      "The following NEW packages will be INSTALLED:\n",
      "\n",
      "  numpy              conda-forge/osx-arm64::numpy-1.22.2-py39h61a45d2_0\n",
      "  pyparsing          conda-forge/noarch::pyparsing-3.0.7-pyhd8ed1ab_0\n",
      "\n",
      "\n",
      "Proceed ([y]/n)? ^C\n",
      "\n",
      "CondaSystemExit: \n",
      "Operation aborted.  Exiting.\n",
      "\n"
     ]
    }
   ],
   "source": [
    "!conda install tensorflow"
   ]
  },
  {
   "cell_type": "code",
   "execution_count": 27,
   "metadata": {
    "collapsed": false,
    "jupyter": {
     "outputs_hidden": false
    },
    "pycharm": {
     "name": "#%%\n"
    }
   },
   "outputs": [
    {
     "name": "stdout",
     "output_type": "stream",
     "text": [
      "Found existing installation: protobuf 3.19.4\n",
      "Uninstalling protobuf-3.19.4:\n",
      "  Successfully uninstalled protobuf-3.19.4\n",
      "Found existing installation: matplotlib 3.5.1\n",
      "Uninstalling matplotlib-3.5.1:\n",
      "  Successfully uninstalled matplotlib-3.5.1\n",
      "Collecting protobuf\n",
      "  Downloading protobuf-3.19.4-py2.py3-none-any.whl (162 kB)\n",
      "\u001b[2K     \u001b[90m━━━━━━━━━━━━━━━━━━━━━━━━━━━━━━━━━━━━━━━\u001b[0m \u001b[32m162.7/162.7 KB\u001b[0m \u001b[31m1.6 MB/s\u001b[0m eta \u001b[36m0:00:00\u001b[0ma \u001b[36m0:00:01\u001b[0m\n",
      "\u001b[?25hCollecting matplotlib==3.2\n",
      "  Downloading matplotlib-3.2.0.tar.gz (40.5 MB)\n",
      "\u001b[2K     \u001b[90m━━━━━━━━━━━━━━━━━━━━━━━━━━━━━━━━━━━━━━━━\u001b[0m \u001b[32m40.5/40.5 MB\u001b[0m \u001b[31m3.6 MB/s\u001b[0m eta \u001b[36m0:00:00\u001b[0m00:01\u001b[0m00:01\u001b[0m\n",
      "\u001b[?25h  Preparing metadata (setup.py) ... \u001b[?25ldone\n",
      "\u001b[?25hRequirement already satisfied: cycler>=0.10 in /Users/loyio/miniforge3/envs/tfod/lib/python3.9/site-packages (from matplotlib==3.2) (0.11.0)\n",
      "Requirement already satisfied: kiwisolver>=1.0.1 in /Users/loyio/miniforge3/envs/tfod/lib/python3.9/site-packages (from matplotlib==3.2) (1.3.2)\n",
      "Requirement already satisfied: numpy>=1.11 in /Users/loyio/miniforge3/envs/tfod/lib/python3.9/site-packages (from matplotlib==3.2) (1.21.5)\n",
      "Requirement already satisfied: pyparsing!=2.0.4,!=2.1.2,!=2.1.6,>=2.0.1 in /Users/loyio/miniforge3/envs/tfod/lib/python3.9/site-packages (from matplotlib==3.2) (2.4.7)\n",
      "Requirement already satisfied: python-dateutil>=2.1 in /Users/loyio/miniforge3/envs/tfod/lib/python3.9/site-packages (from matplotlib==3.2) (2.8.2)\n",
      "Requirement already satisfied: six>=1.5 in /Users/loyio/miniforge3/envs/tfod/lib/python3.9/site-packages (from python-dateutil>=2.1->matplotlib==3.2) (1.16.0)\n",
      "Building wheels for collected packages: matplotlib\n",
      "  Building wheel for matplotlib (setup.py) ... \u001b[?25ldone\n",
      "\u001b[?25h  Created wheel for matplotlib: filename=matplotlib-3.2.0-cp39-cp39-macosx_11_0_arm64.whl size=8511166 sha256=aa3e52f00720f88dd051ac8affef5da2e96d476b3227fd61bae61c5703d35d8d\n",
      "  Stored in directory: /Users/loyio/Library/Caches/pip/wheels/64/07/f4/515cff377a68be990e28179c6a93f24b922189b6a6612fc5cd\n",
      "Successfully built matplotlib\n",
      "Installing collected packages: protobuf, matplotlib\n",
      "Successfully installed matplotlib-3.2.0 protobuf-3.19.4\n"
     ]
    }
   ],
   "source": [
    "!pip uninstall protobuf matplotlib -y\n",
    "!pip install protobuf matplotlib==3.2"
   ]
  },
  {
   "cell_type": "code",
   "execution_count": 13,
   "metadata": {
    "collapsed": false,
    "jupyter": {
     "outputs_hidden": false
    },
    "pycharm": {
     "name": "#%%\n"
    }
   },
   "outputs": [],
   "source": [
    "import object_detection"
   ]
  },
  {
   "cell_type": "code",
   "execution_count": 15,
   "metadata": {
    "collapsed": false,
    "jupyter": {
     "outputs_hidden": false
    },
    "pycharm": {
     "name": "#%%\n"
    }
   },
   "outputs": [
    {
     "name": "stdout",
     "output_type": "stream",
     "text": [
      "--2022-04-02 18:01:31--  http://download.tensorflow.org/models/object_detection/tf2/20200711/ssd_mobilenet_v2_fpnlite_320x320_coco17_tpu-8.tar.gz\n",
      "Resolving download.tensorflow.org (download.tensorflow.org)... 198.18.1.166\n",
      "Connecting to download.tensorflow.org (download.tensorflow.org)|198.18.1.166|:80... connected.\n",
      "HTTP request sent, awaiting response... 200 OK\n",
      "Length: 20515344 (20M) [application/x-tar]\n",
      "Saving to: ‘ssd_mobilenet_v2_fpnlite_320x320_coco17_tpu-8.tar.gz’\n",
      "\n",
      "ssd_mobilenet_v2_fp 100%[===================>]  19.56M  3.72MB/s    in 6.5s    \n",
      "\n",
      "2022-04-02 18:01:39 (2.99 MB/s) - ‘ssd_mobilenet_v2_fpnlite_320x320_coco17_tpu-8.tar.gz’ saved [20515344/20515344]\n",
      "\n",
      "x ssd_mobilenet_v2_fpnlite_320x320_coco17_tpu-8/\n",
      "x ssd_mobilenet_v2_fpnlite_320x320_coco17_tpu-8/checkpoint/\n",
      "x ssd_mobilenet_v2_fpnlite_320x320_coco17_tpu-8/checkpoint/ckpt-0.data-00000-of-00001\n",
      "x ssd_mobilenet_v2_fpnlite_320x320_coco17_tpu-8/checkpoint/checkpoint\n",
      "x ssd_mobilenet_v2_fpnlite_320x320_coco17_tpu-8/checkpoint/ckpt-0.index\n",
      "x ssd_mobilenet_v2_fpnlite_320x320_coco17_tpu-8/pipeline.config\n",
      "x ssd_mobilenet_v2_fpnlite_320x320_coco17_tpu-8/saved_model/\n",
      "x ssd_mobilenet_v2_fpnlite_320x320_coco17_tpu-8/saved_model/saved_model.pb\n",
      "x ssd_mobilenet_v2_fpnlite_320x320_coco17_tpu-8/saved_model/variables/\n",
      "x ssd_mobilenet_v2_fpnlite_320x320_coco17_tpu-8/saved_model/variables/variables.data-00000-of-00001\n",
      "x ssd_mobilenet_v2_fpnlite_320x320_coco17_tpu-8/saved_model/variables/variables.index\n"
     ]
    }
   ],
   "source": [
    "if os.name =='posix':\n",
    "    !wget {PRETRAINED_MODEL_URL}\n",
    "    !mv {PRETRAINED_MODEL_NAME+'.tar.gz'} {paths['PRETRAINED_MODEL_PATH']}\n",
    "    !cd {paths['PRETRAINED_MODEL_PATH']} && tar -zxvf {PRETRAINED_MODEL_NAME+'.tar.gz'}\n",
    "if os.name == 'nt':\n",
    "    wget.download(PRETRAINED_MODEL_URL)\n",
    "    !move {PRETRAINED_MODEL_NAME+'.tar.gz'} {paths['PRETRAINED_MODEL_PATH']}\n",
    "    !cd {paths['PRETRAINED_MODEL_PATH']} && tar -zxvf {PRETRAINED_MODEL_NAME+'.tar.gz'}"
   ]
  },
  {
   "cell_type": "markdown",
   "metadata": {
    "pycharm": {
     "name": "#%% md\n"
    }
   },
   "source": [
    "   ## 2. Create Label Map"
   ]
  },
  {
   "cell_type": "code",
   "execution_count": 16,
   "metadata": {
    "collapsed": false,
    "jupyter": {
     "outputs_hidden": false
    },
    "pycharm": {
     "name": "#%%\n"
    }
   },
   "outputs": [],
   "source": [
    "labels = [{'name': 'ThumbsUp', 'id': 1}, {'name': 'ThumbsDown', 'id': 2}, {'name': 'ThankYou', 'id': 3}, {'name': 'LiveLong', 'id': 4}]\n",
    "\n",
    "with open(files['LABELMAP'], 'w') as f:\n",
    "    for label in labels:\n",
    "        f.write('item { \\n')\n",
    "        f.write('\\tname: \\'{}\\'\\n'.format(label['name']))\n",
    "        f.write('\\tid:{}\\n'.format(label['id']))\n",
    "        f.write('}\\n')"
   ]
  },
  {
   "cell_type": "markdown",
   "metadata": {
    "pycharm": {
     "name": "#%% md\n"
    }
   },
   "source": [
    "## 3. Create TF records"
   ]
  },
  {
   "cell_type": "code",
   "execution_count": 19,
   "metadata": {
    "collapsed": false,
    "jupyter": {
     "outputs_hidden": false
    },
    "pycharm": {
     "name": "#%%\n"
    }
   },
   "outputs": [],
   "source": [
    "if not os.path.exists(files['TF_RECORD_SCRIPT']):\n",
    "    !git clone https://github.com/nicknochnack/GenerateTFRecord {paths['SCRIPTS_PATH']}"
   ]
  },
  {
   "cell_type": "code",
   "execution_count": 22,
   "metadata": {},
   "outputs": [],
   "source": [
    "import tensorflow.compat.v1 as tf"
   ]
  },
  {
   "cell_type": "code",
   "execution_count": 29,
   "metadata": {},
   "outputs": [
    {
     "data": {
      "text/plain": [
       "'Tensorflow/workspace/image'"
      ]
     },
     "execution_count": 29,
     "metadata": {},
     "output_type": "execute_result"
    }
   ],
   "source": [
    "paths['IMAGE_PATH']"
   ]
  },
  {
   "cell_type": "code",
   "execution_count": 30,
   "metadata": {
    "collapsed": false,
    "jupyter": {
     "outputs_hidden": false
    },
    "pycharm": {
     "name": "#%%\n"
    }
   },
   "outputs": [
    {
     "name": "stdout",
     "output_type": "stream",
     "text": [
      "Successfully created the TFRecord file: Tensorflow/workspace/annotations/train.record\n",
      "Successfully created the TFRecord file: Tensorflow/workspace/annotations/test.record\n"
     ]
    }
   ],
   "source": [
    "!/Users/loyio/miniforge3/envs/tfod/bin/python {files['TF_RECORD_SCRIPT']} -x {os.path.join(paths['IMAGE_PATH'], 'train')} -l {files['LABELMAP']} -o {os.path.join(paths['ANNOTATION_PATH'], 'train.record')}\n",
    "!/Users/loyio/miniforge3/envs/tfod/bin/python {files['TF_RECORD_SCRIPT']} -x {os.path.join(paths['IMAGE_PATH'], 'test')} -l {files['LABELMAP']} -o {os.path.join(paths['ANNOTATION_PATH'], 'test.record')}"
   ]
  },
  {
   "cell_type": "markdown",
   "metadata": {
    "pycharm": {
     "name": "#%% md\n"
    }
   },
   "source": [
    "## 4. Copy Model Config to Training Folder"
   ]
  },
  {
   "cell_type": "code",
   "execution_count": 31,
   "metadata": {
    "collapsed": false,
    "jupyter": {
     "outputs_hidden": false
    },
    "pycharm": {
     "name": "#%%\n"
    }
   },
   "outputs": [],
   "source": [
    "if os.name =='posix':\n",
    "    !cp {os.path.join(paths['PRETRAINED_MODEL_PATH'], PRETRAINED_MODEL_NAME, 'pipeline.config')} {os.path.join(paths['CHECKPOINT_PATH'])}\n",
    "if os.name == 'nt':\n",
    "    !copy {os.path.join(paths['PRETRAINED_MODEL_PATH'], PRETRAINED_MODEL_NAME, 'pipeline.config')} {os.path.join(paths['CHECKPOINT_PATH'])}"
   ]
  },
  {
   "cell_type": "markdown",
   "metadata": {
    "pycharm": {
     "name": "#%% md\n"
    }
   },
   "source": [
    "## 5. Update Config For Transfer Learning"
   ]
  },
  {
   "cell_type": "code",
   "execution_count": 32,
   "metadata": {
    "collapsed": false,
    "jupyter": {
     "outputs_hidden": false
    },
    "pycharm": {
     "name": "#%%\n"
    }
   },
   "outputs": [],
   "source": [
    "import tensorflow as tf\n",
    "from object_detection.utils import config_util\n",
    "from object_detection.protos import pipeline_pb2\n",
    "from google.protobuf import text_format"
   ]
  },
  {
   "cell_type": "code",
   "execution_count": 33,
   "metadata": {
    "collapsed": false,
    "jupyter": {
     "outputs_hidden": false
    },
    "pycharm": {
     "name": "#%%\n"
    }
   },
   "outputs": [],
   "source": [
    "config = config_util.get_configs_from_pipeline_file(files['PIPELINE_CONFIG'])"
   ]
  },
  {
   "cell_type": "code",
   "execution_count": 34,
   "metadata": {
    "collapsed": true,
    "jupyter": {
     "outputs_hidden": true
    },
    "pycharm": {
     "name": "#%%\n"
    },
    "tags": []
   },
   "outputs": [
    {
     "data": {
      "text/plain": [
       "{'model': ssd {\n",
       "   num_classes: 90\n",
       "   image_resizer {\n",
       "     fixed_shape_resizer {\n",
       "       height: 320\n",
       "       width: 320\n",
       "     }\n",
       "   }\n",
       "   feature_extractor {\n",
       "     type: \"ssd_mobilenet_v2_fpn_keras\"\n",
       "     depth_multiplier: 1.0\n",
       "     min_depth: 16\n",
       "     conv_hyperparams {\n",
       "       regularizer {\n",
       "         l2_regularizer {\n",
       "           weight: 3.9999998989515007e-05\n",
       "         }\n",
       "       }\n",
       "       initializer {\n",
       "         random_normal_initializer {\n",
       "           mean: 0.0\n",
       "           stddev: 0.009999999776482582\n",
       "         }\n",
       "       }\n",
       "       activation: RELU_6\n",
       "       batch_norm {\n",
       "         decay: 0.996999979019165\n",
       "         scale: true\n",
       "         epsilon: 0.0010000000474974513\n",
       "       }\n",
       "     }\n",
       "     use_depthwise: true\n",
       "     override_base_feature_extractor_hyperparams: true\n",
       "     fpn {\n",
       "       min_level: 3\n",
       "       max_level: 7\n",
       "       additional_layer_depth: 128\n",
       "     }\n",
       "   }\n",
       "   box_coder {\n",
       "     faster_rcnn_box_coder {\n",
       "       y_scale: 10.0\n",
       "       x_scale: 10.0\n",
       "       height_scale: 5.0\n",
       "       width_scale: 5.0\n",
       "     }\n",
       "   }\n",
       "   matcher {\n",
       "     argmax_matcher {\n",
       "       matched_threshold: 0.5\n",
       "       unmatched_threshold: 0.5\n",
       "       ignore_thresholds: false\n",
       "       negatives_lower_than_unmatched: true\n",
       "       force_match_for_each_row: true\n",
       "       use_matmul_gather: true\n",
       "     }\n",
       "   }\n",
       "   similarity_calculator {\n",
       "     iou_similarity {\n",
       "     }\n",
       "   }\n",
       "   box_predictor {\n",
       "     weight_shared_convolutional_box_predictor {\n",
       "       conv_hyperparams {\n",
       "         regularizer {\n",
       "           l2_regularizer {\n",
       "             weight: 3.9999998989515007e-05\n",
       "           }\n",
       "         }\n",
       "         initializer {\n",
       "           random_normal_initializer {\n",
       "             mean: 0.0\n",
       "             stddev: 0.009999999776482582\n",
       "           }\n",
       "         }\n",
       "         activation: RELU_6\n",
       "         batch_norm {\n",
       "           decay: 0.996999979019165\n",
       "           scale: true\n",
       "           epsilon: 0.0010000000474974513\n",
       "         }\n",
       "       }\n",
       "       depth: 128\n",
       "       num_layers_before_predictor: 4\n",
       "       kernel_size: 3\n",
       "       class_prediction_bias_init: -4.599999904632568\n",
       "       share_prediction_tower: true\n",
       "       use_depthwise: true\n",
       "     }\n",
       "   }\n",
       "   anchor_generator {\n",
       "     multiscale_anchor_generator {\n",
       "       min_level: 3\n",
       "       max_level: 7\n",
       "       anchor_scale: 4.0\n",
       "       aspect_ratios: 1.0\n",
       "       aspect_ratios: 2.0\n",
       "       aspect_ratios: 0.5\n",
       "       scales_per_octave: 2\n",
       "     }\n",
       "   }\n",
       "   post_processing {\n",
       "     batch_non_max_suppression {\n",
       "       score_threshold: 9.99999993922529e-09\n",
       "       iou_threshold: 0.6000000238418579\n",
       "       max_detections_per_class: 100\n",
       "       max_total_detections: 100\n",
       "       use_static_shapes: false\n",
       "     }\n",
       "     score_converter: SIGMOID\n",
       "   }\n",
       "   normalize_loss_by_num_matches: true\n",
       "   loss {\n",
       "     localization_loss {\n",
       "       weighted_smooth_l1 {\n",
       "       }\n",
       "     }\n",
       "     classification_loss {\n",
       "       weighted_sigmoid_focal {\n",
       "         gamma: 2.0\n",
       "         alpha: 0.25\n",
       "       }\n",
       "     }\n",
       "     classification_weight: 1.0\n",
       "     localization_weight: 1.0\n",
       "   }\n",
       "   encode_background_as_zeros: true\n",
       "   normalize_loc_loss_by_codesize: true\n",
       "   inplace_batchnorm_update: true\n",
       "   freeze_batchnorm: false\n",
       " },\n",
       " 'train_config': batch_size: 128\n",
       " data_augmentation_options {\n",
       "   random_horizontal_flip {\n",
       "   }\n",
       " }\n",
       " data_augmentation_options {\n",
       "   random_crop_image {\n",
       "     min_object_covered: 0.0\n",
       "     min_aspect_ratio: 0.75\n",
       "     max_aspect_ratio: 3.0\n",
       "     min_area: 0.75\n",
       "     max_area: 1.0\n",
       "     overlap_thresh: 0.0\n",
       "   }\n",
       " }\n",
       " sync_replicas: true\n",
       " optimizer {\n",
       "   momentum_optimizer {\n",
       "     learning_rate {\n",
       "       cosine_decay_learning_rate {\n",
       "         learning_rate_base: 0.07999999821186066\n",
       "         total_steps: 50000\n",
       "         warmup_learning_rate: 0.026666000485420227\n",
       "         warmup_steps: 1000\n",
       "       }\n",
       "     }\n",
       "     momentum_optimizer_value: 0.8999999761581421\n",
       "   }\n",
       "   use_moving_average: false\n",
       " }\n",
       " fine_tune_checkpoint: \"PATH_TO_BE_CONFIGURED\"\n",
       " num_steps: 50000\n",
       " startup_delay_steps: 0.0\n",
       " replicas_to_aggregate: 8\n",
       " max_number_of_boxes: 100\n",
       " unpad_groundtruth_tensors: false\n",
       " fine_tune_checkpoint_type: \"classification\"\n",
       " fine_tune_checkpoint_version: V2,\n",
       " 'train_input_config': label_map_path: \"PATH_TO_BE_CONFIGURED\"\n",
       " tf_record_input_reader {\n",
       "   input_path: \"PATH_TO_BE_CONFIGURED\"\n",
       " },\n",
       " 'eval_config': metrics_set: \"coco_detection_metrics\"\n",
       " use_moving_averages: false,\n",
       " 'eval_input_configs': [label_map_path: \"PATH_TO_BE_CONFIGURED\"\n",
       " shuffle: false\n",
       " num_epochs: 1\n",
       " tf_record_input_reader {\n",
       "   input_path: \"PATH_TO_BE_CONFIGURED\"\n",
       " }\n",
       " ],\n",
       " 'eval_input_config': label_map_path: \"PATH_TO_BE_CONFIGURED\"\n",
       " shuffle: false\n",
       " num_epochs: 1\n",
       " tf_record_input_reader {\n",
       "   input_path: \"PATH_TO_BE_CONFIGURED\"\n",
       " }}"
      ]
     },
     "execution_count": 34,
     "metadata": {},
     "output_type": "execute_result"
    }
   ],
   "source": [
    "config"
   ]
  },
  {
   "cell_type": "code",
   "execution_count": 35,
   "metadata": {
    "collapsed": false,
    "jupyter": {
     "outputs_hidden": false
    },
    "pycharm": {
     "name": "#%%\n"
    }
   },
   "outputs": [],
   "source": [
    "pipeline_config = pipeline_pb2.TrainEvalPipelineConfig()\n",
    "with tf.io.gfile.GFile(files['PIPELINE_CONFIG'], \"r\") as f:\n",
    "    proto_str = f.read()\n",
    "    text_format.Merge(proto_str, pipeline_config)"
   ]
  },
  {
   "cell_type": "code",
   "execution_count": 36,
   "metadata": {
    "collapsed": false,
    "jupyter": {
     "outputs_hidden": false
    },
    "pycharm": {
     "name": "#%%\n"
    }
   },
   "outputs": [],
   "source": [
    "pipeline_config.model.ssd.num_classes = len(labels)\n",
    "pipeline_config.train_config.batch_size = 4\n",
    "pipeline_config.train_config.fine_tune_checkpoint = os.path.join(paths['PRETRAINED_MODEL_PATH'], PRETRAINED_MODEL_NAME, 'checkpoint', 'ckpt-0')\n",
    "pipeline_config.train_config.fine_tune_checkpoint_type = \"detection\"\n",
    "pipeline_config.train_input_reader.label_map_path= files['LABELMAP']\n",
    "pipeline_config.train_input_reader.tf_record_input_reader.input_path[:] = [os.path.join(paths['ANNOTATION_PATH'], 'train.record')]\n",
    "pipeline_config.eval_input_reader[0].label_map_path = files['LABELMAP']\n",
    "pipeline_config.eval_input_reader[0].tf_record_input_reader.input_path[:] = [os.path.join(paths['ANNOTATION_PATH'], 'test.record')]"
   ]
  },
  {
   "cell_type": "code",
   "execution_count": 37,
   "metadata": {
    "collapsed": false,
    "jupyter": {
     "outputs_hidden": false
    },
    "pycharm": {
     "name": "#%%\n"
    }
   },
   "outputs": [],
   "source": [
    "config_text = text_format.MessageToString(pipeline_config)\n",
    "with tf.io.gfile.GFile(files['PIPELINE_CONFIG'], \"wb\") as f:\n",
    "    f.write(config_text)"
   ]
  },
  {
   "cell_type": "markdown",
   "metadata": {
    "pycharm": {
     "name": "#%% md\n"
    }
   },
   "source": [
    "## 6. Train the model"
   ]
  },
  {
   "cell_type": "code",
   "execution_count": 38,
   "metadata": {
    "collapsed": false,
    "jupyter": {
     "outputs_hidden": false
    },
    "pycharm": {
     "name": "#%%\n"
    }
   },
   "outputs": [],
   "source": [
    "TRAINING_SCRIPT = os.path.join(paths['APIMODEL_PATH'], 'research', 'object_detection', 'model_main_tf2.py')"
   ]
  },
  {
   "cell_type": "code",
   "execution_count": 43,
   "metadata": {
    "collapsed": false,
    "jupyter": {
     "outputs_hidden": false
    },
    "pycharm": {
     "name": "#%%\n"
    }
   },
   "outputs": [],
   "source": [
    "command = \"/Users/loyio/miniforge3/envs/tfod/bin/python {} --model_dir={} --pipeline_config_path={} --num_train_steps=2000\".format(TRAINING_SCRIPT, paths['CHECKPOINT_PATH'],files['PIPELINE_CONFIG'])"
   ]
  },
  {
   "cell_type": "code",
   "execution_count": 40,
   "metadata": {
    "collapsed": false,
    "jupyter": {
     "outputs_hidden": false
    },
    "pycharm": {
     "name": "#%%\n"
    }
   },
   "outputs": [
    {
     "name": "stdout",
     "output_type": "stream",
     "text": [
      "python Tensorflow/models/research/object_detection/model_main_tf2.py --model_dir=Tensorflow/workspace/models/my_ssd_mobnet --pipeline_config_path=Tensorflow/workspace/models/my_ssd_mobnet/pipeline.config --num_train_steps=2000\n"
     ]
    }
   ],
   "source": [
    "print(command)"
   ]
  },
  {
   "cell_type": "code",
   "execution_count": 46,
   "metadata": {
    "collapsed": true,
    "jupyter": {
     "outputs_hidden": true
    },
    "pycharm": {
     "name": "#%%\n"
    },
    "tags": []
   },
   "outputs": [
    {
     "name": "stdout",
     "output_type": "stream",
     "text": [
      "/Users/loyio/miniforge3/envs/tfod/lib/python3.9/site-packages/tensorflow_io/python/ops/__init__.py:98: UserWarning: unable to load libtensorflow_io_plugins.so: unable to open file: libtensorflow_io_plugins.so, from paths: ['/Users/loyio/miniforge3/envs/tfod/lib/python3.9/site-packages/tensorflow_io/python/ops/libtensorflow_io_plugins.so']\n",
      "caused by: [\"[Errno 2] The file to load file system plugin from does not exist.: '/Users/loyio/miniforge3/envs/tfod/lib/python3.9/site-packages/tensorflow_io/python/ops/libtensorflow_io_plugins.so'\"]\n",
      "  warnings.warn(f\"unable to load libtensorflow_io_plugins.so: {e}\")\n",
      "/Users/loyio/miniforge3/envs/tfod/lib/python3.9/site-packages/tensorflow_io/python/ops/__init__.py:104: UserWarning: file system plugins are not loaded: unable to open file: libtensorflow_io.so, from paths: ['/Users/loyio/miniforge3/envs/tfod/lib/python3.9/site-packages/tensorflow_io/python/ops/libtensorflow_io.so']\n",
      "caused by: [\"dlopen(/Users/loyio/miniforge3/envs/tfod/lib/python3.9/site-packages/tensorflow_io/python/ops/libtensorflow_io.so, 0x0006): tried: '/Users/loyio/miniforge3/envs/tfod/lib/python3.9/site-packages/tensorflow_io/python/ops/libtensorflow_io.so' (no such file)\"]\n",
      "  warnings.warn(f\"file system plugins are not loaded: {e}\")\n",
      "Metal device set to: Apple M1 Pro\n",
      "\n",
      "systemMemory: 16.00 GB\n",
      "maxCacheSize: 5.33 GB\n",
      "\n",
      "2022-04-02 18:50:45.475164: I tensorflow/core/common_runtime/pluggable_device/pluggable_device_factory.cc:305] Could not identify NUMA node of platform GPU ID 0, defaulting to 0. Your kernel may not have been built with NUMA support.\n",
      "2022-04-02 18:50:45.475273: I tensorflow/core/common_runtime/pluggable_device/pluggable_device_factory.cc:271] Created TensorFlow device (/job:localhost/replica:0/task:0/device:GPU:0 with 0 MB memory) -> physical PluggableDevice (device: 0, name: METAL, pci bus id: <undefined>)\n",
      "INFO:tensorflow:Using MirroredStrategy with devices ('/job:localhost/replica:0/task:0/device:GPU:0',)\n",
      "I0402 18:50:45.493535 4379510144 mirrored_strategy.py:376] Using MirroredStrategy with devices ('/job:localhost/replica:0/task:0/device:GPU:0',)\n",
      "INFO:tensorflow:Maybe overwriting train_steps: 2000\n",
      "I0402 18:50:45.499727 4379510144 config_util.py:552] Maybe overwriting train_steps: 2000\n",
      "INFO:tensorflow:Maybe overwriting use_bfloat16: False\n",
      "I0402 18:50:45.499809 4379510144 config_util.py:552] Maybe overwriting use_bfloat16: False\n",
      "WARNING:tensorflow:From /Users/loyio/miniforge3/envs/tfod/lib/python3.9/site-packages/object_detection/model_lib_v2.py:563: StrategyBase.experimental_distribute_datasets_from_function (from tensorflow.python.distribute.distribute_lib) is deprecated and will be removed in a future version.\n",
      "Instructions for updating:\n",
      "rename to distribute_datasets_from_function\n",
      "W0402 18:50:45.514909 4379510144 deprecation.py:341] From /Users/loyio/miniforge3/envs/tfod/lib/python3.9/site-packages/object_detection/model_lib_v2.py:563: StrategyBase.experimental_distribute_datasets_from_function (from tensorflow.python.distribute.distribute_lib) is deprecated and will be removed in a future version.\n",
      "Instructions for updating:\n",
      "rename to distribute_datasets_from_function\n",
      "INFO:tensorflow:Reading unweighted datasets: ['Tensorflow/workspace/annotations/train.record']\n",
      "I0402 18:50:45.517039 4379510144 dataset_builder.py:163] Reading unweighted datasets: ['Tensorflow/workspace/annotations/train.record']\n",
      "INFO:tensorflow:Reading record datasets for input file: ['Tensorflow/workspace/annotations/train.record']\n",
      "I0402 18:50:45.517112 4379510144 dataset_builder.py:80] Reading record datasets for input file: ['Tensorflow/workspace/annotations/train.record']\n",
      "INFO:tensorflow:Number of filenames to read: 1\n",
      "I0402 18:50:45.517136 4379510144 dataset_builder.py:81] Number of filenames to read: 1\n",
      "WARNING:tensorflow:num_readers has been reduced to 1 to match input file shards.\n",
      "W0402 18:50:45.517157 4379510144 dataset_builder.py:87] num_readers has been reduced to 1 to match input file shards.\n",
      "WARNING:tensorflow:From /Users/loyio/miniforge3/envs/tfod/lib/python3.9/site-packages/object_detection/builders/dataset_builder.py:101: parallel_interleave (from tensorflow.python.data.experimental.ops.interleave_ops) is deprecated and will be removed in a future version.\n",
      "Instructions for updating:\n",
      "Use `tf.data.Dataset.interleave(map_func, cycle_length, block_length, num_parallel_calls=tf.data.AUTOTUNE)` instead. If sloppy execution is desired, use `tf.data.Options.deterministic`.\n",
      "W0402 18:50:45.518223 4379510144 deprecation.py:341] From /Users/loyio/miniforge3/envs/tfod/lib/python3.9/site-packages/object_detection/builders/dataset_builder.py:101: parallel_interleave (from tensorflow.python.data.experimental.ops.interleave_ops) is deprecated and will be removed in a future version.\n",
      "Instructions for updating:\n",
      "Use `tf.data.Dataset.interleave(map_func, cycle_length, block_length, num_parallel_calls=tf.data.AUTOTUNE)` instead. If sloppy execution is desired, use `tf.data.Options.deterministic`.\n",
      "WARNING:tensorflow:From /Users/loyio/miniforge3/envs/tfod/lib/python3.9/site-packages/object_detection/builders/dataset_builder.py:236: DatasetV1.map_with_legacy_function (from tensorflow.python.data.ops.dataset_ops) is deprecated and will be removed in a future version.\n",
      "Instructions for updating:\n",
      "Use `tf.data.Dataset.map()\n",
      "W0402 18:50:45.531332 4379510144 deprecation.py:341] From /Users/loyio/miniforge3/envs/tfod/lib/python3.9/site-packages/object_detection/builders/dataset_builder.py:236: DatasetV1.map_with_legacy_function (from tensorflow.python.data.ops.dataset_ops) is deprecated and will be removed in a future version.\n",
      "Instructions for updating:\n",
      "Use `tf.data.Dataset.map()\n",
      "WARNING:tensorflow:From /Users/loyio/miniforge3/envs/tfod/lib/python3.9/site-packages/tensorflow/python/util/dispatch.py:1096: sparse_to_dense (from tensorflow.python.ops.sparse_ops) is deprecated and will be removed in a future version.\n",
      "Instructions for updating:\n",
      "Create a `tf.sparse.SparseTensor` and use `tf.sparse.to_dense` instead.\n",
      "W0402 18:50:48.867084 4379510144 deprecation.py:341] From /Users/loyio/miniforge3/envs/tfod/lib/python3.9/site-packages/tensorflow/python/util/dispatch.py:1096: sparse_to_dense (from tensorflow.python.ops.sparse_ops) is deprecated and will be removed in a future version.\n",
      "Instructions for updating:\n",
      "Create a `tf.sparse.SparseTensor` and use `tf.sparse.to_dense` instead.\n",
      "WARNING:tensorflow:From /Users/loyio/miniforge3/envs/tfod/lib/python3.9/site-packages/tensorflow/python/util/dispatch.py:1096: sample_distorted_bounding_box (from tensorflow.python.ops.image_ops_impl) is deprecated and will be removed in a future version.\n",
      "Instructions for updating:\n",
      "`seed2` arg is deprecated.Use sample_distorted_bounding_box_v2 instead.\n",
      "W0402 18:50:50.392734 4379510144 deprecation.py:341] From /Users/loyio/miniforge3/envs/tfod/lib/python3.9/site-packages/tensorflow/python/util/dispatch.py:1096: sample_distorted_bounding_box (from tensorflow.python.ops.image_ops_impl) is deprecated and will be removed in a future version.\n",
      "Instructions for updating:\n",
      "`seed2` arg is deprecated.Use sample_distorted_bounding_box_v2 instead.\n",
      "WARNING:tensorflow:From /Users/loyio/miniforge3/envs/tfod/lib/python3.9/site-packages/tensorflow/python/autograph/impl/api.py:465: to_float (from tensorflow.python.ops.math_ops) is deprecated and will be removed in a future version.\n",
      "Instructions for updating:\n",
      "Use `tf.cast` instead.\n",
      "W0402 18:50:51.187957 4379510144 deprecation.py:341] From /Users/loyio/miniforge3/envs/tfod/lib/python3.9/site-packages/tensorflow/python/autograph/impl/api.py:465: to_float (from tensorflow.python.ops.math_ops) is deprecated and will be removed in a future version.\n",
      "Instructions for updating:\n",
      "Use `tf.cast` instead.\n",
      "2022-04-02 18:50:52.189239: W tensorflow/core/platform/profile_utils/cpu_utils.cc:128] Failed to get CPU frequency: 0 Hz\n",
      "2022-04-02 18:50:52.320316: I tensorflow/core/grappler/optimizers/custom_graph_optimizer_registry.cc:112] Plugin optimizer for device_type GPU is enabled.\n",
      "2022-04-02 18:50:52.322757: I tensorflow/core/grappler/optimizers/custom_graph_optimizer_registry.cc:112] Plugin optimizer for device_type GPU is enabled.\n",
      "2022-04-02 18:50:52.940525: W tensorflow/core/framework/op_kernel.cc:1745] OP_REQUIRES failed at multi_device_iterator_ops.cc:789 : NOT_FOUND: Resource AnonymousMultiDeviceIterator/AnonymousMultiDeviceIterator0/N10tensorflow4data12_GLOBAL__N_119MultiDeviceIteratorE does not exist.\n",
      "/Users/loyio/miniforge3/envs/tfod/lib/python3.9/site-packages/keras/backend.py:414: UserWarning: `tf.keras.backend.set_learning_phase` is deprecated and will be removed after 2020-10-11. To update it, simply pass a True/False value to the `training` argument of the `__call__` method of your layer or model.\n",
      "  warnings.warn('`tf.keras.backend.set_learning_phase` is deprecated and '\n",
      "2022-04-02 18:51:00.718580: I tensorflow/core/grappler/optimizers/custom_graph_optimizer_registry.cc:112] Plugin optimizer for device_type GPU is enabled.\n",
      "2022-04-02 18:51:02.996907: I tensorflow/core/grappler/optimizers/custom_graph_optimizer_registry.cc:112] Plugin optimizer for device_type GPU is enabled.\n",
      "2022-04-02 18:51:02.999279: I tensorflow/core/grappler/optimizers/custom_graph_optimizer_registry.cc:112] Plugin optimizer for device_type GPU is enabled.\n",
      "INFO:tensorflow:Reduce to /job:localhost/replica:0/task:0/device:CPU:0 then broadcast to ('/job:localhost/replica:0/task:0/device:CPU:0',).\n",
      "I0402 18:51:03.189604 4379510144 cross_device_ops.py:619] Reduce to /job:localhost/replica:0/task:0/device:CPU:0 then broadcast to ('/job:localhost/replica:0/task:0/device:CPU:0',).\n",
      "INFO:tensorflow:Reduce to /job:localhost/replica:0/task:0/device:CPU:0 then broadcast to ('/job:localhost/replica:0/task:0/device:CPU:0',).\n",
      "I0402 18:51:03.191065 4379510144 cross_device_ops.py:619] Reduce to /job:localhost/replica:0/task:0/device:CPU:0 then broadcast to ('/job:localhost/replica:0/task:0/device:CPU:0',).\n",
      "INFO:tensorflow:Reduce to /job:localhost/replica:0/task:0/device:CPU:0 then broadcast to ('/job:localhost/replica:0/task:0/device:CPU:0',).\n",
      "I0402 18:51:03.193444 4379510144 cross_device_ops.py:619] Reduce to /job:localhost/replica:0/task:0/device:CPU:0 then broadcast to ('/job:localhost/replica:0/task:0/device:CPU:0',).\n",
      "INFO:tensorflow:Reduce to /job:localhost/replica:0/task:0/device:CPU:0 then broadcast to ('/job:localhost/replica:0/task:0/device:CPU:0',).\n",
      "I0402 18:51:03.194485 4379510144 cross_device_ops.py:619] Reduce to /job:localhost/replica:0/task:0/device:CPU:0 then broadcast to ('/job:localhost/replica:0/task:0/device:CPU:0',).\n",
      "INFO:tensorflow:Reduce to /job:localhost/replica:0/task:0/device:CPU:0 then broadcast to ('/job:localhost/replica:0/task:0/device:CPU:0',).\n",
      "I0402 18:51:03.196181 4379510144 cross_device_ops.py:619] Reduce to /job:localhost/replica:0/task:0/device:CPU:0 then broadcast to ('/job:localhost/replica:0/task:0/device:CPU:0',).\n",
      "INFO:tensorflow:Reduce to /job:localhost/replica:0/task:0/device:CPU:0 then broadcast to ('/job:localhost/replica:0/task:0/device:CPU:0',).\n",
      "I0402 18:51:03.196768 4379510144 cross_device_ops.py:619] Reduce to /job:localhost/replica:0/task:0/device:CPU:0 then broadcast to ('/job:localhost/replica:0/task:0/device:CPU:0',).\n",
      "INFO:tensorflow:Reduce to /job:localhost/replica:0/task:0/device:CPU:0 then broadcast to ('/job:localhost/replica:0/task:0/device:CPU:0',).\n",
      "I0402 18:51:03.199163 4379510144 cross_device_ops.py:619] Reduce to /job:localhost/replica:0/task:0/device:CPU:0 then broadcast to ('/job:localhost/replica:0/task:0/device:CPU:0',).\n",
      "INFO:tensorflow:Reduce to /job:localhost/replica:0/task:0/device:CPU:0 then broadcast to ('/job:localhost/replica:0/task:0/device:CPU:0',).\n",
      "I0402 18:51:03.199930 4379510144 cross_device_ops.py:619] Reduce to /job:localhost/replica:0/task:0/device:CPU:0 then broadcast to ('/job:localhost/replica:0/task:0/device:CPU:0',).\n",
      "INFO:tensorflow:Reduce to /job:localhost/replica:0/task:0/device:CPU:0 then broadcast to ('/job:localhost/replica:0/task:0/device:CPU:0',).\n",
      "I0402 18:51:03.201806 4379510144 cross_device_ops.py:619] Reduce to /job:localhost/replica:0/task:0/device:CPU:0 then broadcast to ('/job:localhost/replica:0/task:0/device:CPU:0',).\n",
      "INFO:tensorflow:Reduce to /job:localhost/replica:0/task:0/device:CPU:0 then broadcast to ('/job:localhost/replica:0/task:0/device:CPU:0',).\n",
      "I0402 18:51:03.202735 4379510144 cross_device_ops.py:619] Reduce to /job:localhost/replica:0/task:0/device:CPU:0 then broadcast to ('/job:localhost/replica:0/task:0/device:CPU:0',).\n",
      "WARNING:tensorflow:From /Users/loyio/miniforge3/envs/tfod/lib/python3.9/site-packages/tensorflow/python/util/deprecation.py:620: calling map_fn_v2 (from tensorflow.python.ops.map_fn) with dtype is deprecated and will be removed in a future version.\n",
      "Instructions for updating:\n",
      "Use fn_output_signature instead\n",
      "W0402 18:51:03.727467 12633272320 deprecation.py:545] From /Users/loyio/miniforge3/envs/tfod/lib/python3.9/site-packages/tensorflow/python/util/deprecation.py:620: calling map_fn_v2 (from tensorflow.python.ops.map_fn) with dtype is deprecated and will be removed in a future version.\n",
      "Instructions for updating:\n",
      "Use fn_output_signature instead\n",
      "2022-04-02 18:51:11.386247: I tensorflow/core/grappler/optimizers/custom_graph_optimizer_registry.cc:112] Plugin optimizer for device_type GPU is enabled.\n",
      "INFO:tensorflow:Step 100 per-step time 0.380s\n",
      "I0402 18:51:41.546386 4379510144 model_lib_v2.py:705] Step 100 per-step time 0.380s\n",
      "INFO:tensorflow:{'Loss/classification_loss': 0.26550165,\n",
      " 'Loss/localization_loss': 0.16209249,\n",
      " 'Loss/regularization_loss': 0.1581151,\n",
      " 'Loss/total_loss': 0.5857092,\n",
      " 'learning_rate': 0.0319994}\n",
      "I0402 18:51:41.547261 4379510144 model_lib_v2.py:708] {'Loss/classification_loss': 0.26550165,\n",
      " 'Loss/localization_loss': 0.16209249,\n",
      " 'Loss/regularization_loss': 0.1581151,\n",
      " 'Loss/total_loss': 0.5857092,\n",
      " 'learning_rate': 0.0319994}\n",
      "INFO:tensorflow:Step 200 per-step time 0.171s\n",
      "I0402 18:51:58.593585 4379510144 model_lib_v2.py:705] Step 200 per-step time 0.171s\n",
      "INFO:tensorflow:{'Loss/classification_loss': 0.13149105,\n",
      " 'Loss/localization_loss': 0.06836942,\n",
      " 'Loss/regularization_loss': 0.15801355,\n",
      " 'Loss/total_loss': 0.35787404,\n",
      " 'learning_rate': 0.0373328}\n",
      "I0402 18:51:58.594280 4379510144 model_lib_v2.py:708] {'Loss/classification_loss': 0.13149105,\n",
      " 'Loss/localization_loss': 0.06836942,\n",
      " 'Loss/regularization_loss': 0.15801355,\n",
      " 'Loss/total_loss': 0.35787404,\n",
      " 'learning_rate': 0.0373328}\n",
      "INFO:tensorflow:Step 300 per-step time 0.167s\n",
      "I0402 18:52:15.247054 4379510144 model_lib_v2.py:705] Step 300 per-step time 0.167s\n",
      "INFO:tensorflow:{'Loss/classification_loss': 0.2958123,\n",
      " 'Loss/localization_loss': 0.0936752,\n",
      " 'Loss/regularization_loss': 0.1577715,\n",
      " 'Loss/total_loss': 0.547259,\n",
      " 'learning_rate': 0.0426662}\n",
      "I0402 18:52:15.247738 4379510144 model_lib_v2.py:708] {'Loss/classification_loss': 0.2958123,\n",
      " 'Loss/localization_loss': 0.0936752,\n",
      " 'Loss/regularization_loss': 0.1577715,\n",
      " 'Loss/total_loss': 0.547259,\n",
      " 'learning_rate': 0.0426662}\n",
      "INFO:tensorflow:Step 400 per-step time 0.167s\n",
      "I0402 18:52:31.925239 4379510144 model_lib_v2.py:705] Step 400 per-step time 0.167s\n",
      "INFO:tensorflow:{'Loss/classification_loss': 0.2679429,\n",
      " 'Loss/localization_loss': 0.21030955,\n",
      " 'Loss/regularization_loss': 0.15741268,\n",
      " 'Loss/total_loss': 0.6356652,\n",
      " 'learning_rate': 0.047999598}\n",
      "I0402 18:52:31.925586 4379510144 model_lib_v2.py:708] {'Loss/classification_loss': 0.2679429,\n",
      " 'Loss/localization_loss': 0.21030955,\n",
      " 'Loss/regularization_loss': 0.15741268,\n",
      " 'Loss/total_loss': 0.6356652,\n",
      " 'learning_rate': 0.047999598}\n",
      "INFO:tensorflow:Step 500 per-step time 0.172s\n",
      "I0402 18:52:49.158662 4379510144 model_lib_v2.py:705] Step 500 per-step time 0.172s\n",
      "INFO:tensorflow:{'Loss/classification_loss': 0.18858866,\n",
      " 'Loss/localization_loss': 0.06371931,\n",
      " 'Loss/regularization_loss': 0.15703978,\n",
      " 'Loss/total_loss': 0.40934777,\n",
      " 'learning_rate': 0.053333}\n",
      "I0402 18:52:49.159300 4379510144 model_lib_v2.py:708] {'Loss/classification_loss': 0.18858866,\n",
      " 'Loss/localization_loss': 0.06371931,\n",
      " 'Loss/regularization_loss': 0.15703978,\n",
      " 'Loss/total_loss': 0.40934777,\n",
      " 'learning_rate': 0.053333}\n",
      "INFO:tensorflow:Step 600 per-step time 0.166s\n",
      "I0402 18:53:05.799662 4379510144 model_lib_v2.py:705] Step 600 per-step time 0.166s\n",
      "INFO:tensorflow:{'Loss/classification_loss': 0.07806065,\n",
      " 'Loss/localization_loss': 0.09929542,\n",
      " 'Loss/regularization_loss': 0.15710357,\n",
      " 'Loss/total_loss': 0.33445963,\n",
      " 'learning_rate': 0.0586664}\n",
      "I0402 18:53:05.800290 4379510144 model_lib_v2.py:708] {'Loss/classification_loss': 0.07806065,\n",
      " 'Loss/localization_loss': 0.09929542,\n",
      " 'Loss/regularization_loss': 0.15710357,\n",
      " 'Loss/total_loss': 0.33445963,\n",
      " 'learning_rate': 0.0586664}\n",
      "INFO:tensorflow:Step 700 per-step time 0.203s\n",
      "I0402 18:53:26.125797 4379510144 model_lib_v2.py:705] Step 700 per-step time 0.203s\n",
      "INFO:tensorflow:{'Loss/classification_loss': 0.120556876,\n",
      " 'Loss/localization_loss': 0.057263147,\n",
      " 'Loss/regularization_loss': 0.15662237,\n",
      " 'Loss/total_loss': 0.33444238,\n",
      " 'learning_rate': 0.0639998}\n",
      "I0402 18:53:26.128289 4379510144 model_lib_v2.py:708] {'Loss/classification_loss': 0.120556876,\n",
      " 'Loss/localization_loss': 0.057263147,\n",
      " 'Loss/regularization_loss': 0.15662237,\n",
      " 'Loss/total_loss': 0.33444238,\n",
      " 'learning_rate': 0.0639998}\n",
      "INFO:tensorflow:Step 800 per-step time 0.238s\n",
      "I0402 18:53:49.921497 4379510144 model_lib_v2.py:705] Step 800 per-step time 0.238s\n",
      "INFO:tensorflow:{'Loss/classification_loss': 0.10698131,\n",
      " 'Loss/localization_loss': 0.061182145,\n",
      " 'Loss/regularization_loss': 0.15607974,\n",
      " 'Loss/total_loss': 0.3242432,\n",
      " 'learning_rate': 0.069333196}\n",
      "I0402 18:53:49.923802 4379510144 model_lib_v2.py:708] {'Loss/classification_loss': 0.10698131,\n",
      " 'Loss/localization_loss': 0.061182145,\n",
      " 'Loss/regularization_loss': 0.15607974,\n",
      " 'Loss/total_loss': 0.3242432,\n",
      " 'learning_rate': 0.069333196}\n",
      "INFO:tensorflow:Step 900 per-step time 0.236s\n",
      "I0402 18:54:13.555773 4379510144 model_lib_v2.py:705] Step 900 per-step time 0.236s\n",
      "INFO:tensorflow:{'Loss/classification_loss': 0.1066941,\n",
      " 'Loss/localization_loss': 0.07948478,\n",
      " 'Loss/regularization_loss': 0.15551347,\n",
      " 'Loss/total_loss': 0.34169236,\n",
      " 'learning_rate': 0.074666604}\n",
      "I0402 18:54:13.556535 4379510144 model_lib_v2.py:708] {'Loss/classification_loss': 0.1066941,\n",
      " 'Loss/localization_loss': 0.07948478,\n",
      " 'Loss/regularization_loss': 0.15551347,\n",
      " 'Loss/total_loss': 0.34169236,\n",
      " 'learning_rate': 0.074666604}\n",
      "INFO:tensorflow:Step 1000 per-step time 0.281s\n",
      "I0402 18:54:41.683045 4379510144 model_lib_v2.py:705] Step 1000 per-step time 0.281s\n",
      "INFO:tensorflow:{'Loss/classification_loss': 0.22704156,\n",
      " 'Loss/localization_loss': 0.07022243,\n",
      " 'Loss/regularization_loss': 0.15492588,\n",
      " 'Loss/total_loss': 0.45218986,\n",
      " 'learning_rate': 0.08}\n",
      "I0402 18:54:41.684421 4379510144 model_lib_v2.py:708] {'Loss/classification_loss': 0.22704156,\n",
      " 'Loss/localization_loss': 0.07022243,\n",
      " 'Loss/regularization_loss': 0.15492588,\n",
      " 'Loss/total_loss': 0.45218986,\n",
      " 'learning_rate': 0.08}\n",
      "INFO:tensorflow:Step 1100 per-step time 0.231s\n",
      "I0402 18:55:04.806265 4379510144 model_lib_v2.py:705] Step 1100 per-step time 0.231s\n",
      "INFO:tensorflow:{'Loss/classification_loss': 0.08475901,\n",
      " 'Loss/localization_loss': 0.07422144,\n",
      " 'Loss/regularization_loss': 0.1542521,\n",
      " 'Loss/total_loss': 0.31323254,\n",
      " 'learning_rate': 0.07999918}\n",
      "I0402 18:55:04.807518 4379510144 model_lib_v2.py:708] {'Loss/classification_loss': 0.08475901,\n",
      " 'Loss/localization_loss': 0.07422144,\n",
      " 'Loss/regularization_loss': 0.1542521,\n",
      " 'Loss/total_loss': 0.31323254,\n",
      " 'learning_rate': 0.07999918}\n",
      "INFO:tensorflow:Step 1200 per-step time 0.218s\n",
      "I0402 18:55:26.592312 4379510144 model_lib_v2.py:705] Step 1200 per-step time 0.218s\n",
      "INFO:tensorflow:{'Loss/classification_loss': 0.1169997,\n",
      " 'Loss/localization_loss': 0.03127999,\n",
      " 'Loss/regularization_loss': 0.15356019,\n",
      " 'Loss/total_loss': 0.3018399,\n",
      " 'learning_rate': 0.079996705}\n",
      "I0402 18:55:26.593767 4379510144 model_lib_v2.py:708] {'Loss/classification_loss': 0.1169997,\n",
      " 'Loss/localization_loss': 0.03127999,\n",
      " 'Loss/regularization_loss': 0.15356019,\n",
      " 'Loss/total_loss': 0.3018399,\n",
      " 'learning_rate': 0.079996705}\n",
      "INFO:tensorflow:Step 1300 per-step time 0.258s\n",
      "I0402 18:55:52.447044 4379510144 model_lib_v2.py:705] Step 1300 per-step time 0.258s\n",
      "INFO:tensorflow:{'Loss/classification_loss': 0.1038886,\n",
      " 'Loss/localization_loss': 0.043301698,\n",
      " 'Loss/regularization_loss': 0.15288062,\n",
      " 'Loss/total_loss': 0.30007094,\n",
      " 'learning_rate': 0.0799926}\n",
      "I0402 18:55:52.448121 4379510144 model_lib_v2.py:708] {'Loss/classification_loss': 0.1038886,\n",
      " 'Loss/localization_loss': 0.043301698,\n",
      " 'Loss/regularization_loss': 0.15288062,\n",
      " 'Loss/total_loss': 0.30007094,\n",
      " 'learning_rate': 0.0799926}\n",
      "INFO:tensorflow:Step 1400 per-step time 0.224s\n",
      "I0402 18:56:14.873128 4379510144 model_lib_v2.py:705] Step 1400 per-step time 0.224s\n",
      "INFO:tensorflow:{'Loss/classification_loss': 0.07927345,\n",
      " 'Loss/localization_loss': 0.051370926,\n",
      " 'Loss/regularization_loss': 0.15217532,\n",
      " 'Loss/total_loss': 0.2828197,\n",
      " 'learning_rate': 0.07998685}\n",
      "I0402 18:56:14.874401 4379510144 model_lib_v2.py:708] {'Loss/classification_loss': 0.07927345,\n",
      " 'Loss/localization_loss': 0.051370926,\n",
      " 'Loss/regularization_loss': 0.15217532,\n",
      " 'Loss/total_loss': 0.2828197,\n",
      " 'learning_rate': 0.07998685}\n",
      "INFO:tensorflow:Step 1500 per-step time 0.327s\n",
      "I0402 18:56:47.469398 4379510144 model_lib_v2.py:705] Step 1500 per-step time 0.327s\n",
      "INFO:tensorflow:{'Loss/classification_loss': 0.0756266,\n",
      " 'Loss/localization_loss': 0.0529178,\n",
      " 'Loss/regularization_loss': 0.15144329,\n",
      " 'Loss/total_loss': 0.2799877,\n",
      " 'learning_rate': 0.07997945}\n",
      "I0402 18:56:47.471364 4379510144 model_lib_v2.py:708] {'Loss/classification_loss': 0.0756266,\n",
      " 'Loss/localization_loss': 0.0529178,\n",
      " 'Loss/regularization_loss': 0.15144329,\n",
      " 'Loss/total_loss': 0.2799877,\n",
      " 'learning_rate': 0.07997945}\n",
      "INFO:tensorflow:Step 1600 per-step time 0.229s\n",
      "I0402 18:57:10.336015 4379510144 model_lib_v2.py:705] Step 1600 per-step time 0.229s\n",
      "INFO:tensorflow:{'Loss/classification_loss': 0.03632967,\n",
      " 'Loss/localization_loss': 0.023887346,\n",
      " 'Loss/regularization_loss': 0.15069129,\n",
      " 'Loss/total_loss': 0.2109083,\n",
      " 'learning_rate': 0.079970405}\n",
      "I0402 18:57:10.336937 4379510144 model_lib_v2.py:708] {'Loss/classification_loss': 0.03632967,\n",
      " 'Loss/localization_loss': 0.023887346,\n",
      " 'Loss/regularization_loss': 0.15069129,\n",
      " 'Loss/total_loss': 0.2109083,\n",
      " 'learning_rate': 0.079970405}\n",
      "INFO:tensorflow:Step 1700 per-step time 0.245s\n",
      "I0402 18:57:34.842081 4379510144 model_lib_v2.py:705] Step 1700 per-step time 0.245s\n",
      "INFO:tensorflow:{'Loss/classification_loss': 0.078645185,\n",
      " 'Loss/localization_loss': 0.02363826,\n",
      " 'Loss/regularization_loss': 0.14996026,\n",
      " 'Loss/total_loss': 0.2522437,\n",
      " 'learning_rate': 0.07995972}\n",
      "I0402 18:57:34.842931 4379510144 model_lib_v2.py:708] {'Loss/classification_loss': 0.078645185,\n",
      " 'Loss/localization_loss': 0.02363826,\n",
      " 'Loss/regularization_loss': 0.14996026,\n",
      " 'Loss/total_loss': 0.2522437,\n",
      " 'learning_rate': 0.07995972}\n",
      "INFO:tensorflow:Step 1800 per-step time 0.205s\n",
      "I0402 18:57:55.352704 4379510144 model_lib_v2.py:705] Step 1800 per-step time 0.205s\n",
      "INFO:tensorflow:{'Loss/classification_loss': 0.059070904,\n",
      " 'Loss/localization_loss': 0.030920772,\n",
      " 'Loss/regularization_loss': 0.14922214,\n",
      " 'Loss/total_loss': 0.23921381,\n",
      " 'learning_rate': 0.0799474}\n",
      "I0402 18:57:55.353585 4379510144 model_lib_v2.py:708] {'Loss/classification_loss': 0.059070904,\n",
      " 'Loss/localization_loss': 0.030920772,\n",
      " 'Loss/regularization_loss': 0.14922214,\n",
      " 'Loss/total_loss': 0.23921381,\n",
      " 'learning_rate': 0.0799474}\n",
      "INFO:tensorflow:Step 1900 per-step time 0.193s\n",
      "I0402 18:58:14.670732 4379510144 model_lib_v2.py:705] Step 1900 per-step time 0.193s\n",
      "INFO:tensorflow:{'Loss/classification_loss': 0.05815165,\n",
      " 'Loss/localization_loss': 0.021076135,\n",
      " 'Loss/regularization_loss': 0.14852215,\n",
      " 'Loss/total_loss': 0.22774994,\n",
      " 'learning_rate': 0.07993342}\n",
      "I0402 18:58:14.671442 4379510144 model_lib_v2.py:708] {'Loss/classification_loss': 0.05815165,\n",
      " 'Loss/localization_loss': 0.021076135,\n",
      " 'Loss/regularization_loss': 0.14852215,\n",
      " 'Loss/total_loss': 0.22774994,\n",
      " 'learning_rate': 0.07993342}\n",
      "INFO:tensorflow:Step 2000 per-step time 0.192s\n",
      "I0402 18:58:33.916492 4379510144 model_lib_v2.py:705] Step 2000 per-step time 0.192s\n",
      "INFO:tensorflow:{'Loss/classification_loss': 0.06675079,\n",
      " 'Loss/localization_loss': 0.017906746,\n",
      " 'Loss/regularization_loss': 0.14775614,\n",
      " 'Loss/total_loss': 0.23241368,\n",
      " 'learning_rate': 0.07991781}\n",
      "I0402 18:58:33.917196 4379510144 model_lib_v2.py:708] {'Loss/classification_loss': 0.06675079,\n",
      " 'Loss/localization_loss': 0.017906746,\n",
      " 'Loss/regularization_loss': 0.14775614,\n",
      " 'Loss/total_loss': 0.23241368,\n",
      " 'learning_rate': 0.07991781}\n"
     ]
    }
   ],
   "source": [
    "!{command}"
   ]
  },
  {
   "cell_type": "code",
   "execution_count": null,
   "metadata": {},
   "outputs": [],
   "source": []
  }
 ],
 "metadata": {
  "kernelspec": {
   "display_name": "tfod",
   "language": "python",
   "name": "tfod"
  },
  "language_info": {
   "codemirror_mode": {
    "name": "ipython",
    "version": 3
   },
   "file_extension": ".py",
   "mimetype": "text/x-python",
   "name": "python",
   "nbconvert_exporter": "python",
   "pygments_lexer": "ipython3",
   "version": "3.9.10"
  }
 },
 "nbformat": 4,
 "nbformat_minor": 4
}
