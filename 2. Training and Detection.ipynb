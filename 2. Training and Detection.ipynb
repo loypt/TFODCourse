{
 "cells": [
  {
   "cell_type": "markdown",
   "metadata": {
    "collapsed": true,
    "pycharm": {
     "name": "#%% md\n"
    }
   },
   "source": [
    "## 0. Setup Paths"
   ]
  },
  {
   "cell_type": "code",
   "execution_count": 1,
   "outputs": [],
   "source": [
    "import os"
   ],
   "metadata": {
    "collapsed": false,
    "pycharm": {
     "name": "#%%\n"
    }
   }
  },
  {
   "cell_type": "code",
   "execution_count": 2,
   "outputs": [],
   "source": [
    "CUSTOM_MODEL_NAME = 'my_ssd_mobnet'\n",
    "PRETRAINED_MODEL_NAME = 'ssd_mobilenet_v2_fpnlite_320x320_coco17_tpu-8'\n",
    "PRETRAINED_MODEL_URL = 'http://download.tensorflow.org/models/object_detection/tf2/20200711/ssd_mobilenet_v2_fpnlite_320x320_coco17_tpu-8.tar.gz'\n",
    "TF_RECORD_SCRIPT_NAME = 'generate_tfrecord.py'\n",
    "LABEL_MAP_NAME = 'label_map.pbtxt'"
   ],
   "metadata": {
    "collapsed": false,
    "pycharm": {
     "name": "#%%\n"
    }
   }
  },
  {
   "cell_type": "code",
   "execution_count": 3,
   "outputs": [],
   "source": [
    "paths = {\n",
    "    'WORKSPACE_PATH': os.path.join('Tensorflow', 'workspace'),\n",
    "    'SCRIPTS_PATH': os.path.join('Tensorflow', 'scripts'),\n",
    "    'APIMODEL_PATH': os.path.join('Tensorflow', 'models'),\n",
    "    'ANNOTATION_PATH': os.path.join('Tensorflow', 'workspace', 'annotations'),\n",
    "    'IMAGE_PATH': os.path.join('Tensorflow', 'workspace', 'image'),\n",
    "    'MODEL_PATH': os.path.join('Tensorflow', 'workspace','models'),\n",
    "    'PRETRAINED_MODEL_PATH': os.path.join('Tensorflow', 'workspace','pre-trained-models'),\n",
    "    'CHECKPOINT_PATH': os.path.join('Tensorflow', 'workspace','models',CUSTOM_MODEL_NAME),\n",
    "    'OUTPUT_PATH': os.path.join('Tensorflow', 'workspace','models',CUSTOM_MODEL_NAME, 'export'),\n",
    "    'TFJS_PATH':os.path.join('Tensorflow', 'workspace','models',CUSTOM_MODEL_NAME, 'tfjsexport'),\n",
    "    'TFLITE_PATH':os.path.join('Tensorflow', 'workspace','models',CUSTOM_MODEL_NAME, 'tfliteexport'),\n",
    "    'PROTOC_PATH':os.path.join('Tensorflow','protoc')\n",
    "}"
   ],
   "metadata": {
    "collapsed": false,
    "pycharm": {
     "name": "#%%\n"
    }
   }
  },
  {
   "cell_type": "code",
   "execution_count": 23,
   "outputs": [],
   "source": [
    "files = {\n",
    "    'PIPELINE_CONFIG': os.path.join('Tensorflow', 'workspace', 'models', CUSTOM_MODEL_NAME, 'pipeline.config'),\n",
    "    'TF_RECORD_SCRIPT': os.path.join(paths['SCRIPTS_PATH'], TF_RECORD_SCRIPT_NAME),\n",
    "    'LABELMAP': os.path.join(paths['ANNOTATION_PATH'], LABEL_MAP_NAME)\n",
    "}"
   ],
   "metadata": {
    "collapsed": false,
    "pycharm": {
     "name": "#%%\n"
    }
   }
  },
  {
   "cell_type": "code",
   "execution_count": 5,
   "outputs": [],
   "source": [
    "for path in paths.values():\n",
    "    if not os.path.exists(path):\n",
    "        if os.name == 'posix':\n",
    "            !mkdir -p {path}\n",
    "        if os.name == 'nt':\n",
    "            !mkdir {path}"
   ],
   "metadata": {
    "collapsed": false,
    "pycharm": {
     "name": "#%%\n"
    }
   }
  },
  {
   "cell_type": "markdown",
   "source": [
    "## 1. Download TF Models Pretrained Models from Tensorflow Model Zoo and Install TFOD"
   ],
   "metadata": {
    "collapsed": false,
    "pycharm": {
     "name": "#%% md\n"
    }
   }
  },
  {
   "cell_type": "code",
   "execution_count": 6,
   "outputs": [
    {
     "name": "stdout",
     "output_type": "stream",
     "text": [
      "Requirement already satisfied: wget in /Users/loyio/miniforge3/envs/tfod/lib/python3.9/site-packages (3.2)\r\n"
     ]
    }
   ],
   "source": [
    "!pip install wget"
   ],
   "metadata": {
    "collapsed": false,
    "pycharm": {
     "name": "#%%\n"
    }
   }
  },
  {
   "cell_type": "code",
   "execution_count": 7,
   "outputs": [],
   "source": [
    "import wget"
   ],
   "metadata": {
    "collapsed": false,
    "pycharm": {
     "name": "#%%\n"
    }
   }
  },
  {
   "cell_type": "code",
   "execution_count": 8,
   "outputs": [],
   "source": [
    "if not os.path.exists(os.path.join(paths['APIMODEL_PATH'], 'research', 'object_detection')):\n",
    "    !git clone https://github.com/tensorflow/models {paths['APIMODEL_PATH']}"
   ],
   "metadata": {
    "collapsed": false,
    "pycharm": {
     "name": "#%%\n"
    }
   }
  },
  {
   "cell_type": "code",
   "execution_count": 8,
   "outputs": [
    {
     "name": "stdout",
     "output_type": "stream",
     "text": [
      "Processing /Users/loyio/TFOD/TFODCourse/Tensorflow/models/research\r\n",
      "  Preparing metadata (setup.py) ... \u001B[?25ldone\r\n",
      "\u001B[?25hRequirement already satisfied: avro-python3 in /Users/loyio/miniforge3/envs/tfod/lib/python3.9/site-packages (from object-detection==0.1) (1.10.2)\r\n",
      "Requirement already satisfied: apache-beam in /Users/loyio/miniforge3/envs/tfod/lib/python3.9/site-packages (from object-detection==0.1) (2.36.0)\r\n",
      "Requirement already satisfied: pillow in /Users/loyio/miniforge3/envs/tfod/lib/python3.9/site-packages (from object-detection==0.1) (9.0.1)\r\n",
      "Requirement already satisfied: lxml in /Users/loyio/miniforge3/envs/tfod/lib/python3.9/site-packages (from object-detection==0.1) (4.8.0)\r\n",
      "Requirement already satisfied: matplotlib in /Users/loyio/miniforge3/envs/tfod/lib/python3.9/site-packages (from object-detection==0.1) (3.2.0)\r\n",
      "Requirement already satisfied: Cython in /Users/loyio/miniforge3/envs/tfod/lib/python3.9/site-packages (from object-detection==0.1) (0.29.28)\r\n",
      "Requirement already satisfied: contextlib2 in /Users/loyio/miniforge3/envs/tfod/lib/python3.9/site-packages (from object-detection==0.1) (21.6.0)\r\n",
      "Requirement already satisfied: tf-slim in /Users/loyio/miniforge3/envs/tfod/lib/python3.9/site-packages (from object-detection==0.1) (1.1.0)\r\n",
      "Requirement already satisfied: six in /Users/loyio/miniforge3/envs/tfod/lib/python3.9/site-packages (from object-detection==0.1) (1.16.0)\r\n",
      "Requirement already satisfied: pycocotools in /Users/loyio/miniforge3/envs/tfod/lib/python3.9/site-packages (from object-detection==0.1) (2.0.4)\r\n",
      "Requirement already satisfied: lvis in /Users/loyio/miniforge3/envs/tfod/lib/python3.9/site-packages (from object-detection==0.1) (0.5.3)\r\n",
      "Requirement already satisfied: scipy in /Users/loyio/miniforge3/envs/tfod/lib/python3.9/site-packages (from object-detection==0.1) (1.8.0)\r\n",
      "Requirement already satisfied: pandas in /Users/loyio/miniforge3/envs/tfod/lib/python3.9/site-packages (from object-detection==0.1) (1.4.1)\r\n",
      "Requirement already satisfied: tf-models-official>=2.5.1 in /Users/loyio/miniforge3/envs/tfod/lib/python3.9/site-packages (from object-detection==0.1) (2.5.1)\r\n",
      "Requirement already satisfied: tensorflow_io in /Users/loyio/miniforge3/envs/tfod/lib/python3.9/site-packages (from object-detection==0.1) (0.24.0)\r\n",
      "Requirement already satisfied: keras in /Users/loyio/miniforge3/envs/tfod/lib/python3.9/site-packages (from object-detection==0.1) (2.7.0)\r\n",
      "Requirement already satisfied: oauth2client in /Users/loyio/miniforge3/envs/tfod/lib/python3.9/site-packages (from tf-models-official>=2.5.1->object-detection==0.1) (4.1.3)\r\n",
      "Requirement already satisfied: kaggle>=1.3.9 in /Users/loyio/miniforge3/envs/tfod/lib/python3.9/site-packages (from tf-models-official>=2.5.1->object-detection==0.1) (1.5.12)\r\n",
      "Requirement already satisfied: opencv-python-headless in /Users/loyio/miniforge3/envs/tfod/lib/python3.9/site-packages (from tf-models-official>=2.5.1->object-detection==0.1) (4.5.5.62)\r\n",
      "Requirement already satisfied: seqeval in /Users/loyio/miniforge3/envs/tfod/lib/python3.9/site-packages (from tf-models-official>=2.5.1->object-detection==0.1) (1.2.2)\r\n",
      "Requirement already satisfied: psutil>=5.4.3 in /Users/loyio/miniforge3/envs/tfod/lib/python3.9/site-packages (from tf-models-official>=2.5.1->object-detection==0.1) (5.9.0)\r\n",
      "Requirement already satisfied: tensorflow-hub>=0.6.0 in /Users/loyio/miniforge3/envs/tfod/lib/python3.9/site-packages (from tf-models-official>=2.5.1->object-detection==0.1) (0.12.0)\r\n",
      "Requirement already satisfied: py-cpuinfo>=3.3.0 in /Users/loyio/miniforge3/envs/tfod/lib/python3.9/site-packages (from tf-models-official>=2.5.1->object-detection==0.1) (8.0.0)\r\n",
      "Requirement already satisfied: numpy>=1.15.4 in /Users/loyio/miniforge3/envs/tfod/lib/python3.9/site-packages (from tf-models-official>=2.5.1->object-detection==0.1) (1.21.5)\r\n",
      "Requirement already satisfied: gin-config in /Users/loyio/miniforge3/envs/tfod/lib/python3.9/site-packages (from tf-models-official>=2.5.1->object-detection==0.1) (0.5.0)\r\n",
      "Requirement already satisfied: tensorflow-datasets in /Users/loyio/miniforge3/envs/tfod/lib/python3.9/site-packages (from tf-models-official>=2.5.1->object-detection==0.1) (4.5.2)\r\n",
      "Requirement already satisfied: sacrebleu in /Users/loyio/miniforge3/envs/tfod/lib/python3.9/site-packages (from tf-models-official>=2.5.1->object-detection==0.1) (2.0.0)\r\n",
      "Requirement already satisfied: pyyaml>=5.1 in /Users/loyio/miniforge3/envs/tfod/lib/python3.9/site-packages (from tf-models-official>=2.5.1->object-detection==0.1) (6.0)\r\n",
      "Requirement already satisfied: tensorflow>=2.5.0 in /Users/loyio/miniforge3/envs/tfod/lib/python3.9/site-packages (from tf-models-official>=2.5.1->object-detection==0.1) (2.7.0)\r\n",
      "Requirement already satisfied: sentencepiece in /Users/loyio/miniforge3/envs/tfod/lib/python3.9/site-packages (from tf-models-official>=2.5.1->object-detection==0.1) (0.1.96)\r\n",
      "Requirement already satisfied: google-api-python-client>=1.6.7 in /Users/loyio/miniforge3/envs/tfod/lib/python3.9/site-packages (from tf-models-official>=2.5.1->object-detection==0.1) (2.37.0)\r\n",
      "Requirement already satisfied: tensorflow-model-optimization>=0.4.1 in /Users/loyio/miniforge3/envs/tfod/lib/python3.9/site-packages (from tf-models-official>=2.5.1->object-detection==0.1) (0.7.1)\r\n",
      "Requirement already satisfied: tensorflow-addons in /Users/loyio/miniforge3/envs/tfod/lib/python3.9/site-packages (from tf-models-official>=2.5.1->object-detection==0.1) (0.16.1)\r\n",
      "Requirement already satisfied: pytz>=2020.1 in /Users/loyio/miniforge3/envs/tfod/lib/python3.9/site-packages (from pandas->object-detection==0.1) (2021.3)\r\n",
      "Requirement already satisfied: python-dateutil>=2.8.1 in /Users/loyio/miniforge3/envs/tfod/lib/python3.9/site-packages (from pandas->object-detection==0.1) (2.8.2)\r\n",
      "Requirement already satisfied: absl-py>=0.2.2 in /Users/loyio/miniforge3/envs/tfod/lib/python3.9/site-packages (from tf-slim->object-detection==0.1) (1.0.0)\r\n",
      "Requirement already satisfied: cloudpickle<3,>=2.0.0 in /Users/loyio/miniforge3/envs/tfod/lib/python3.9/site-packages (from apache-beam->object-detection==0.1) (2.0.0)\r\n",
      "Requirement already satisfied: pydot<2,>=1.2.0 in /Users/loyio/miniforge3/envs/tfod/lib/python3.9/site-packages (from apache-beam->object-detection==0.1) (1.4.2)\r\n",
      "Requirement already satisfied: grpcio<2,>=1.29.0 in /Users/loyio/miniforge3/envs/tfod/lib/python3.9/site-packages (from apache-beam->object-detection==0.1) (1.42.0)\r\n",
      "Requirement already satisfied: pyarrow<7.0.0,>=0.15.1 in /Users/loyio/miniforge3/envs/tfod/lib/python3.9/site-packages (from apache-beam->object-detection==0.1) (6.0.1)\r\n",
      "Requirement already satisfied: typing-extensions>=3.7.0 in /Users/loyio/miniforge3/envs/tfod/lib/python3.9/site-packages (from apache-beam->object-detection==0.1) (4.1.1)\r\n",
      "Requirement already satisfied: dill<0.3.2,>=0.3.1.1 in /Users/loyio/miniforge3/envs/tfod/lib/python3.9/site-packages (from apache-beam->object-detection==0.1) (0.3.1.1)\r\n",
      "Requirement already satisfied: httplib2<0.20.0,>=0.8 in /Users/loyio/miniforge3/envs/tfod/lib/python3.9/site-packages (from apache-beam->object-detection==0.1) (0.19.1)\r\n",
      "Requirement already satisfied: pymongo<4.0.0,>=3.8.0 in /Users/loyio/miniforge3/envs/tfod/lib/python3.9/site-packages (from apache-beam->object-detection==0.1) (3.12.3)\r\n",
      "Requirement already satisfied: proto-plus<2,>=1.7.1 in /Users/loyio/miniforge3/envs/tfod/lib/python3.9/site-packages (from apache-beam->object-detection==0.1) (1.20.3)\r\n",
      "Requirement already satisfied: orjson<4.0 in /Users/loyio/miniforge3/envs/tfod/lib/python3.9/site-packages (from apache-beam->object-detection==0.1) (3.6.7)\r\n",
      "Requirement already satisfied: protobuf<4,>=3.12.2 in /Users/loyio/miniforge3/envs/tfod/lib/python3.9/site-packages (from apache-beam->object-detection==0.1) (3.19.4)\r\n",
      "Requirement already satisfied: fastavro<2,>=0.21.4 in /Users/loyio/miniforge3/envs/tfod/lib/python3.9/site-packages (from apache-beam->object-detection==0.1) (1.4.9)\r\n",
      "Requirement already satisfied: hdfs<3.0.0,>=2.1.0 in /Users/loyio/miniforge3/envs/tfod/lib/python3.9/site-packages (from apache-beam->object-detection==0.1) (2.6.0)\r\n",
      "Requirement already satisfied: crcmod<2.0,>=1.7 in /Users/loyio/miniforge3/envs/tfod/lib/python3.9/site-packages (from apache-beam->object-detection==0.1) (1.7)\r\n",
      "Requirement already satisfied: requests<3.0.0,>=2.24.0 in /Users/loyio/miniforge3/envs/tfod/lib/python3.9/site-packages (from apache-beam->object-detection==0.1) (2.27.1)\r\n",
      "Requirement already satisfied: kiwisolver>=1.1.0 in /Users/loyio/miniforge3/envs/tfod/lib/python3.9/site-packages (from lvis->object-detection==0.1) (1.3.2)\r\n",
      "Requirement already satisfied: cycler>=0.10.0 in /Users/loyio/miniforge3/envs/tfod/lib/python3.9/site-packages (from lvis->object-detection==0.1) (0.11.0)\r\n",
      "Requirement already satisfied: opencv-python>=4.1.0.25 in /Users/loyio/miniforge3/envs/tfod/lib/python3.9/site-packages (from lvis->object-detection==0.1) (4.5.5.62)\r\n",
      "Requirement already satisfied: pyparsing>=2.4.0 in /Users/loyio/miniforge3/envs/tfod/lib/python3.9/site-packages (from lvis->object-detection==0.1) (2.4.7)\r\n",
      "Requirement already satisfied: tensorflow-io-gcs-filesystem==0.24.0 in /Users/loyio/miniforge3/envs/tfod/lib/python3.9/site-packages (from tensorflow_io->object-detection==0.1) (0.24.0)\r\n",
      "Requirement already satisfied: google-auth<3.0.0dev,>=1.16.0 in /Users/loyio/miniforge3/envs/tfod/lib/python3.9/site-packages (from google-api-python-client>=1.6.7->tf-models-official>=2.5.1->object-detection==0.1) (1.35.0)\r\n",
      "Requirement already satisfied: uritemplate<5,>=3.0.1 in /Users/loyio/miniforge3/envs/tfod/lib/python3.9/site-packages (from google-api-python-client>=1.6.7->tf-models-official>=2.5.1->object-detection==0.1) (4.1.1)\r\n",
      "Requirement already satisfied: google-auth-httplib2>=0.1.0 in /Users/loyio/miniforge3/envs/tfod/lib/python3.9/site-packages (from google-api-python-client>=1.6.7->tf-models-official>=2.5.1->object-detection==0.1) (0.1.0)\r\n",
      "Requirement already satisfied: google-api-core<3.0.0dev,>=1.21.0 in /Users/loyio/miniforge3/envs/tfod/lib/python3.9/site-packages (from google-api-python-client>=1.6.7->tf-models-official>=2.5.1->object-detection==0.1) (2.5.0)\r\n",
      "Requirement already satisfied: docopt in /Users/loyio/miniforge3/envs/tfod/lib/python3.9/site-packages (from hdfs<3.0.0,>=2.1.0->apache-beam->object-detection==0.1) (0.6.2)\r\n",
      "Requirement already satisfied: urllib3 in /Users/loyio/miniforge3/envs/tfod/lib/python3.9/site-packages (from kaggle>=1.3.9->tf-models-official>=2.5.1->object-detection==0.1) (1.26.8)\r\n",
      "Requirement already satisfied: python-slugify in /Users/loyio/miniforge3/envs/tfod/lib/python3.9/site-packages (from kaggle>=1.3.9->tf-models-official>=2.5.1->object-detection==0.1) (6.0.1)\r\n",
      "Requirement already satisfied: certifi in /Users/loyio/miniforge3/envs/tfod/lib/python3.9/site-packages (from kaggle>=1.3.9->tf-models-official>=2.5.1->object-detection==0.1) (2021.10.8)\r\n",
      "Requirement already satisfied: tqdm in /Users/loyio/miniforge3/envs/tfod/lib/python3.9/site-packages (from kaggle>=1.3.9->tf-models-official>=2.5.1->object-detection==0.1) (4.62.3)\r\n",
      "Requirement already satisfied: pyasn1>=0.1.7 in /Users/loyio/miniforge3/envs/tfod/lib/python3.9/site-packages (from oauth2client->tf-models-official>=2.5.1->object-detection==0.1) (0.4.8)\r\n",
      "Requirement already satisfied: pyasn1-modules>=0.0.5 in /Users/loyio/miniforge3/envs/tfod/lib/python3.9/site-packages (from oauth2client->tf-models-official>=2.5.1->object-detection==0.1) (0.2.7)\r\n",
      "Requirement already satisfied: rsa>=3.1.4 in /Users/loyio/miniforge3/envs/tfod/lib/python3.9/site-packages (from oauth2client->tf-models-official>=2.5.1->object-detection==0.1) (4.8)\r\n",
      "Requirement already satisfied: charset-normalizer~=2.0.0 in /Users/loyio/miniforge3/envs/tfod/lib/python3.9/site-packages (from requests<3.0.0,>=2.24.0->apache-beam->object-detection==0.1) (2.0.12)\r\n",
      "Requirement already satisfied: idna<4,>=2.5 in /Users/loyio/miniforge3/envs/tfod/lib/python3.9/site-packages (from requests<3.0.0,>=2.24.0->apache-beam->object-detection==0.1) (3.3)\r\n",
      "Requirement already satisfied: keras-preprocessing>=1.1.1 in /Users/loyio/miniforge3/envs/tfod/lib/python3.9/site-packages (from tensorflow>=2.5.0->tf-models-official>=2.5.1->object-detection==0.1) (1.1.2)\r\n",
      "Requirement already satisfied: tensorboard~=2.6 in /Users/loyio/miniforge3/envs/tfod/lib/python3.9/site-packages (from tensorflow>=2.5.0->tf-models-official>=2.5.1->object-detection==0.1) (2.6.0)\r\n",
      "Requirement already satisfied: tensorflow-estimator<2.8,~=2.7.0rc0 in /Users/loyio/miniforge3/envs/tfod/lib/python3.9/site-packages (from tensorflow>=2.5.0->tf-models-official>=2.5.1->object-detection==0.1) (2.7.0)\r\n",
      "Requirement already satisfied: flatbuffers<3.0,>=1.12 in /Users/loyio/miniforge3/envs/tfod/lib/python3.9/site-packages (from tensorflow>=2.5.0->tf-models-official>=2.5.1->object-detection==0.1) (2.0)\r\n",
      "Requirement already satisfied: termcolor>=1.1.0 in /Users/loyio/miniforge3/envs/tfod/lib/python3.9/site-packages (from tensorflow>=2.5.0->tf-models-official>=2.5.1->object-detection==0.1) (1.1.0)\r\n",
      "Requirement already satisfied: h5py>=2.9.0 in /Users/loyio/miniforge3/envs/tfod/lib/python3.9/site-packages (from tensorflow>=2.5.0->tf-models-official>=2.5.1->object-detection==0.1) (3.6.0)\r\n",
      "Requirement already satisfied: opt-einsum>=2.3.2 in /Users/loyio/miniforge3/envs/tfod/lib/python3.9/site-packages (from tensorflow>=2.5.0->tf-models-official>=2.5.1->object-detection==0.1) (3.3.0)\r\n",
      "Requirement already satisfied: google-pasta>=0.1.1 in /Users/loyio/miniforge3/envs/tfod/lib/python3.9/site-packages (from tensorflow>=2.5.0->tf-models-official>=2.5.1->object-detection==0.1) (0.2.0)\r\n",
      "Requirement already satisfied: astunparse>=1.6.0 in /Users/loyio/miniforge3/envs/tfod/lib/python3.9/site-packages (from tensorflow>=2.5.0->tf-models-official>=2.5.1->object-detection==0.1) (1.6.3)\r\n",
      "Requirement already satisfied: wrapt>=1.11.0 in /Users/loyio/miniforge3/envs/tfod/lib/python3.9/site-packages (from tensorflow>=2.5.0->tf-models-official>=2.5.1->object-detection==0.1) (1.13.3)\r\n",
      "Requirement already satisfied: gast<0.5.0,>=0.2.1 in /Users/loyio/miniforge3/envs/tfod/lib/python3.9/site-packages (from tensorflow>=2.5.0->tf-models-official>=2.5.1->object-detection==0.1) (0.4.0)\r\n",
      "Requirement already satisfied: dm-tree~=0.1.1 in /Users/loyio/miniforge3/envs/tfod/lib/python3.9/site-packages (from tensorflow-model-optimization>=0.4.1->tf-models-official>=2.5.1->object-detection==0.1) (0.1.6)\r\n",
      "Requirement already satisfied: colorama in /Users/loyio/miniforge3/envs/tfod/lib/python3.9/site-packages (from sacrebleu->tf-models-official>=2.5.1->object-detection==0.1) (0.4.4)\r\n",
      "Requirement already satisfied: regex in /Users/loyio/miniforge3/envs/tfod/lib/python3.9/site-packages (from sacrebleu->tf-models-official>=2.5.1->object-detection==0.1) (2022.1.18)\r\n",
      "Requirement already satisfied: tabulate>=0.8.9 in /Users/loyio/miniforge3/envs/tfod/lib/python3.9/site-packages (from sacrebleu->tf-models-official>=2.5.1->object-detection==0.1) (0.8.9)\r\n",
      "Requirement already satisfied: portalocker in /Users/loyio/miniforge3/envs/tfod/lib/python3.9/site-packages (from sacrebleu->tf-models-official>=2.5.1->object-detection==0.1) (2.4.0)\r\n",
      "Requirement already satisfied: scikit-learn>=0.21.3 in /Users/loyio/miniforge3/envs/tfod/lib/python3.9/site-packages (from seqeval->tf-models-official>=2.5.1->object-detection==0.1) (1.0.2)\r\n",
      "Requirement already satisfied: typeguard>=2.7 in /Users/loyio/miniforge3/envs/tfod/lib/python3.9/site-packages (from tensorflow-addons->tf-models-official>=2.5.1->object-detection==0.1) (2.13.3)\r\n",
      "Requirement already satisfied: promise in /Users/loyio/miniforge3/envs/tfod/lib/python3.9/site-packages (from tensorflow-datasets->tf-models-official>=2.5.1->object-detection==0.1) (2.3)\r\n",
      "Requirement already satisfied: tensorflow-metadata in /Users/loyio/miniforge3/envs/tfod/lib/python3.9/site-packages (from tensorflow-datasets->tf-models-official>=2.5.1->object-detection==0.1) (1.6.0)\r\n",
      "Requirement already satisfied: wheel<1.0,>=0.23.0 in /Users/loyio/miniforge3/envs/tfod/lib/python3.9/site-packages (from astunparse>=1.6.0->tensorflow>=2.5.0->tf-models-official>=2.5.1->object-detection==0.1) (0.37.1)\r\n",
      "Requirement already satisfied: googleapis-common-protos<2.0dev,>=1.52.0 in /Users/loyio/miniforge3/envs/tfod/lib/python3.9/site-packages (from google-api-core<3.0.0dev,>=1.21.0->google-api-python-client>=1.6.7->tf-models-official>=2.5.1->object-detection==0.1) (1.54.0)\r\n",
      "Requirement already satisfied: setuptools>=40.3.0 in /Users/loyio/miniforge3/envs/tfod/lib/python3.9/site-packages (from google-auth<3.0.0dev,>=1.16.0->google-api-python-client>=1.6.7->tf-models-official>=2.5.1->object-detection==0.1) (60.9.3)\r\n",
      "Requirement already satisfied: cachetools<5.0,>=2.0.0 in /Users/loyio/miniforge3/envs/tfod/lib/python3.9/site-packages (from google-auth<3.0.0dev,>=1.16.0->google-api-python-client>=1.6.7->tf-models-official>=2.5.1->object-detection==0.1) (4.2.4)\r\n",
      "Requirement already satisfied: threadpoolctl>=2.0.0 in /Users/loyio/miniforge3/envs/tfod/lib/python3.9/site-packages (from scikit-learn>=0.21.3->seqeval->tf-models-official>=2.5.1->object-detection==0.1) (3.1.0)\r\n",
      "Requirement already satisfied: joblib>=0.11 in /Users/loyio/miniforge3/envs/tfod/lib/python3.9/site-packages (from scikit-learn>=0.21.3->seqeval->tf-models-official>=2.5.1->object-detection==0.1) (1.1.0)\r\n",
      "Requirement already satisfied: werkzeug>=0.11.15 in /Users/loyio/miniforge3/envs/tfod/lib/python3.9/site-packages (from tensorboard~=2.6->tensorflow>=2.5.0->tf-models-official>=2.5.1->object-detection==0.1) (2.0.3)\r\n",
      "Requirement already satisfied: tensorboard-plugin-wit>=1.6.0 in /Users/loyio/miniforge3/envs/tfod/lib/python3.9/site-packages (from tensorboard~=2.6->tensorflow>=2.5.0->tf-models-official>=2.5.1->object-detection==0.1) (1.8.1)\r\n",
      "Requirement already satisfied: google-auth-oauthlib<0.5,>=0.4.1 in /Users/loyio/miniforge3/envs/tfod/lib/python3.9/site-packages (from tensorboard~=2.6->tensorflow>=2.5.0->tf-models-official>=2.5.1->object-detection==0.1) (0.4.6)\r\n",
      "Requirement already satisfied: tensorboard-data-server<0.7.0,>=0.6.0 in /Users/loyio/miniforge3/envs/tfod/lib/python3.9/site-packages (from tensorboard~=2.6->tensorflow>=2.5.0->tf-models-official>=2.5.1->object-detection==0.1) (0.6.0)\r\n",
      "Requirement already satisfied: markdown>=2.6.8 in /Users/loyio/miniforge3/envs/tfod/lib/python3.9/site-packages (from tensorboard~=2.6->tensorflow>=2.5.0->tf-models-official>=2.5.1->object-detection==0.1) (3.3.6)\r\n",
      "Requirement already satisfied: text-unidecode>=1.3 in /Users/loyio/miniforge3/envs/tfod/lib/python3.9/site-packages (from python-slugify->kaggle>=1.3.9->tf-models-official>=2.5.1->object-detection==0.1) (1.3)\r\n",
      "Requirement already satisfied: requests-oauthlib>=0.7.0 in /Users/loyio/miniforge3/envs/tfod/lib/python3.9/site-packages (from google-auth-oauthlib<0.5,>=0.4.1->tensorboard~=2.6->tensorflow>=2.5.0->tf-models-official>=2.5.1->object-detection==0.1) (1.3.1)\r\n",
      "Requirement already satisfied: importlib-metadata>=4.4 in /Users/loyio/miniforge3/envs/tfod/lib/python3.9/site-packages (from markdown>=2.6.8->tensorboard~=2.6->tensorflow>=2.5.0->tf-models-official>=2.5.1->object-detection==0.1) (4.11.1)\r\n",
      "Requirement already satisfied: zipp>=0.5 in /Users/loyio/miniforge3/envs/tfod/lib/python3.9/site-packages (from importlib-metadata>=4.4->markdown>=2.6.8->tensorboard~=2.6->tensorflow>=2.5.0->tf-models-official>=2.5.1->object-detection==0.1) (3.7.0)\r\n",
      "Requirement already satisfied: oauthlib>=3.0.0 in /Users/loyio/miniforge3/envs/tfod/lib/python3.9/site-packages (from requests-oauthlib>=0.7.0->google-auth-oauthlib<0.5,>=0.4.1->tensorboard~=2.6->tensorflow>=2.5.0->tf-models-official>=2.5.1->object-detection==0.1) (3.2.0)\r\n",
      "Building wheels for collected packages: object-detection\r\n",
      "  Building wheel for object-detection (setup.py) ... \u001B[?25ldone\r\n",
      "\u001B[?25h  Created wheel for object-detection: filename=object_detection-0.1-py3-none-any.whl size=1653456 sha256=19271c6aa6498fcde678b92e1ac4f2c75aeda6835ca86ffb4fc53a8c24af65ee\r\n",
      "  Stored in directory: /private/var/folders/x3/gw8xdf151v92h8bc_bf3tsnc0000gn/T/pip-ephem-wheel-cache-b841mtrd/wheels/9b/99/80/c367f1a61f2f6a964421a0d52e4f569777f5dbed4fbac76a89\r\n",
      "Successfully built object-detection\r\n",
      "Installing collected packages: object-detection\r\n",
      "  Attempting uninstall: object-detection\r\n",
      "    Found existing installation: object-detection 0.1\r\n",
      "    Uninstalling object-detection-0.1:\r\n",
      "      Successfully uninstalled object-detection-0.1\r\n",
      "Successfully installed object-detection-0.1\r\n"
     ]
    }
   ],
   "source": [
    "# Install Tensorflow Object Detection\n",
    "if os.name=='posix':\n",
    "    !cd Tensorflow/models/research && protoc object_detection/protos/*.proto --python_out=. && cp object_detection/packages/tf2/setup.py . && python -m pip install .\n",
    "\n",
    "if os.name=='nt':\n",
    "    url=\"https://github.com/protocolbuffers/protobuf/releases/download/v3.15.6/protoc-3.15.6-win64.zip\"\n",
    "    wget.download(url)\n",
    "    !move protoc-3.15.6-win64.zip {paths['PROTOC_PATH']}\n",
    "    !cd {paths['PROTOC_PATH']} && tar -xf protoc-3.15.6-win64.zip\n",
    "    os.environ['PATH'] += os.pathsep + os.path.abspath(os.path.join(paths['PROTOC_PATH'], 'bin'))\n",
    "    !cd Tensorflow/models/research && protoc object_detection/protos/*.proto --python_out=. && copy object_detection\\\\packages\\\\tf2\\\\setup.py setup.py && python setup.py build && python setup.py install\n",
    "    !cd Tensorflow/models/research/slim && pip install -e ."
   ],
   "metadata": {
    "collapsed": false,
    "pycharm": {
     "name": "#%%\n"
    }
   }
  },
  {
   "cell_type": "code",
   "execution_count": 9,
   "outputs": [],
   "source": [
    "VERIFICATION_SCRIPT = os.path.join(paths['APIMODEL_PATH'], 'research', 'object_detection', 'builders', 'model_builder_tf2_test.py')"
   ],
   "metadata": {
    "collapsed": false,
    "pycharm": {
     "name": "#%%\n"
    }
   }
  },
  {
   "cell_type": "code",
   "execution_count": 10,
   "outputs": [
    {
     "name": "stdout",
     "output_type": "stream",
     "text": [
      "/Users/loyio/miniforge3/envs/tfod/lib/python3.9/site-packages/tensorflow_io/python/ops/__init__.py:98: UserWarning: unable to load libtensorflow_io_plugins.so: unable to open file: libtensorflow_io_plugins.so, from paths: ['/Users/loyio/miniforge3/envs/tfod/lib/python3.9/site-packages/tensorflow_io/python/ops/libtensorflow_io_plugins.so']\r\n",
      "caused by: [\"[Errno 2] The file to load file system plugin from does not exist.: '/Users/loyio/miniforge3/envs/tfod/lib/python3.9/site-packages/tensorflow_io/python/ops/libtensorflow_io_plugins.so'\"]\r\n",
      "  warnings.warn(f\"unable to load libtensorflow_io_plugins.so: {e}\")\r\n",
      "/Users/loyio/miniforge3/envs/tfod/lib/python3.9/site-packages/tensorflow_io/python/ops/__init__.py:104: UserWarning: file system plugins are not loaded: unable to open file: libtensorflow_io.so, from paths: ['/Users/loyio/miniforge3/envs/tfod/lib/python3.9/site-packages/tensorflow_io/python/ops/libtensorflow_io.so']\r\n",
      "caused by: [\"dlopen(/Users/loyio/miniforge3/envs/tfod/lib/python3.9/site-packages/tensorflow_io/python/ops/libtensorflow_io.so, 0x0006): tried: '/Users/loyio/miniforge3/envs/tfod/lib/python3.9/site-packages/tensorflow_io/python/ops/libtensorflow_io.so' (no such file), '/usr/local/lib/libtensorflow_io.so' (no such file), '/usr/lib/libtensorflow_io.so' (no such file)\"]\r\n",
      "  warnings.warn(f\"file system plugins are not loaded: {e}\")\r\n",
      "Running tests under Python 3.9.10: /Users/loyio/miniforge3/envs/tfod/bin/python\r\n",
      "[ RUN      ] ModelBuilderTF2Test.test_create_center_net_deepmac\r\n",
      "/Users/loyio/miniforge3/envs/tfod/lib/python3.9/site-packages/object_detection/builders/model_builder.py:1100: DeprecationWarning: The 'warn' function is deprecated, use 'warning' instead\r\n",
      "  logging.warn(('Building experimental DeepMAC meta-arch.'\r\n",
      "W0220 18:52:42.523290 4372317568 model_builder.py:1100] Building experimental DeepMAC meta-arch. Some features may be omitted.\r\n",
      "INFO:tensorflow:time(__main__.ModelBuilderTF2Test.test_create_center_net_deepmac): 0.25s\r\n",
      "I0220 18:52:42.620193 4372317568 test_util.py:2308] time(__main__.ModelBuilderTF2Test.test_create_center_net_deepmac): 0.25s\r\n",
      "[       OK ] ModelBuilderTF2Test.test_create_center_net_deepmac\r\n",
      "[ RUN      ] ModelBuilderTF2Test.test_create_center_net_model0 (customize_head_params=True)\r\n",
      "INFO:tensorflow:time(__main__.ModelBuilderTF2Test.test_create_center_net_model0 (customize_head_params=True)): 0.28s\r\n",
      "I0220 18:52:42.902705 4372317568 test_util.py:2308] time(__main__.ModelBuilderTF2Test.test_create_center_net_model0 (customize_head_params=True)): 0.28s\r\n",
      "[       OK ] ModelBuilderTF2Test.test_create_center_net_model0 (customize_head_params=True)\r\n",
      "[ RUN      ] ModelBuilderTF2Test.test_create_center_net_model1 (customize_head_params=False)\r\n",
      "INFO:tensorflow:time(__main__.ModelBuilderTF2Test.test_create_center_net_model1 (customize_head_params=False)): 0.16s\r\n",
      "I0220 18:52:43.062797 4372317568 test_util.py:2308] time(__main__.ModelBuilderTF2Test.test_create_center_net_model1 (customize_head_params=False)): 0.16s\r\n",
      "[       OK ] ModelBuilderTF2Test.test_create_center_net_model1 (customize_head_params=False)\r\n",
      "[ RUN      ] ModelBuilderTF2Test.test_create_center_net_model_from_keypoints\r\n",
      "INFO:tensorflow:time(__main__.ModelBuilderTF2Test.test_create_center_net_model_from_keypoints): 0.09s\r\n",
      "I0220 18:52:43.155334 4372317568 test_util.py:2308] time(__main__.ModelBuilderTF2Test.test_create_center_net_model_from_keypoints): 0.09s\r\n",
      "[       OK ] ModelBuilderTF2Test.test_create_center_net_model_from_keypoints\r\n",
      "[ RUN      ] ModelBuilderTF2Test.test_create_center_net_model_mobilenet\r\n",
      "INFO:tensorflow:time(__main__.ModelBuilderTF2Test.test_create_center_net_model_mobilenet): 0.57s\r\n",
      "I0220 18:52:43.730282 4372317568 test_util.py:2308] time(__main__.ModelBuilderTF2Test.test_create_center_net_model_mobilenet): 0.57s\r\n",
      "[       OK ] ModelBuilderTF2Test.test_create_center_net_model_mobilenet\r\n",
      "[ RUN      ] ModelBuilderTF2Test.test_create_experimental_model\r\n",
      "INFO:tensorflow:time(__main__.ModelBuilderTF2Test.test_create_experimental_model): 0.0s\r\n",
      "I0220 18:52:43.730806 4372317568 test_util.py:2308] time(__main__.ModelBuilderTF2Test.test_create_experimental_model): 0.0s\r\n",
      "[       OK ] ModelBuilderTF2Test.test_create_experimental_model\r\n",
      "[ RUN      ] ModelBuilderTF2Test.test_create_faster_rcnn_from_config_with_crop_feature0 (True)\r\n",
      "INFO:tensorflow:time(__main__.ModelBuilderTF2Test.test_create_faster_rcnn_from_config_with_crop_feature0 (True)): 0.01s\r\n",
      "I0220 18:52:43.741305 4372317568 test_util.py:2308] time(__main__.ModelBuilderTF2Test.test_create_faster_rcnn_from_config_with_crop_feature0 (True)): 0.01s\r\n",
      "[       OK ] ModelBuilderTF2Test.test_create_faster_rcnn_from_config_with_crop_feature0 (True)\r\n",
      "[ RUN      ] ModelBuilderTF2Test.test_create_faster_rcnn_from_config_with_crop_feature1 (False)\r\n",
      "INFO:tensorflow:time(__main__.ModelBuilderTF2Test.test_create_faster_rcnn_from_config_with_crop_feature1 (False)): 0.01s\r\n",
      "I0220 18:52:43.746948 4372317568 test_util.py:2308] time(__main__.ModelBuilderTF2Test.test_create_faster_rcnn_from_config_with_crop_feature1 (False)): 0.01s\r\n",
      "[       OK ] ModelBuilderTF2Test.test_create_faster_rcnn_from_config_with_crop_feature1 (False)\r\n",
      "[ RUN      ] ModelBuilderTF2Test.test_create_faster_rcnn_model_from_config_with_example_miner\r\n",
      "INFO:tensorflow:time(__main__.ModelBuilderTF2Test.test_create_faster_rcnn_model_from_config_with_example_miner): 0.01s\r\n",
      "I0220 18:52:43.753403 4372317568 test_util.py:2308] time(__main__.ModelBuilderTF2Test.test_create_faster_rcnn_model_from_config_with_example_miner): 0.01s\r\n",
      "[       OK ] ModelBuilderTF2Test.test_create_faster_rcnn_model_from_config_with_example_miner\r\n",
      "[ RUN      ] ModelBuilderTF2Test.test_create_faster_rcnn_models_from_config_faster_rcnn_with_matmul\r\n",
      "INFO:tensorflow:time(__main__.ModelBuilderTF2Test.test_create_faster_rcnn_models_from_config_faster_rcnn_with_matmul): 0.04s\r\n",
      "I0220 18:52:43.792410 4372317568 test_util.py:2308] time(__main__.ModelBuilderTF2Test.test_create_faster_rcnn_models_from_config_faster_rcnn_with_matmul): 0.04s\r\n",
      "[       OK ] ModelBuilderTF2Test.test_create_faster_rcnn_models_from_config_faster_rcnn_with_matmul\r\n",
      "[ RUN      ] ModelBuilderTF2Test.test_create_faster_rcnn_models_from_config_faster_rcnn_without_matmul\r\n",
      "INFO:tensorflow:time(__main__.ModelBuilderTF2Test.test_create_faster_rcnn_models_from_config_faster_rcnn_without_matmul): 0.04s\r\n",
      "I0220 18:52:43.830053 4372317568 test_util.py:2308] time(__main__.ModelBuilderTF2Test.test_create_faster_rcnn_models_from_config_faster_rcnn_without_matmul): 0.04s\r\n",
      "[       OK ] ModelBuilderTF2Test.test_create_faster_rcnn_models_from_config_faster_rcnn_without_matmul\r\n",
      "[ RUN      ] ModelBuilderTF2Test.test_create_faster_rcnn_models_from_config_mask_rcnn_with_matmul\r\n",
      "INFO:tensorflow:time(__main__.ModelBuilderTF2Test.test_create_faster_rcnn_models_from_config_mask_rcnn_with_matmul): 0.04s\r\n",
      "I0220 18:52:43.869369 4372317568 test_util.py:2308] time(__main__.ModelBuilderTF2Test.test_create_faster_rcnn_models_from_config_mask_rcnn_with_matmul): 0.04s\r\n",
      "[       OK ] ModelBuilderTF2Test.test_create_faster_rcnn_models_from_config_mask_rcnn_with_matmul\r\n",
      "[ RUN      ] ModelBuilderTF2Test.test_create_faster_rcnn_models_from_config_mask_rcnn_without_matmul\r\n",
      "INFO:tensorflow:time(__main__.ModelBuilderTF2Test.test_create_faster_rcnn_models_from_config_mask_rcnn_without_matmul): 0.04s\r\n",
      "I0220 18:52:43.907829 4372317568 test_util.py:2308] time(__main__.ModelBuilderTF2Test.test_create_faster_rcnn_models_from_config_mask_rcnn_without_matmul): 0.04s\r\n",
      "[       OK ] ModelBuilderTF2Test.test_create_faster_rcnn_models_from_config_mask_rcnn_without_matmul\r\n",
      "[ RUN      ] ModelBuilderTF2Test.test_create_rfcn_model_from_config\r\n",
      "INFO:tensorflow:time(__main__.ModelBuilderTF2Test.test_create_rfcn_model_from_config): 0.11s\r\n",
      "I0220 18:52:44.019737 4372317568 test_util.py:2308] time(__main__.ModelBuilderTF2Test.test_create_rfcn_model_from_config): 0.11s\r\n",
      "[       OK ] ModelBuilderTF2Test.test_create_rfcn_model_from_config\r\n",
      "[ RUN      ] ModelBuilderTF2Test.test_create_ssd_fpn_model_from_config\r\n",
      "INFO:tensorflow:time(__main__.ModelBuilderTF2Test.test_create_ssd_fpn_model_from_config): 0.01s\r\n",
      "I0220 18:52:44.030751 4372317568 test_util.py:2308] time(__main__.ModelBuilderTF2Test.test_create_ssd_fpn_model_from_config): 0.01s\r\n",
      "[       OK ] ModelBuilderTF2Test.test_create_ssd_fpn_model_from_config\r\n",
      "[ RUN      ] ModelBuilderTF2Test.test_create_ssd_models_from_config\r\n",
      "I0220 18:52:44.100962 4372317568 ssd_efficientnet_bifpn_feature_extractor.py:145] EfficientDet EfficientNet backbone version: efficientnet-b0\r\n",
      "I0220 18:52:44.101047 4372317568 ssd_efficientnet_bifpn_feature_extractor.py:147] EfficientDet BiFPN num filters: 64\r\n",
      "I0220 18:52:44.101071 4372317568 ssd_efficientnet_bifpn_feature_extractor.py:148] EfficientDet BiFPN num iterations: 3\r\n",
      "I0220 18:52:44.102023 4372317568 efficientnet_model.py:147] round_filter input=32 output=32\r\n",
      "I0220 18:52:44.107432 4372317568 efficientnet_model.py:147] round_filter input=32 output=32\r\n",
      "I0220 18:52:44.107501 4372317568 efficientnet_model.py:147] round_filter input=16 output=16\r\n",
      "I0220 18:52:44.126021 4372317568 efficientnet_model.py:147] round_filter input=16 output=16\r\n",
      "I0220 18:52:44.126111 4372317568 efficientnet_model.py:147] round_filter input=24 output=24\r\n",
      "I0220 18:52:44.176496 4372317568 efficientnet_model.py:147] round_filter input=24 output=24\r\n",
      "I0220 18:52:44.176589 4372317568 efficientnet_model.py:147] round_filter input=40 output=40\r\n",
      "I0220 18:52:44.224985 4372317568 efficientnet_model.py:147] round_filter input=40 output=40\r\n",
      "I0220 18:52:44.225066 4372317568 efficientnet_model.py:147] round_filter input=80 output=80\r\n",
      "I0220 18:52:44.300090 4372317568 efficientnet_model.py:147] round_filter input=80 output=80\r\n",
      "I0220 18:52:44.300175 4372317568 efficientnet_model.py:147] round_filter input=112 output=112\r\n",
      "I0220 18:52:44.373585 4372317568 efficientnet_model.py:147] round_filter input=112 output=112\r\n",
      "I0220 18:52:44.373679 4372317568 efficientnet_model.py:147] round_filter input=192 output=192\r\n",
      "I0220 18:52:44.478810 4372317568 efficientnet_model.py:147] round_filter input=192 output=192\r\n",
      "I0220 18:52:44.478904 4372317568 efficientnet_model.py:147] round_filter input=320 output=320\r\n",
      "I0220 18:52:44.503873 4372317568 efficientnet_model.py:147] round_filter input=1280 output=1280\r\n",
      "I0220 18:52:44.517757 4372317568 efficientnet_model.py:458] Building model efficientnet with params ModelConfig(width_coefficient=1.0, depth_coefficient=1.0, resolution=224, dropout_rate=0.2, blocks=(BlockConfig(input_filters=32, output_filters=16, kernel_size=3, num_repeat=1, expand_ratio=1, strides=(1, 1), se_ratio=0.25, id_skip=True, fused_conv=False, conv_type='depthwise'), BlockConfig(input_filters=16, output_filters=24, kernel_size=3, num_repeat=2, expand_ratio=6, strides=(2, 2), se_ratio=0.25, id_skip=True, fused_conv=False, conv_type='depthwise'), BlockConfig(input_filters=24, output_filters=40, kernel_size=5, num_repeat=2, expand_ratio=6, strides=(2, 2), se_ratio=0.25, id_skip=True, fused_conv=False, conv_type='depthwise'), BlockConfig(input_filters=40, output_filters=80, kernel_size=3, num_repeat=3, expand_ratio=6, strides=(2, 2), se_ratio=0.25, id_skip=True, fused_conv=False, conv_type='depthwise'), BlockConfig(input_filters=80, output_filters=112, kernel_size=5, num_repeat=3, expand_ratio=6, strides=(1, 1), se_ratio=0.25, id_skip=True, fused_conv=False, conv_type='depthwise'), BlockConfig(input_filters=112, output_filters=192, kernel_size=5, num_repeat=4, expand_ratio=6, strides=(2, 2), se_ratio=0.25, id_skip=True, fused_conv=False, conv_type='depthwise'), BlockConfig(input_filters=192, output_filters=320, kernel_size=3, num_repeat=1, expand_ratio=6, strides=(1, 1), se_ratio=0.25, id_skip=True, fused_conv=False, conv_type='depthwise')), stem_base_filters=32, top_base_filters=1280, activation='simple_swish', batch_norm='default', bn_momentum=0.99, bn_epsilon=0.001, weight_decay=5e-06, drop_connect_rate=0.2, depth_divisor=8, min_depth=None, use_se=True, input_channels=3, num_classes=1000, model_name='efficientnet', rescale_input=False, data_format='channels_last', dtype='float32')\r\n",
      "I0220 18:52:44.539808 4372317568 ssd_efficientnet_bifpn_feature_extractor.py:145] EfficientDet EfficientNet backbone version: efficientnet-b1\r\n",
      "I0220 18:52:44.539888 4372317568 ssd_efficientnet_bifpn_feature_extractor.py:147] EfficientDet BiFPN num filters: 88\r\n",
      "I0220 18:52:44.539911 4372317568 ssd_efficientnet_bifpn_feature_extractor.py:148] EfficientDet BiFPN num iterations: 4\r\n",
      "I0220 18:52:44.540545 4372317568 efficientnet_model.py:147] round_filter input=32 output=32\r\n",
      "I0220 18:52:44.545890 4372317568 efficientnet_model.py:147] round_filter input=32 output=32\r\n",
      "I0220 18:52:44.545945 4372317568 efficientnet_model.py:147] round_filter input=16 output=16\r\n",
      "I0220 18:52:44.584936 4372317568 efficientnet_model.py:147] round_filter input=16 output=16\r\n",
      "I0220 18:52:44.585026 4372317568 efficientnet_model.py:147] round_filter input=24 output=24\r\n",
      "I0220 18:52:44.659393 4372317568 efficientnet_model.py:147] round_filter input=24 output=24\r\n",
      "I0220 18:52:44.659486 4372317568 efficientnet_model.py:147] round_filter input=40 output=40\r\n",
      "I0220 18:52:44.735049 4372317568 efficientnet_model.py:147] round_filter input=40 output=40\r\n",
      "I0220 18:52:44.735195 4372317568 efficientnet_model.py:147] round_filter input=80 output=80\r\n",
      "I0220 18:52:44.834799 4372317568 efficientnet_model.py:147] round_filter input=80 output=80\r\n",
      "I0220 18:52:44.834882 4372317568 efficientnet_model.py:147] round_filter input=112 output=112\r\n",
      "I0220 18:52:44.938453 4372317568 efficientnet_model.py:147] round_filter input=112 output=112\r\n",
      "I0220 18:52:44.938541 4372317568 efficientnet_model.py:147] round_filter input=192 output=192\r\n",
      "I0220 18:52:45.079912 4372317568 efficientnet_model.py:147] round_filter input=192 output=192\r\n",
      "I0220 18:52:45.079998 4372317568 efficientnet_model.py:147] round_filter input=320 output=320\r\n",
      "I0220 18:52:45.140833 4372317568 efficientnet_model.py:147] round_filter input=1280 output=1280\r\n",
      "I0220 18:52:45.153977 4372317568 efficientnet_model.py:458] Building model efficientnet with params ModelConfig(width_coefficient=1.0, depth_coefficient=1.1, resolution=240, dropout_rate=0.2, blocks=(BlockConfig(input_filters=32, output_filters=16, kernel_size=3, num_repeat=1, expand_ratio=1, strides=(1, 1), se_ratio=0.25, id_skip=True, fused_conv=False, conv_type='depthwise'), BlockConfig(input_filters=16, output_filters=24, kernel_size=3, num_repeat=2, expand_ratio=6, strides=(2, 2), se_ratio=0.25, id_skip=True, fused_conv=False, conv_type='depthwise'), BlockConfig(input_filters=24, output_filters=40, kernel_size=5, num_repeat=2, expand_ratio=6, strides=(2, 2), se_ratio=0.25, id_skip=True, fused_conv=False, conv_type='depthwise'), BlockConfig(input_filters=40, output_filters=80, kernel_size=3, num_repeat=3, expand_ratio=6, strides=(2, 2), se_ratio=0.25, id_skip=True, fused_conv=False, conv_type='depthwise'), BlockConfig(input_filters=80, output_filters=112, kernel_size=5, num_repeat=3, expand_ratio=6, strides=(1, 1), se_ratio=0.25, id_skip=True, fused_conv=False, conv_type='depthwise'), BlockConfig(input_filters=112, output_filters=192, kernel_size=5, num_repeat=4, expand_ratio=6, strides=(2, 2), se_ratio=0.25, id_skip=True, fused_conv=False, conv_type='depthwise'), BlockConfig(input_filters=192, output_filters=320, kernel_size=3, num_repeat=1, expand_ratio=6, strides=(1, 1), se_ratio=0.25, id_skip=True, fused_conv=False, conv_type='depthwise')), stem_base_filters=32, top_base_filters=1280, activation='simple_swish', batch_norm='default', bn_momentum=0.99, bn_epsilon=0.001, weight_decay=5e-06, drop_connect_rate=0.2, depth_divisor=8, min_depth=None, use_se=True, input_channels=3, num_classes=1000, model_name='efficientnet', rescale_input=False, data_format='channels_last', dtype='float32')\r\n",
      "I0220 18:52:45.180137 4372317568 ssd_efficientnet_bifpn_feature_extractor.py:145] EfficientDet EfficientNet backbone version: efficientnet-b2\r\n",
      "I0220 18:52:45.180212 4372317568 ssd_efficientnet_bifpn_feature_extractor.py:147] EfficientDet BiFPN num filters: 112\r\n",
      "I0220 18:52:45.180237 4372317568 ssd_efficientnet_bifpn_feature_extractor.py:148] EfficientDet BiFPN num iterations: 5\r\n",
      "I0220 18:52:45.180878 4372317568 efficientnet_model.py:147] round_filter input=32 output=32\r\n",
      "I0220 18:52:45.185669 4372317568 efficientnet_model.py:147] round_filter input=32 output=32\r\n",
      "I0220 18:52:45.185757 4372317568 efficientnet_model.py:147] round_filter input=16 output=16\r\n",
      "I0220 18:52:45.223381 4372317568 efficientnet_model.py:147] round_filter input=16 output=16\r\n",
      "I0220 18:52:45.223481 4372317568 efficientnet_model.py:147] round_filter input=24 output=24\r\n",
      "I0220 18:52:45.377051 4372317568 efficientnet_model.py:147] round_filter input=24 output=24\r\n",
      "I0220 18:52:45.377186 4372317568 efficientnet_model.py:147] round_filter input=40 output=48\r\n",
      "I0220 18:52:45.447964 4372317568 efficientnet_model.py:147] round_filter input=40 output=48\r\n",
      "I0220 18:52:45.448055 4372317568 efficientnet_model.py:147] round_filter input=80 output=88\r\n",
      "I0220 18:52:45.547976 4372317568 efficientnet_model.py:147] round_filter input=80 output=88\r\n",
      "I0220 18:52:45.548060 4372317568 efficientnet_model.py:147] round_filter input=112 output=120\r\n",
      "I0220 18:52:45.649307 4372317568 efficientnet_model.py:147] round_filter input=112 output=120\r\n",
      "I0220 18:52:45.649399 4372317568 efficientnet_model.py:147] round_filter input=192 output=208\r\n",
      "I0220 18:52:45.783159 4372317568 efficientnet_model.py:147] round_filter input=192 output=208\r\n",
      "I0220 18:52:45.783241 4372317568 efficientnet_model.py:147] round_filter input=320 output=352\r\n",
      "I0220 18:52:45.844609 4372317568 efficientnet_model.py:147] round_filter input=1280 output=1408\r\n",
      "I0220 18:52:45.859682 4372317568 efficientnet_model.py:458] Building model efficientnet with params ModelConfig(width_coefficient=1.1, depth_coefficient=1.2, resolution=260, dropout_rate=0.3, blocks=(BlockConfig(input_filters=32, output_filters=16, kernel_size=3, num_repeat=1, expand_ratio=1, strides=(1, 1), se_ratio=0.25, id_skip=True, fused_conv=False, conv_type='depthwise'), BlockConfig(input_filters=16, output_filters=24, kernel_size=3, num_repeat=2, expand_ratio=6, strides=(2, 2), se_ratio=0.25, id_skip=True, fused_conv=False, conv_type='depthwise'), BlockConfig(input_filters=24, output_filters=40, kernel_size=5, num_repeat=2, expand_ratio=6, strides=(2, 2), se_ratio=0.25, id_skip=True, fused_conv=False, conv_type='depthwise'), BlockConfig(input_filters=40, output_filters=80, kernel_size=3, num_repeat=3, expand_ratio=6, strides=(2, 2), se_ratio=0.25, id_skip=True, fused_conv=False, conv_type='depthwise'), BlockConfig(input_filters=80, output_filters=112, kernel_size=5, num_repeat=3, expand_ratio=6, strides=(1, 1), se_ratio=0.25, id_skip=True, fused_conv=False, conv_type='depthwise'), BlockConfig(input_filters=112, output_filters=192, kernel_size=5, num_repeat=4, expand_ratio=6, strides=(2, 2), se_ratio=0.25, id_skip=True, fused_conv=False, conv_type='depthwise'), BlockConfig(input_filters=192, output_filters=320, kernel_size=3, num_repeat=1, expand_ratio=6, strides=(1, 1), se_ratio=0.25, id_skip=True, fused_conv=False, conv_type='depthwise')), stem_base_filters=32, top_base_filters=1280, activation='simple_swish', batch_norm='default', bn_momentum=0.99, bn_epsilon=0.001, weight_decay=5e-06, drop_connect_rate=0.2, depth_divisor=8, min_depth=None, use_se=True, input_channels=3, num_classes=1000, model_name='efficientnet', rescale_input=False, data_format='channels_last', dtype='float32')\r\n",
      "I0220 18:52:45.888124 4372317568 ssd_efficientnet_bifpn_feature_extractor.py:145] EfficientDet EfficientNet backbone version: efficientnet-b3\r\n",
      "I0220 18:52:45.888204 4372317568 ssd_efficientnet_bifpn_feature_extractor.py:147] EfficientDet BiFPN num filters: 160\r\n",
      "I0220 18:52:45.888226 4372317568 ssd_efficientnet_bifpn_feature_extractor.py:148] EfficientDet BiFPN num iterations: 6\r\n",
      "I0220 18:52:45.888864 4372317568 efficientnet_model.py:147] round_filter input=32 output=40\r\n",
      "I0220 18:52:45.893738 4372317568 efficientnet_model.py:147] round_filter input=32 output=40\r\n",
      "I0220 18:52:45.893812 4372317568 efficientnet_model.py:147] round_filter input=16 output=24\r\n",
      "I0220 18:52:45.932841 4372317568 efficientnet_model.py:147] round_filter input=16 output=24\r\n",
      "I0220 18:52:45.932934 4372317568 efficientnet_model.py:147] round_filter input=24 output=32\r\n",
      "I0220 18:52:46.008206 4372317568 efficientnet_model.py:147] round_filter input=24 output=32\r\n",
      "I0220 18:52:46.008285 4372317568 efficientnet_model.py:147] round_filter input=40 output=48\r\n",
      "I0220 18:52:46.080539 4372317568 efficientnet_model.py:147] round_filter input=40 output=48\r\n",
      "I0220 18:52:46.080631 4372317568 efficientnet_model.py:147] round_filter input=80 output=96\r\n",
      "I0220 18:52:46.203056 4372317568 efficientnet_model.py:147] round_filter input=80 output=96\r\n",
      "I0220 18:52:46.203148 4372317568 efficientnet_model.py:147] round_filter input=112 output=136\r\n",
      "I0220 18:52:46.330555 4372317568 efficientnet_model.py:147] round_filter input=112 output=136\r\n",
      "I0220 18:52:46.330645 4372317568 efficientnet_model.py:147] round_filter input=192 output=232\r\n",
      "I0220 18:52:46.490365 4372317568 efficientnet_model.py:147] round_filter input=192 output=232\r\n",
      "I0220 18:52:46.490453 4372317568 efficientnet_model.py:147] round_filter input=320 output=384\r\n",
      "I0220 18:52:46.553285 4372317568 efficientnet_model.py:147] round_filter input=1280 output=1536\r\n",
      "I0220 18:52:46.569345 4372317568 efficientnet_model.py:458] Building model efficientnet with params ModelConfig(width_coefficient=1.2, depth_coefficient=1.4, resolution=300, dropout_rate=0.3, blocks=(BlockConfig(input_filters=32, output_filters=16, kernel_size=3, num_repeat=1, expand_ratio=1, strides=(1, 1), se_ratio=0.25, id_skip=True, fused_conv=False, conv_type='depthwise'), BlockConfig(input_filters=16, output_filters=24, kernel_size=3, num_repeat=2, expand_ratio=6, strides=(2, 2), se_ratio=0.25, id_skip=True, fused_conv=False, conv_type='depthwise'), BlockConfig(input_filters=24, output_filters=40, kernel_size=5, num_repeat=2, expand_ratio=6, strides=(2, 2), se_ratio=0.25, id_skip=True, fused_conv=False, conv_type='depthwise'), BlockConfig(input_filters=40, output_filters=80, kernel_size=3, num_repeat=3, expand_ratio=6, strides=(2, 2), se_ratio=0.25, id_skip=True, fused_conv=False, conv_type='depthwise'), BlockConfig(input_filters=80, output_filters=112, kernel_size=5, num_repeat=3, expand_ratio=6, strides=(1, 1), se_ratio=0.25, id_skip=True, fused_conv=False, conv_type='depthwise'), BlockConfig(input_filters=112, output_filters=192, kernel_size=5, num_repeat=4, expand_ratio=6, strides=(2, 2), se_ratio=0.25, id_skip=True, fused_conv=False, conv_type='depthwise'), BlockConfig(input_filters=192, output_filters=320, kernel_size=3, num_repeat=1, expand_ratio=6, strides=(1, 1), se_ratio=0.25, id_skip=True, fused_conv=False, conv_type='depthwise')), stem_base_filters=32, top_base_filters=1280, activation='simple_swish', batch_norm='default', bn_momentum=0.99, bn_epsilon=0.001, weight_decay=5e-06, drop_connect_rate=0.2, depth_divisor=8, min_depth=None, use_se=True, input_channels=3, num_classes=1000, model_name='efficientnet', rescale_input=False, data_format='channels_last', dtype='float32')\r\n",
      "I0220 18:52:46.600421 4372317568 ssd_efficientnet_bifpn_feature_extractor.py:145] EfficientDet EfficientNet backbone version: efficientnet-b4\r\n",
      "I0220 18:52:46.600530 4372317568 ssd_efficientnet_bifpn_feature_extractor.py:147] EfficientDet BiFPN num filters: 224\r\n",
      "I0220 18:52:46.600582 4372317568 ssd_efficientnet_bifpn_feature_extractor.py:148] EfficientDet BiFPN num iterations: 7\r\n",
      "I0220 18:52:46.601342 4372317568 efficientnet_model.py:147] round_filter input=32 output=48\r\n",
      "I0220 18:52:46.606600 4372317568 efficientnet_model.py:147] round_filter input=32 output=48\r\n",
      "I0220 18:52:46.606675 4372317568 efficientnet_model.py:147] round_filter input=16 output=24\r\n",
      "I0220 18:52:46.644795 4372317568 efficientnet_model.py:147] round_filter input=16 output=24\r\n",
      "I0220 18:52:46.644872 4372317568 efficientnet_model.py:147] round_filter input=24 output=32\r\n",
      "I0220 18:52:46.744210 4372317568 efficientnet_model.py:147] round_filter input=24 output=32\r\n",
      "I0220 18:52:46.744292 4372317568 efficientnet_model.py:147] round_filter input=40 output=56\r\n",
      "I0220 18:52:46.840059 4372317568 efficientnet_model.py:147] round_filter input=40 output=56\r\n",
      "I0220 18:52:46.840143 4372317568 efficientnet_model.py:147] round_filter input=80 output=112\r\n",
      "I0220 18:52:47.088741 4372317568 efficientnet_model.py:147] round_filter input=80 output=112\r\n",
      "I0220 18:52:47.088826 4372317568 efficientnet_model.py:147] round_filter input=112 output=160\r\n",
      "I0220 18:52:47.240059 4372317568 efficientnet_model.py:147] round_filter input=112 output=160\r\n",
      "I0220 18:52:47.240149 4372317568 efficientnet_model.py:147] round_filter input=192 output=272\r\n",
      "I0220 18:52:47.476288 4372317568 efficientnet_model.py:147] round_filter input=192 output=272\r\n",
      "I0220 18:52:47.476371 4372317568 efficientnet_model.py:147] round_filter input=320 output=448\r\n",
      "I0220 18:52:47.544263 4372317568 efficientnet_model.py:147] round_filter input=1280 output=1792\r\n",
      "I0220 18:52:47.561741 4372317568 efficientnet_model.py:458] Building model efficientnet with params ModelConfig(width_coefficient=1.4, depth_coefficient=1.8, resolution=380, dropout_rate=0.4, blocks=(BlockConfig(input_filters=32, output_filters=16, kernel_size=3, num_repeat=1, expand_ratio=1, strides=(1, 1), se_ratio=0.25, id_skip=True, fused_conv=False, conv_type='depthwise'), BlockConfig(input_filters=16, output_filters=24, kernel_size=3, num_repeat=2, expand_ratio=6, strides=(2, 2), se_ratio=0.25, id_skip=True, fused_conv=False, conv_type='depthwise'), BlockConfig(input_filters=24, output_filters=40, kernel_size=5, num_repeat=2, expand_ratio=6, strides=(2, 2), se_ratio=0.25, id_skip=True, fused_conv=False, conv_type='depthwise'), BlockConfig(input_filters=40, output_filters=80, kernel_size=3, num_repeat=3, expand_ratio=6, strides=(2, 2), se_ratio=0.25, id_skip=True, fused_conv=False, conv_type='depthwise'), BlockConfig(input_filters=80, output_filters=112, kernel_size=5, num_repeat=3, expand_ratio=6, strides=(1, 1), se_ratio=0.25, id_skip=True, fused_conv=False, conv_type='depthwise'), BlockConfig(input_filters=112, output_filters=192, kernel_size=5, num_repeat=4, expand_ratio=6, strides=(2, 2), se_ratio=0.25, id_skip=True, fused_conv=False, conv_type='depthwise'), BlockConfig(input_filters=192, output_filters=320, kernel_size=3, num_repeat=1, expand_ratio=6, strides=(1, 1), se_ratio=0.25, id_skip=True, fused_conv=False, conv_type='depthwise')), stem_base_filters=32, top_base_filters=1280, activation='simple_swish', batch_norm='default', bn_momentum=0.99, bn_epsilon=0.001, weight_decay=5e-06, drop_connect_rate=0.2, depth_divisor=8, min_depth=None, use_se=True, input_channels=3, num_classes=1000, model_name='efficientnet', rescale_input=False, data_format='channels_last', dtype='float32')\r\n",
      "I0220 18:52:47.599359 4372317568 ssd_efficientnet_bifpn_feature_extractor.py:145] EfficientDet EfficientNet backbone version: efficientnet-b5\r\n",
      "I0220 18:52:47.599445 4372317568 ssd_efficientnet_bifpn_feature_extractor.py:147] EfficientDet BiFPN num filters: 288\r\n",
      "I0220 18:52:47.599471 4372317568 ssd_efficientnet_bifpn_feature_extractor.py:148] EfficientDet BiFPN num iterations: 7\r\n",
      "I0220 18:52:47.600197 4372317568 efficientnet_model.py:147] round_filter input=32 output=48\r\n",
      "I0220 18:52:47.605476 4372317568 efficientnet_model.py:147] round_filter input=32 output=48\r\n",
      "I0220 18:52:47.605540 4372317568 efficientnet_model.py:147] round_filter input=16 output=24\r\n",
      "I0220 18:52:47.663649 4372317568 efficientnet_model.py:147] round_filter input=16 output=24\r\n",
      "I0220 18:52:47.663737 4372317568 efficientnet_model.py:147] round_filter input=24 output=40\r\n",
      "I0220 18:52:47.791501 4372317568 efficientnet_model.py:147] round_filter input=24 output=40\r\n",
      "I0220 18:52:47.791584 4372317568 efficientnet_model.py:147] round_filter input=40 output=64\r\n",
      "I0220 18:52:47.920305 4372317568 efficientnet_model.py:147] round_filter input=40 output=64\r\n",
      "I0220 18:52:47.920389 4372317568 efficientnet_model.py:147] round_filter input=80 output=128\r\n",
      "I0220 18:52:48.099192 4372317568 efficientnet_model.py:147] round_filter input=80 output=128\r\n",
      "I0220 18:52:48.099276 4372317568 efficientnet_model.py:147] round_filter input=112 output=176\r\n",
      "I0220 18:52:48.285049 4372317568 efficientnet_model.py:147] round_filter input=112 output=176\r\n",
      "I0220 18:52:48.285150 4372317568 efficientnet_model.py:147] round_filter input=192 output=304\r\n",
      "I0220 18:52:48.576825 4372317568 efficientnet_model.py:147] round_filter input=192 output=304\r\n",
      "I0220 18:52:48.576906 4372317568 efficientnet_model.py:147] round_filter input=320 output=512\r\n",
      "I0220 18:52:48.710685 4372317568 efficientnet_model.py:147] round_filter input=1280 output=2048\r\n",
      "I0220 18:52:48.732620 4372317568 efficientnet_model.py:458] Building model efficientnet with params ModelConfig(width_coefficient=1.6, depth_coefficient=2.2, resolution=456, dropout_rate=0.4, blocks=(BlockConfig(input_filters=32, output_filters=16, kernel_size=3, num_repeat=1, expand_ratio=1, strides=(1, 1), se_ratio=0.25, id_skip=True, fused_conv=False, conv_type='depthwise'), BlockConfig(input_filters=16, output_filters=24, kernel_size=3, num_repeat=2, expand_ratio=6, strides=(2, 2), se_ratio=0.25, id_skip=True, fused_conv=False, conv_type='depthwise'), BlockConfig(input_filters=24, output_filters=40, kernel_size=5, num_repeat=2, expand_ratio=6, strides=(2, 2), se_ratio=0.25, id_skip=True, fused_conv=False, conv_type='depthwise'), BlockConfig(input_filters=40, output_filters=80, kernel_size=3, num_repeat=3, expand_ratio=6, strides=(2, 2), se_ratio=0.25, id_skip=True, fused_conv=False, conv_type='depthwise'), BlockConfig(input_filters=80, output_filters=112, kernel_size=5, num_repeat=3, expand_ratio=6, strides=(1, 1), se_ratio=0.25, id_skip=True, fused_conv=False, conv_type='depthwise'), BlockConfig(input_filters=112, output_filters=192, kernel_size=5, num_repeat=4, expand_ratio=6, strides=(2, 2), se_ratio=0.25, id_skip=True, fused_conv=False, conv_type='depthwise'), BlockConfig(input_filters=192, output_filters=320, kernel_size=3, num_repeat=1, expand_ratio=6, strides=(1, 1), se_ratio=0.25, id_skip=True, fused_conv=False, conv_type='depthwise')), stem_base_filters=32, top_base_filters=1280, activation='simple_swish', batch_norm='default', bn_momentum=0.99, bn_epsilon=0.001, weight_decay=5e-06, drop_connect_rate=0.2, depth_divisor=8, min_depth=None, use_se=True, input_channels=3, num_classes=1000, model_name='efficientnet', rescale_input=False, data_format='channels_last', dtype='float32')\r\n",
      "I0220 18:52:48.776732 4372317568 ssd_efficientnet_bifpn_feature_extractor.py:145] EfficientDet EfficientNet backbone version: efficientnet-b6\r\n",
      "I0220 18:52:48.776892 4372317568 ssd_efficientnet_bifpn_feature_extractor.py:147] EfficientDet BiFPN num filters: 384\r\n",
      "I0220 18:52:48.776919 4372317568 ssd_efficientnet_bifpn_feature_extractor.py:148] EfficientDet BiFPN num iterations: 8\r\n",
      "I0220 18:52:48.777637 4372317568 efficientnet_model.py:147] round_filter input=32 output=56\r\n",
      "I0220 18:52:48.783951 4372317568 efficientnet_model.py:147] round_filter input=32 output=56\r\n",
      "I0220 18:52:48.784020 4372317568 efficientnet_model.py:147] round_filter input=16 output=32\r\n",
      "I0220 18:52:48.957868 4372317568 efficientnet_model.py:147] round_filter input=16 output=32\r\n",
      "I0220 18:52:48.957966 4372317568 efficientnet_model.py:147] round_filter input=24 output=40\r\n",
      "I0220 18:52:49.102757 4372317568 efficientnet_model.py:147] round_filter input=24 output=40\r\n",
      "I0220 18:52:49.102856 4372317568 efficientnet_model.py:147] round_filter input=40 output=72\r\n",
      "I0220 18:52:49.242047 4372317568 efficientnet_model.py:147] round_filter input=40 output=72\r\n",
      "I0220 18:52:49.242162 4372317568 efficientnet_model.py:147] round_filter input=80 output=144\r\n",
      "I0220 18:52:49.437842 4372317568 efficientnet_model.py:147] round_filter input=80 output=144\r\n",
      "I0220 18:52:49.437938 4372317568 efficientnet_model.py:147] round_filter input=112 output=200\r\n",
      "I0220 18:52:49.645501 4372317568 efficientnet_model.py:147] round_filter input=112 output=200\r\n",
      "I0220 18:52:49.645593 4372317568 efficientnet_model.py:147] round_filter input=192 output=344\r\n",
      "I0220 18:52:49.982262 4372317568 efficientnet_model.py:147] round_filter input=192 output=344\r\n",
      "I0220 18:52:49.982344 4372317568 efficientnet_model.py:147] round_filter input=320 output=576\r\n",
      "I0220 18:52:50.119808 4372317568 efficientnet_model.py:147] round_filter input=1280 output=2304\r\n",
      "I0220 18:52:50.140622 4372317568 efficientnet_model.py:458] Building model efficientnet with params ModelConfig(width_coefficient=1.8, depth_coefficient=2.6, resolution=528, dropout_rate=0.5, blocks=(BlockConfig(input_filters=32, output_filters=16, kernel_size=3, num_repeat=1, expand_ratio=1, strides=(1, 1), se_ratio=0.25, id_skip=True, fused_conv=False, conv_type='depthwise'), BlockConfig(input_filters=16, output_filters=24, kernel_size=3, num_repeat=2, expand_ratio=6, strides=(2, 2), se_ratio=0.25, id_skip=True, fused_conv=False, conv_type='depthwise'), BlockConfig(input_filters=24, output_filters=40, kernel_size=5, num_repeat=2, expand_ratio=6, strides=(2, 2), se_ratio=0.25, id_skip=True, fused_conv=False, conv_type='depthwise'), BlockConfig(input_filters=40, output_filters=80, kernel_size=3, num_repeat=3, expand_ratio=6, strides=(2, 2), se_ratio=0.25, id_skip=True, fused_conv=False, conv_type='depthwise'), BlockConfig(input_filters=80, output_filters=112, kernel_size=5, num_repeat=3, expand_ratio=6, strides=(1, 1), se_ratio=0.25, id_skip=True, fused_conv=False, conv_type='depthwise'), BlockConfig(input_filters=112, output_filters=192, kernel_size=5, num_repeat=4, expand_ratio=6, strides=(2, 2), se_ratio=0.25, id_skip=True, fused_conv=False, conv_type='depthwise'), BlockConfig(input_filters=192, output_filters=320, kernel_size=3, num_repeat=1, expand_ratio=6, strides=(1, 1), se_ratio=0.25, id_skip=True, fused_conv=False, conv_type='depthwise')), stem_base_filters=32, top_base_filters=1280, activation='simple_swish', batch_norm='default', bn_momentum=0.99, bn_epsilon=0.001, weight_decay=5e-06, drop_connect_rate=0.2, depth_divisor=8, min_depth=None, use_se=True, input_channels=3, num_classes=1000, model_name='efficientnet', rescale_input=False, data_format='channels_last', dtype='float32')\r\n",
      "I0220 18:52:50.190855 4372317568 ssd_efficientnet_bifpn_feature_extractor.py:145] EfficientDet EfficientNet backbone version: efficientnet-b7\r\n",
      "I0220 18:52:50.190987 4372317568 ssd_efficientnet_bifpn_feature_extractor.py:147] EfficientDet BiFPN num filters: 384\r\n",
      "I0220 18:52:50.191056 4372317568 ssd_efficientnet_bifpn_feature_extractor.py:148] EfficientDet BiFPN num iterations: 8\r\n",
      "I0220 18:52:50.191911 4372317568 efficientnet_model.py:147] round_filter input=32 output=64\r\n",
      "I0220 18:52:50.197216 4372317568 efficientnet_model.py:147] round_filter input=32 output=64\r\n",
      "I0220 18:52:50.197272 4372317568 efficientnet_model.py:147] round_filter input=16 output=32\r\n",
      "I0220 18:52:50.270193 4372317568 efficientnet_model.py:147] round_filter input=16 output=32\r\n",
      "I0220 18:52:50.270287 4372317568 efficientnet_model.py:147] round_filter input=24 output=48\r\n",
      "I0220 18:52:50.436634 4372317568 efficientnet_model.py:147] round_filter input=24 output=48\r\n",
      "I0220 18:52:50.436720 4372317568 efficientnet_model.py:147] round_filter input=40 output=80\r\n",
      "I0220 18:52:50.614795 4372317568 efficientnet_model.py:147] round_filter input=40 output=80\r\n",
      "I0220 18:52:50.614901 4372317568 efficientnet_model.py:147] round_filter input=80 output=160\r\n",
      "I0220 18:52:51.006783 4372317568 efficientnet_model.py:147] round_filter input=80 output=160\r\n",
      "I0220 18:52:51.006876 4372317568 efficientnet_model.py:147] round_filter input=112 output=224\r\n",
      "I0220 18:52:51.333910 4372317568 efficientnet_model.py:147] round_filter input=112 output=224\r\n",
      "I0220 18:52:51.333990 4372317568 efficientnet_model.py:147] round_filter input=192 output=384\r\n",
      "I0220 18:52:51.880734 4372317568 efficientnet_model.py:147] round_filter input=192 output=384\r\n",
      "I0220 18:52:51.880818 4372317568 efficientnet_model.py:147] round_filter input=320 output=640\r\n",
      "I0220 18:52:52.082852 4372317568 efficientnet_model.py:147] round_filter input=1280 output=2560\r\n",
      "I0220 18:52:52.104762 4372317568 efficientnet_model.py:458] Building model efficientnet with params ModelConfig(width_coefficient=2.0, depth_coefficient=3.1, resolution=600, dropout_rate=0.5, blocks=(BlockConfig(input_filters=32, output_filters=16, kernel_size=3, num_repeat=1, expand_ratio=1, strides=(1, 1), se_ratio=0.25, id_skip=True, fused_conv=False, conv_type='depthwise'), BlockConfig(input_filters=16, output_filters=24, kernel_size=3, num_repeat=2, expand_ratio=6, strides=(2, 2), se_ratio=0.25, id_skip=True, fused_conv=False, conv_type='depthwise'), BlockConfig(input_filters=24, output_filters=40, kernel_size=5, num_repeat=2, expand_ratio=6, strides=(2, 2), se_ratio=0.25, id_skip=True, fused_conv=False, conv_type='depthwise'), BlockConfig(input_filters=40, output_filters=80, kernel_size=3, num_repeat=3, expand_ratio=6, strides=(2, 2), se_ratio=0.25, id_skip=True, fused_conv=False, conv_type='depthwise'), BlockConfig(input_filters=80, output_filters=112, kernel_size=5, num_repeat=3, expand_ratio=6, strides=(1, 1), se_ratio=0.25, id_skip=True, fused_conv=False, conv_type='depthwise'), BlockConfig(input_filters=112, output_filters=192, kernel_size=5, num_repeat=4, expand_ratio=6, strides=(2, 2), se_ratio=0.25, id_skip=True, fused_conv=False, conv_type='depthwise'), BlockConfig(input_filters=192, output_filters=320, kernel_size=3, num_repeat=1, expand_ratio=6, strides=(1, 1), se_ratio=0.25, id_skip=True, fused_conv=False, conv_type='depthwise')), stem_base_filters=32, top_base_filters=1280, activation='simple_swish', batch_norm='default', bn_momentum=0.99, bn_epsilon=0.001, weight_decay=5e-06, drop_connect_rate=0.2, depth_divisor=8, min_depth=None, use_se=True, input_channels=3, num_classes=1000, model_name='efficientnet', rescale_input=False, data_format='channels_last', dtype='float32')\r\n",
      "INFO:tensorflow:time(__main__.ModelBuilderTF2Test.test_create_ssd_models_from_config): 8.13s\r\n",
      "I0220 18:52:52.163763 4372317568 test_util.py:2308] time(__main__.ModelBuilderTF2Test.test_create_ssd_models_from_config): 8.13s\r\n",
      "[       OK ] ModelBuilderTF2Test.test_create_ssd_models_from_config\r\n",
      "[ RUN      ] ModelBuilderTF2Test.test_invalid_faster_rcnn_batchnorm_update\r\n",
      "INFO:tensorflow:time(__main__.ModelBuilderTF2Test.test_invalid_faster_rcnn_batchnorm_update): 0.0s\r\n",
      "I0220 18:52:52.167098 4372317568 test_util.py:2308] time(__main__.ModelBuilderTF2Test.test_invalid_faster_rcnn_batchnorm_update): 0.0s\r\n",
      "[       OK ] ModelBuilderTF2Test.test_invalid_faster_rcnn_batchnorm_update\r\n",
      "[ RUN      ] ModelBuilderTF2Test.test_invalid_first_stage_nms_iou_threshold\r\n",
      "INFO:tensorflow:time(__main__.ModelBuilderTF2Test.test_invalid_first_stage_nms_iou_threshold): 0.0s\r\n",
      "I0220 18:52:52.167849 4372317568 test_util.py:2308] time(__main__.ModelBuilderTF2Test.test_invalid_first_stage_nms_iou_threshold): 0.0s\r\n",
      "[       OK ] ModelBuilderTF2Test.test_invalid_first_stage_nms_iou_threshold\r\n",
      "[ RUN      ] ModelBuilderTF2Test.test_invalid_model_config_proto\r\n",
      "INFO:tensorflow:time(__main__.ModelBuilderTF2Test.test_invalid_model_config_proto): 0.0s\r\n",
      "I0220 18:52:52.168016 4372317568 test_util.py:2308] time(__main__.ModelBuilderTF2Test.test_invalid_model_config_proto): 0.0s\r\n",
      "[       OK ] ModelBuilderTF2Test.test_invalid_model_config_proto\r\n",
      "[ RUN      ] ModelBuilderTF2Test.test_invalid_second_stage_batch_size\r\n",
      "INFO:tensorflow:time(__main__.ModelBuilderTF2Test.test_invalid_second_stage_batch_size): 0.0s\r\n",
      "I0220 18:52:52.168617 4372317568 test_util.py:2308] time(__main__.ModelBuilderTF2Test.test_invalid_second_stage_batch_size): 0.0s\r\n",
      "[       OK ] ModelBuilderTF2Test.test_invalid_second_stage_batch_size\r\n",
      "[ RUN      ] ModelBuilderTF2Test.test_session\r\n",
      "[  SKIPPED ] ModelBuilderTF2Test.test_session\r\n",
      "[ RUN      ] ModelBuilderTF2Test.test_unknown_faster_rcnn_feature_extractor\r\n",
      "INFO:tensorflow:time(__main__.ModelBuilderTF2Test.test_unknown_faster_rcnn_feature_extractor): 0.0s\r\n",
      "I0220 18:52:52.169165 4372317568 test_util.py:2308] time(__main__.ModelBuilderTF2Test.test_unknown_faster_rcnn_feature_extractor): 0.0s\r\n",
      "[       OK ] ModelBuilderTF2Test.test_unknown_faster_rcnn_feature_extractor\r\n",
      "[ RUN      ] ModelBuilderTF2Test.test_unknown_meta_architecture\r\n",
      "INFO:tensorflow:time(__main__.ModelBuilderTF2Test.test_unknown_meta_architecture): 0.0s\r\n",
      "I0220 18:52:52.169309 4372317568 test_util.py:2308] time(__main__.ModelBuilderTF2Test.test_unknown_meta_architecture): 0.0s\r\n",
      "[       OK ] ModelBuilderTF2Test.test_unknown_meta_architecture\r\n",
      "[ RUN      ] ModelBuilderTF2Test.test_unknown_ssd_feature_extractor\r\n",
      "INFO:tensorflow:time(__main__.ModelBuilderTF2Test.test_unknown_ssd_feature_extractor): 0.0s\r\n",
      "I0220 18:52:52.169712 4372317568 test_util.py:2308] time(__main__.ModelBuilderTF2Test.test_unknown_ssd_feature_extractor): 0.0s\r\n",
      "[       OK ] ModelBuilderTF2Test.test_unknown_ssd_feature_extractor\r\n",
      "----------------------------------------------------------------------\r\n",
      "Ran 24 tests in 9.799s\r\n",
      "\r\n",
      "OK (skipped=1)\r\n"
     ]
    }
   ],
   "source": [
    "!python {VERIFICATION_SCRIPT}"
   ],
   "metadata": {
    "collapsed": false,
    "pycharm": {
     "name": "#%%\n"
    }
   }
  },
  {
   "cell_type": "code",
   "execution_count": 28,
   "outputs": [
    {
     "name": "stdout",
     "output_type": "stream",
     "text": [
      "Collecting package metadata (current_repodata.json): - ^C\r\n",
      "failed\r\n",
      "\r\n",
      "CondaError: KeyboardInterrupt\r\n",
      "\r\n",
      "Collecting package metadata (current_repodata.json): done\r\n",
      "Solving environment: \\ \r\n",
      "The environment is inconsistent, please check the package plan carefully\r\n",
      "The following packages are causing the inconsistency:\r\n",
      "\r\n",
      "  - conda-forge/osx-arm64::tensorflow-base==2.7.0=cpu_py39hbdae8f9_0\r\n",
      "  - conda-forge/noarch::bleach==4.1.0=pyhd8ed1ab_0\r\n",
      "  - conda-forge/osx-arm64::jupyter==1.0.0=py39h2804cbe_7\r\n",
      "  - conda-forge/noarch::packaging==21.3=pyhd8ed1ab_0\r\n",
      "  - conda-forge/noarch::ipywidgets==7.6.5=pyhd8ed1ab_0\r\n",
      "  - conda-forge/osx-arm64::nbconvert==6.4.2=py39h2804cbe_0\r\n",
      "  - conda-forge/noarch::keras-preprocessing==1.1.2=pyhd8ed1ab_0\r\n",
      "  - conda-forge/osx-arm64::scipy==1.8.0=py39h5060c3b_1\r\n",
      "  - conda-forge/noarch::opt_einsum==3.3.0=pyhd8ed1ab_1\r\n",
      "  - conda-forge/noarch::notebook==6.4.8=pyha770c72_0\r\n",
      "  - conda-forge/noarch::tensorboard==2.6.0=pyhd8ed1ab_1\r\n",
      "  - conda-forge/osx-arm64::tensorflow-estimator==2.7.0=cpu_py39h91c69d6_0\r\n",
      "  - conda-forge/osx-arm64::widgetsnbextension==3.5.2=py39h2804cbe_1\r\n",
      "  - conda-forge/osx-arm64::h5py==3.6.0=nompi_py39hd982b79_100\r\n",
      "  - conda-forge/osx-arm64::tensorflow==2.7.0=cpu_py39h2839aeb_0\r\n",
      "done\r\n",
      "\r\n",
      "\r\n",
      "==> WARNING: A newer version of conda exists. <==\r\n",
      "  current version: 4.10.3\r\n",
      "  latest version: 4.11.0\r\n",
      "\r\n",
      "Please update conda by running\r\n",
      "\r\n",
      "    $ conda update -n base conda\r\n",
      "\r\n",
      "\r\n",
      "\r\n",
      "## Package Plan ##\r\n",
      "\r\n",
      "  environment location: /Users/loyio/miniforge3/envs/tfod\r\n",
      "\r\n",
      "  added / updated specs:\r\n",
      "    - tensorflow\r\n",
      "\r\n",
      "\r\n",
      "The following NEW packages will be INSTALLED:\r\n",
      "\r\n",
      "  numpy              conda-forge/osx-arm64::numpy-1.22.2-py39h61a45d2_0\r\n",
      "  pyparsing          conda-forge/noarch::pyparsing-3.0.7-pyhd8ed1ab_0\r\n",
      "\r\n",
      "\r\n",
      "Proceed ([y]/n)? ^C\r\n",
      "\r\n",
      "CondaSystemExit: \r\n",
      "Operation aborted.  Exiting.\r\n",
      "\r\n"
     ]
    }
   ],
   "source": [
    "!conda install tensorflow"
   ],
   "metadata": {
    "collapsed": false,
    "pycharm": {
     "name": "#%%\n"
    }
   }
  },
  {
   "cell_type": "code",
   "execution_count": 27,
   "outputs": [
    {
     "name": "stdout",
     "output_type": "stream",
     "text": [
      "Found existing installation: protobuf 3.19.4\r\n",
      "Uninstalling protobuf-3.19.4:\r\n",
      "  Successfully uninstalled protobuf-3.19.4\r\n",
      "Found existing installation: matplotlib 3.5.1\r\n",
      "Uninstalling matplotlib-3.5.1:\r\n",
      "  Successfully uninstalled matplotlib-3.5.1\r\n",
      "Collecting protobuf\r\n",
      "  Downloading protobuf-3.19.4-py2.py3-none-any.whl (162 kB)\r\n",
      "\u001B[2K     \u001B[90m━━━━━━━━━━━━━━━━━━━━━━━━━━━━━━━━━━━━━━━\u001B[0m \u001B[32m162.7/162.7 KB\u001B[0m \u001B[31m1.6 MB/s\u001B[0m eta \u001B[36m0:00:00\u001B[0ma \u001B[36m0:00:01\u001B[0m\r\n",
      "\u001B[?25hCollecting matplotlib==3.2\r\n",
      "  Downloading matplotlib-3.2.0.tar.gz (40.5 MB)\r\n",
      "\u001B[2K     \u001B[90m━━━━━━━━━━━━━━━━━━━━━━━━━━━━━━━━━━━━━━━━\u001B[0m \u001B[32m40.5/40.5 MB\u001B[0m \u001B[31m3.6 MB/s\u001B[0m eta \u001B[36m0:00:00\u001B[0m00:01\u001B[0m00:01\u001B[0m\r\n",
      "\u001B[?25h  Preparing metadata (setup.py) ... \u001B[?25ldone\r\n",
      "\u001B[?25hRequirement already satisfied: cycler>=0.10 in /Users/loyio/miniforge3/envs/tfod/lib/python3.9/site-packages (from matplotlib==3.2) (0.11.0)\r\n",
      "Requirement already satisfied: kiwisolver>=1.0.1 in /Users/loyio/miniforge3/envs/tfod/lib/python3.9/site-packages (from matplotlib==3.2) (1.3.2)\r\n",
      "Requirement already satisfied: numpy>=1.11 in /Users/loyio/miniforge3/envs/tfod/lib/python3.9/site-packages (from matplotlib==3.2) (1.21.5)\r\n",
      "Requirement already satisfied: pyparsing!=2.0.4,!=2.1.2,!=2.1.6,>=2.0.1 in /Users/loyio/miniforge3/envs/tfod/lib/python3.9/site-packages (from matplotlib==3.2) (2.4.7)\r\n",
      "Requirement already satisfied: python-dateutil>=2.1 in /Users/loyio/miniforge3/envs/tfod/lib/python3.9/site-packages (from matplotlib==3.2) (2.8.2)\r\n",
      "Requirement already satisfied: six>=1.5 in /Users/loyio/miniforge3/envs/tfod/lib/python3.9/site-packages (from python-dateutil>=2.1->matplotlib==3.2) (1.16.0)\r\n",
      "Building wheels for collected packages: matplotlib\r\n",
      "  Building wheel for matplotlib (setup.py) ... \u001B[?25ldone\r\n",
      "\u001B[?25h  Created wheel for matplotlib: filename=matplotlib-3.2.0-cp39-cp39-macosx_11_0_arm64.whl size=8511166 sha256=aa3e52f00720f88dd051ac8affef5da2e96d476b3227fd61bae61c5703d35d8d\r\n",
      "  Stored in directory: /Users/loyio/Library/Caches/pip/wheels/64/07/f4/515cff377a68be990e28179c6a93f24b922189b6a6612fc5cd\r\n",
      "Successfully built matplotlib\r\n",
      "Installing collected packages: protobuf, matplotlib\r\n",
      "Successfully installed matplotlib-3.2.0 protobuf-3.19.4\r\n"
     ]
    }
   ],
   "source": [
    "!pip uninstall protobuf matplotlib -y\n",
    "!pip install protobuf matplotlib==3.2"
   ],
   "metadata": {
    "collapsed": false,
    "pycharm": {
     "name": "#%%\n"
    }
   }
  },
  {
   "cell_type": "code",
   "execution_count": 11,
   "outputs": [],
   "source": [
    "import object_detection"
   ],
   "metadata": {
    "collapsed": false,
    "pycharm": {
     "name": "#%%\n"
    }
   }
  },
  {
   "cell_type": "code",
   "execution_count": 12,
   "outputs": [
    {
     "name": "stdout",
     "output_type": "stream",
     "text": [
      "--2022-02-20 18:53:33--  http://download.tensorflow.org/models/object_detection/tf2/20200711/ssd_mobilenet_v2_fpnlite_320x320_coco17_tpu-8.tar.gz\r\n",
      "Resolving download.tensorflow.org (download.tensorflow.org)... 198.18.3.145\r\n",
      "Connecting to download.tensorflow.org (download.tensorflow.org)|198.18.3.145|:80... connected.\r\n",
      "HTTP request sent, awaiting response... 200 OK\r\n",
      "Length: 20515344 (20M) [application/x-tar]\r\n",
      "Saving to: ‘ssd_mobilenet_v2_fpnlite_320x320_coco17_tpu-8.tar.gz’\r\n",
      "\r\n",
      "ssd_mobilenet_v2_fp 100%[===================>]  19.56M  3.26MB/s    in 5.2s    \r\n",
      "\r\n",
      "2022-02-20 18:53:39 (3.76 MB/s) - ‘ssd_mobilenet_v2_fpnlite_320x320_coco17_tpu-8.tar.gz’ saved [20515344/20515344]\r\n",
      "\r\n",
      "x ssd_mobilenet_v2_fpnlite_320x320_coco17_tpu-8/\r\n",
      "x ssd_mobilenet_v2_fpnlite_320x320_coco17_tpu-8/checkpoint/\r\n",
      "x ssd_mobilenet_v2_fpnlite_320x320_coco17_tpu-8/checkpoint/ckpt-0.data-00000-of-00001\r\n",
      "x ssd_mobilenet_v2_fpnlite_320x320_coco17_tpu-8/checkpoint/checkpoint\r\n",
      "x ssd_mobilenet_v2_fpnlite_320x320_coco17_tpu-8/checkpoint/ckpt-0.index\r\n",
      "x ssd_mobilenet_v2_fpnlite_320x320_coco17_tpu-8/pipeline.config\r\n",
      "x ssd_mobilenet_v2_fpnlite_320x320_coco17_tpu-8/saved_model/\r\n",
      "x ssd_mobilenet_v2_fpnlite_320x320_coco17_tpu-8/saved_model/saved_model.pb\r\n",
      "x ssd_mobilenet_v2_fpnlite_320x320_coco17_tpu-8/saved_model/variables/\r\n",
      "x ssd_mobilenet_v2_fpnlite_320x320_coco17_tpu-8/saved_model/variables/variables.data-00000-of-00001\r\n",
      "x ssd_mobilenet_v2_fpnlite_320x320_coco17_tpu-8/saved_model/variables/variables.index\r\n"
     ]
    }
   ],
   "source": [
    "if os.name =='posix':\n",
    "    !wget {PRETRAINED_MODEL_URL}\n",
    "    !mv {PRETRAINED_MODEL_NAME+'.tar.gz'} {paths['PRETRAINED_MODEL_PATH']}\n",
    "    !cd {paths['PRETRAINED_MODEL_PATH']} && tar -zxvf {PRETRAINED_MODEL_NAME+'.tar.gz'}\n",
    "if os.name == 'nt':\n",
    "    wget.download(PRETRAINED_MODEL_URL)\n",
    "    !move {PRETRAINED_MODEL_NAME+'.tar.gz'} {paths['PRETRAINED_MODEL_PATH']}\n",
    "    !cd {paths['PRETRAINED_MODEL_PATH']} && tar -zxvf {PRETRAINED_MODEL_NAME+'.tar.gz'}"
   ],
   "metadata": {
    "collapsed": false,
    "pycharm": {
     "name": "#%%\n"
    }
   }
  },
  {
   "cell_type": "markdown",
   "source": [
    "   ## 2. Create Label Map"
   ],
   "metadata": {
    "collapsed": false,
    "pycharm": {
     "name": "#%% md\n"
    }
   }
  },
  {
   "cell_type": "code",
   "execution_count": 17,
   "outputs": [],
   "source": [
    "labels = [{'name': 'ThumbsUp', 'id': 1}, {'name': 'ThumbsDown', 'id': 2}, {'name': 'ThankYou', 'id': 3}, {'name': 'LiveLong', 'id': 4}]\n",
    "\n",
    "with open(files['LABELMAP'], 'w') as f:\n",
    "    for label in labels:\n",
    "        f.write('item { \\n')\n",
    "        f.write('\\tname: \\'{}\\'\\n'.format(label['name']))\n",
    "        f.write('\\tid:{}\\n'.format(label['id']))\n",
    "        f.write('}\\n')"
   ],
   "metadata": {
    "collapsed": false,
    "pycharm": {
     "name": "#%%\n"
    }
   }
  },
  {
   "cell_type": "markdown",
   "source": [
    "## 3. Create TF records"
   ],
   "metadata": {
    "collapsed": false,
    "pycharm": {
     "name": "#%% md\n"
    }
   }
  },
  {
   "cell_type": "code",
   "execution_count": 18,
   "outputs": [
    {
     "name": "stdout",
     "output_type": "stream",
     "text": [
      "Cloning into 'Tensorflow/scripts'...\r\n",
      "remote: Enumerating objects: 3, done.\u001B[K\r\n",
      "remote: Counting objects: 100% (3/3), done.\u001B[K\r\n",
      "remote: Compressing objects: 100% (2/2), done.\u001B[K\r\n",
      "remote: Total 3 (delta 0), reused 1 (delta 0), pack-reused 0\u001B[K\r\n",
      "Receiving objects: 100% (3/3), done.\r\n"
     ]
    }
   ],
   "source": [
    "if not os.path.exists(files['TF_RECORD_SCRIPT']):\n",
    "    !git clone https://github.com/nicknochnack/GenerateTFRecord {paths['SCRIPTS_PATH']}"
   ],
   "metadata": {
    "collapsed": false,
    "pycharm": {
     "name": "#%%\n"
    }
   }
  },
  {
   "cell_type": "code",
   "execution_count": 19,
   "outputs": [
    {
     "name": "stdout",
     "output_type": "stream",
     "text": [
      "Successfully created the TFRecord file: Tensorflow/workspace/annotations/train.record\r\n",
      "Successfully created the TFRecord file: Tensorflow/workspace/annotations/test.record\r\n"
     ]
    }
   ],
   "source": [
    "!python {files['TF_RECORD_SCRIPT']} -x {os.path.join(paths['IMAGE_PATH'], 'train')} -l {files['LABELMAP']} -o {os.path.join(paths['ANNOTATION_PATH'], 'train.record')}\n",
    "!python {files['TF_RECORD_SCRIPT']} -x {os.path.join(paths['IMAGE_PATH'], 'test')} -l {files['LABELMAP']} -o {os.path.join(paths['ANNOTATION_PATH'], 'test.record')}"
   ],
   "metadata": {
    "collapsed": false,
    "pycharm": {
     "name": "#%%\n"
    }
   }
  },
  {
   "cell_type": "markdown",
   "source": [
    "## 4. Copy Model Config to Training Folder"
   ],
   "metadata": {
    "collapsed": false,
    "pycharm": {
     "name": "#%% md\n"
    }
   }
  },
  {
   "cell_type": "code",
   "execution_count": 20,
   "outputs": [],
   "source": [
    "if os.name =='posix':\n",
    "    !cp {os.path.join(paths['PRETRAINED_MODEL_PATH'], PRETRAINED_MODEL_NAME, 'pipeline.config')} {os.path.join(paths['CHECKPOINT_PATH'])}\n",
    "if os.name == 'nt':\n",
    "    !copy {os.path.join(paths['PRETRAINED_MODEL_PATH'], PRETRAINED_MODEL_NAME, 'pipeline.config')} {os.path.join(paths['CHECKPOINT_PATH'])}"
   ],
   "metadata": {
    "collapsed": false,
    "pycharm": {
     "name": "#%%\n"
    }
   }
  },
  {
   "cell_type": "markdown",
   "source": [
    "## 5. Update Config For Transfer Learning"
   ],
   "metadata": {
    "collapsed": false,
    "pycharm": {
     "name": "#%% md\n"
    }
   }
  },
  {
   "cell_type": "code",
   "execution_count": 21,
   "outputs": [],
   "source": [
    "import tensorflow as tf\n",
    "from object_detection.utils import config_util\n",
    "from object_detection.protos import pipeline_pb2\n",
    "from google.protobuf import text_format"
   ],
   "metadata": {
    "collapsed": false,
    "pycharm": {
     "name": "#%%\n"
    }
   }
  },
  {
   "cell_type": "code",
   "execution_count": 24,
   "outputs": [],
   "source": [
    "config = config_util.get_configs_from_pipeline_file(files['PIPELINE_CONFIG'])"
   ],
   "metadata": {
    "collapsed": false,
    "pycharm": {
     "name": "#%%\n"
    }
   }
  },
  {
   "cell_type": "code",
   "execution_count": 25,
   "outputs": [
    {
     "data": {
      "text/plain": "{'model': ssd {\n   num_classes: 90\n   image_resizer {\n     fixed_shape_resizer {\n       height: 320\n       width: 320\n     }\n   }\n   feature_extractor {\n     type: \"ssd_mobilenet_v2_fpn_keras\"\n     depth_multiplier: 1.0\n     min_depth: 16\n     conv_hyperparams {\n       regularizer {\n         l2_regularizer {\n           weight: 3.9999998989515007e-05\n         }\n       }\n       initializer {\n         random_normal_initializer {\n           mean: 0.0\n           stddev: 0.009999999776482582\n         }\n       }\n       activation: RELU_6\n       batch_norm {\n         decay: 0.996999979019165\n         scale: true\n         epsilon: 0.0010000000474974513\n       }\n     }\n     use_depthwise: true\n     override_base_feature_extractor_hyperparams: true\n     fpn {\n       min_level: 3\n       max_level: 7\n       additional_layer_depth: 128\n     }\n   }\n   box_coder {\n     faster_rcnn_box_coder {\n       y_scale: 10.0\n       x_scale: 10.0\n       height_scale: 5.0\n       width_scale: 5.0\n     }\n   }\n   matcher {\n     argmax_matcher {\n       matched_threshold: 0.5\n       unmatched_threshold: 0.5\n       ignore_thresholds: false\n       negatives_lower_than_unmatched: true\n       force_match_for_each_row: true\n       use_matmul_gather: true\n     }\n   }\n   similarity_calculator {\n     iou_similarity {\n     }\n   }\n   box_predictor {\n     weight_shared_convolutional_box_predictor {\n       conv_hyperparams {\n         regularizer {\n           l2_regularizer {\n             weight: 3.9999998989515007e-05\n           }\n         }\n         initializer {\n           random_normal_initializer {\n             mean: 0.0\n             stddev: 0.009999999776482582\n           }\n         }\n         activation: RELU_6\n         batch_norm {\n           decay: 0.996999979019165\n           scale: true\n           epsilon: 0.0010000000474974513\n         }\n       }\n       depth: 128\n       num_layers_before_predictor: 4\n       kernel_size: 3\n       class_prediction_bias_init: -4.599999904632568\n       share_prediction_tower: true\n       use_depthwise: true\n     }\n   }\n   anchor_generator {\n     multiscale_anchor_generator {\n       min_level: 3\n       max_level: 7\n       anchor_scale: 4.0\n       aspect_ratios: 1.0\n       aspect_ratios: 2.0\n       aspect_ratios: 0.5\n       scales_per_octave: 2\n     }\n   }\n   post_processing {\n     batch_non_max_suppression {\n       score_threshold: 9.99999993922529e-09\n       iou_threshold: 0.6000000238418579\n       max_detections_per_class: 100\n       max_total_detections: 100\n       use_static_shapes: false\n     }\n     score_converter: SIGMOID\n   }\n   normalize_loss_by_num_matches: true\n   loss {\n     localization_loss {\n       weighted_smooth_l1 {\n       }\n     }\n     classification_loss {\n       weighted_sigmoid_focal {\n         gamma: 2.0\n         alpha: 0.25\n       }\n     }\n     classification_weight: 1.0\n     localization_weight: 1.0\n   }\n   encode_background_as_zeros: true\n   normalize_loc_loss_by_codesize: true\n   inplace_batchnorm_update: true\n   freeze_batchnorm: false\n },\n 'train_config': batch_size: 128\n data_augmentation_options {\n   random_horizontal_flip {\n   }\n }\n data_augmentation_options {\n   random_crop_image {\n     min_object_covered: 0.0\n     min_aspect_ratio: 0.75\n     max_aspect_ratio: 3.0\n     min_area: 0.75\n     max_area: 1.0\n     overlap_thresh: 0.0\n   }\n }\n sync_replicas: true\n optimizer {\n   momentum_optimizer {\n     learning_rate {\n       cosine_decay_learning_rate {\n         learning_rate_base: 0.07999999821186066\n         total_steps: 50000\n         warmup_learning_rate: 0.026666000485420227\n         warmup_steps: 1000\n       }\n     }\n     momentum_optimizer_value: 0.8999999761581421\n   }\n   use_moving_average: false\n }\n fine_tune_checkpoint: \"PATH_TO_BE_CONFIGURED\"\n num_steps: 50000\n startup_delay_steps: 0.0\n replicas_to_aggregate: 8\n max_number_of_boxes: 100\n unpad_groundtruth_tensors: false\n fine_tune_checkpoint_type: \"classification\"\n fine_tune_checkpoint_version: V2,\n 'train_input_config': label_map_path: \"PATH_TO_BE_CONFIGURED\"\n tf_record_input_reader {\n   input_path: \"PATH_TO_BE_CONFIGURED\"\n },\n 'eval_config': metrics_set: \"coco_detection_metrics\"\n use_moving_averages: false,\n 'eval_input_configs': [label_map_path: \"PATH_TO_BE_CONFIGURED\"\n shuffle: false\n num_epochs: 1\n tf_record_input_reader {\n   input_path: \"PATH_TO_BE_CONFIGURED\"\n }\n ],\n 'eval_input_config': label_map_path: \"PATH_TO_BE_CONFIGURED\"\n shuffle: false\n num_epochs: 1\n tf_record_input_reader {\n   input_path: \"PATH_TO_BE_CONFIGURED\"\n }}"
     },
     "execution_count": 25,
     "metadata": {},
     "output_type": "execute_result"
    }
   ],
   "source": [
    "config"
   ],
   "metadata": {
    "collapsed": false,
    "pycharm": {
     "name": "#%%\n"
    }
   }
  },
  {
   "cell_type": "code",
   "execution_count": 26,
   "outputs": [],
   "source": [
    "pipeline_config = pipeline_pb2.TrainEvalPipelineConfig()\n",
    "with tf.io.gfile.GFile(files['PIPELINE_CONFIG'], \"r\") as f:\n",
    "    proto_str = f.read()\n",
    "    text_format.Merge(proto_str, pipeline_config)"
   ],
   "metadata": {
    "collapsed": false,
    "pycharm": {
     "name": "#%%\n"
    }
   }
  },
  {
   "cell_type": "code",
   "execution_count": 27,
   "outputs": [],
   "source": [
    "pipeline_config.model.ssd.num_classes = len(labels)\n",
    "pipeline_config.train_config.batch_size = 4\n",
    "pipeline_config.train_config.fine_tune_checkpoint = os.path.join(paths['PRETRAINED_MODEL_PATH'], PRETRAINED_MODEL_NAME, 'checkpoint', 'ckpt-0')\n",
    "pipeline_config.train_config.fine_tune_checkpoint_type = \"detection\"\n",
    "pipeline_config.train_input_reader.label_map_path= files['LABELMAP']\n",
    "pipeline_config.train_input_reader.tf_record_input_reader.input_path[:] = [os.path.join(paths['ANNOTATION_PATH'], 'train.record')]\n",
    "pipeline_config.eval_input_reader[0].label_map_path = files['LABELMAP']\n",
    "pipeline_config.eval_input_reader[0].tf_record_input_reader.input_path[:] = [os.path.join(paths['ANNOTATION_PATH'], 'test.record')]"
   ],
   "metadata": {
    "collapsed": false,
    "pycharm": {
     "name": "#%%\n"
    }
   }
  },
  {
   "cell_type": "code",
   "execution_count": 28,
   "outputs": [],
   "source": [
    "config_text = text_format.MessageToString(pipeline_config)\n",
    "with tf.io.gfile.GFile(files['PIPELINE_CONFIG'], \"wb\") as f:\n",
    "    f.write(config_text)"
   ],
   "metadata": {
    "collapsed": false,
    "pycharm": {
     "name": "#%%\n"
    }
   }
  },
  {
   "cell_type": "markdown",
   "source": [
    "## 6. Train the model"
   ],
   "metadata": {
    "collapsed": false,
    "pycharm": {
     "name": "#%% md\n"
    }
   }
  },
  {
   "cell_type": "code",
   "execution_count": 29,
   "outputs": [],
   "source": [
    "TRAINING_SCRIPT = os.path.join(paths['APIMODEL_PATH'], 'research', 'object_detection', 'model_main_tf2.py')"
   ],
   "metadata": {
    "collapsed": false,
    "pycharm": {
     "name": "#%%\n"
    }
   }
  },
  {
   "cell_type": "code",
   "execution_count": 30,
   "outputs": [],
   "source": [
    "command = \"python {} --model_dir={} --pipeline_config_path={} --num_train_steps=2000\".format(TRAINING_SCRIPT, paths['CHECKPOINT_PATH'],files['PIPELINE_CONFIG'])"
   ],
   "metadata": {
    "collapsed": false,
    "pycharm": {
     "name": "#%%\n"
    }
   }
  },
  {
   "cell_type": "code",
   "execution_count": 31,
   "outputs": [
    {
     "name": "stdout",
     "output_type": "stream",
     "text": [
      "python Tensorflow/models/research/object_detection/model_main_tf2.py --model_dir=Tensorflow/workspace/models/my_ssd_mobnet --pipeline_config_path=Tensorflow/workspace/models/my_ssd_mobnet/pipeline.config --num_train_steps=2000\n"
     ]
    }
   ],
   "source": [
    "print(command)"
   ],
   "metadata": {
    "collapsed": false,
    "pycharm": {
     "name": "#%%\n"
    }
   }
  },
  {
   "cell_type": "code",
   "execution_count": 33,
   "outputs": [
    {
     "name": "stdout",
     "output_type": "stream",
     "text": [
      "^C\r\n",
      "^C\r\n",
      "Traceback (most recent call last):\r\n",
      "  File \"/Users/loyio/TFOD/TFODCourse/Tensorflow/models/research/object_detection/model_main_tf2.py\", line 31, in <module>\r\n",
      "    import tensorflow.compat.v2 as tf\r\n",
      "  File \"/Users/loyio/miniforge3/envs/tfod/lib/python3.9/site-packages/tensorflow/__init__.py\", line 479, in <module>\r\n",
      "    keras._load()\r\n",
      "  File \"/Users/loyio/miniforge3/envs/tfod/lib/python3.9/site-packages/tensorflow/python/util/lazy_loader.py\", line 45, in _load\r\n",
      "    module = importlib.import_module(self.__name__)\r\n",
      "  File \"/Users/loyio/miniforge3/envs/tfod/lib/python3.9/importlib/__init__.py\", line 127, in import_module\r\n",
      "    return _bootstrap._gcd_import(name[level:], package, level)\r\n",
      "  File \"/Users/loyio/miniforge3/envs/tfod/lib/python3.9/site-packages/keras/__init__.py\", line 25, in <module>\r\n",
      "    from keras import models\r\n",
      "  File \"/Users/loyio/miniforge3/envs/tfod/lib/python3.9/site-packages/keras/models.py\", line 20, in <module>\r\n",
      "    from keras import metrics as metrics_module\r\n",
      "  File \"/Users/loyio/miniforge3/envs/tfod/lib/python3.9/site-packages/keras/metrics.py\", line 26, in <module>\r\n",
      "    from keras import activations\r\n",
      "  File \"/Users/loyio/miniforge3/envs/tfod/lib/python3.9/site-packages/keras/activations.py\", line 20, in <module>\r\n",
      "    from keras.layers import advanced_activations\r\n",
      "  File \"/Users/loyio/miniforge3/envs/tfod/lib/python3.9/site-packages/keras/layers/__init__.py\", line 27, in <module>\r\n",
      "    from keras.engine.base_preprocessing_layer import PreprocessingLayer\r\n",
      "  File \"/Users/loyio/miniforge3/envs/tfod/lib/python3.9/site-packages/keras/engine/base_preprocessing_layer.py\", line 19, in <module>\r\n",
      "    from keras.engine import data_adapter\r\n",
      "  File \"/Users/loyio/miniforge3/envs/tfod/lib/python3.9/site-packages/keras/engine/data_adapter.py\", line 37, in <module>\r\n",
      "    import pandas as pd  # pylint: disable=g-import-not-at-top\r\n",
      "  File \"/Users/loyio/miniforge3/envs/tfod/lib/python3.9/site-packages/pandas/__init__.py\", line 22, in <module>\r\n",
      "    from pandas.compat import is_numpy_dev as _is_numpy_dev\r\n",
      "  File \"/Users/loyio/miniforge3/envs/tfod/lib/python3.9/site-packages/pandas/compat/__init__.py\", line 15, in <module>\r\n",
      "    from pandas.compat.numpy import (\r\n",
      "  File \"/Users/loyio/miniforge3/envs/tfod/lib/python3.9/site-packages/pandas/compat/numpy/__init__.py\", line 4, in <module>\r\n",
      "    from pandas.util.version import Version\r\n",
      "  File \"/Users/loyio/miniforge3/envs/tfod/lib/python3.9/site-packages/pandas/util/__init__.py\", line 1, in <module>\r\n",
      "    from pandas.util._decorators import (  # noqa:F401\r\n",
      "  File \"/Users/loyio/miniforge3/envs/tfod/lib/python3.9/site-packages/pandas/util/_decorators.py\", line 14, in <module>\r\n",
      "    from pandas._libs.properties import cache_readonly  # noqa:F401\r\n",
      "  File \"/Users/loyio/miniforge3/envs/tfod/lib/python3.9/site-packages/pandas/_libs/__init__.py\", line 13, in <module>\r\n",
      "    from pandas._libs.interval import Interval\r\n",
      "  File \"pandas/_libs/interval.pyx\", line 1, in init pandas._libs.interval\r\n",
      "  File \"pandas/_libs/hashtable.pyx\", line 1, in init pandas._libs.hashtable\r\n",
      "  File \"pandas/_libs/missing.pyx\", line 1, in init pandas._libs.missing\r\n",
      "  File \"/Users/loyio/miniforge3/envs/tfod/lib/python3.9/site-packages/pandas/_libs/tslibs/__init__.py\", line 47, in <module>\r\n",
      "    from pandas._libs.tslibs.period import (\r\n",
      "KeyboardInterrupt\r\n"
     ]
    }
   ],
   "source": [
    "!{command}"
   ],
   "metadata": {
    "collapsed": false,
    "pycharm": {
     "name": "#%%\n"
    }
   }
  },
  {
   "cell_type": "code",
   "execution_count": null,
   "outputs": [],
   "source": [],
   "metadata": {
    "collapsed": false,
    "pycharm": {
     "name": "#%%\n"
    }
   }
  }
 ],
 "metadata": {
  "kernelspec": {
   "name": "tfod",
   "language": "python",
   "display_name": "tfod"
  },
  "language_info": {
   "codemirror_mode": {
    "name": "ipython",
    "version": 2
   },
   "file_extension": ".py",
   "mimetype": "text/x-python",
   "name": "python",
   "nbconvert_exporter": "python",
   "pygments_lexer": "ipython2",
   "version": "2.7.6"
  }
 },
 "nbformat": 4,
 "nbformat_minor": 0
}